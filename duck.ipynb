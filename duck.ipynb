{
 "cells": [
  {
   "cell_type": "markdown",
   "metadata": {},
   "source": [
    "### 4.2.1 Base Model <a id=\"base_model_2\"/>"
   ]
  },
  {
   "cell_type": "code",
   "execution_count": null,
   "metadata": {},
   "outputs": [],
   "source": [
    "ann_model = MLPClassifier(\n",
    "    hidden_layer_sizes=(100, 100),\n",
    "    activation=\"relu\",\n",
    "    solver=\"adam\",\n",
    "    alpha=1e-06,\n",
    "    max_iter=200,\n",
    "    random_state=0\n",
    ")\n",
    "ann_model.fit(x_train_final, y_train_final)"
   ]
  },
  {
   "cell_type": "code",
   "execution_count": null,
   "metadata": {},
   "outputs": [],
   "source": [
    "ann_accuracy = ann_model.score(x_test_final, y_test_final)\n",
    "ann_train_accuracy = ann_model.score(x_train_final, y_train_final)\n",
    "\n",
    "print(f\"ANN training accuracy: {ann_train_accuracy:.2%}\")\n",
    "print(f\"ANN test accuracy: {ann_accuracy:.2%}\")"
   ]
  },
  {
   "cell_type": "code",
   "execution_count": null,
   "metadata": {},
   "outputs": [],
   "source": [
    "y_test_pred = ann_model.predict(x_test_final)\n",
    "\n",
    "confusion_matrix(y_test_final, y_test_pred)"
   ]
  },
  {
   "cell_type": "code",
   "execution_count": null,
   "metadata": {},
   "outputs": [],
   "source": [
    "print(classification_report(y_test_final, y_test_pred))"
   ]
  },
  {
   "cell_type": "markdown",
   "metadata": {},
   "source": [
    "### 4.2.2 Model Hyperparameter Tuning <a id=\"model_hyperparameter_tuning_2\"/>"
   ]
  },
  {
   "cell_type": "markdown",
   "metadata": {},
   "source": [
    "Tuning 1"
   ]
  },
  {
   "cell_type": "code",
   "execution_count": null,
   "metadata": {},
   "outputs": [],
   "source": [
    "param_grid = {\n",
    "    \"hidden_layer_sizes\": [\n",
    "        50, 100, 200, (100, 50), (100, 100)\n",
    "    ],\n",
    "    \"activation\": [\"relu\"],\n",
    "    \"solver\": [\"adam\"],\n",
    "    \"alpha\": [1e-03],\n",
    "    \"max_iter\": [100],\n",
    "    \"random_state\": [0]\n",
    "}\n",
    "ann_cv_model1 = GridSearchCV(\n",
    "    estimator=MLPClassifier(),\n",
    "    param_grid=param_grid,\n",
    "    verbose=1\n",
    ")\n",
    "ann_cv_model1.fit(x_train_final, y_train_final)"
   ]
  },
  {
   "cell_type": "code",
   "execution_count": null,
   "metadata": {
    "pycharm": {
     "name": "#%%\n"
    }
   },
   "outputs": [
    {
     "name": "stdout",
     "output_type": "stream",
     "text": [
      "Best ANN model training accuracy : 87.10%\n",
      "Best ANN model test accuracy : 80.50%\n"
     ]
    }
   ],
   "source": [
    "ann_cv_train_accuracy1 = ann_cv_model1.best_score_\n",
    "ann_cv_accuracy1 = ann_cv_model1.score(x_test_final, y_test_final)\n",
    "\n",
    "print(f\"Best ANN model training accuracy : {ann_cv_train_accuracy1:.2%}\")\n",
    "print(f\"Best ANN model test accuracy : {ann_cv_accuracy1:.2%}\")"
   ]
  },
  {
   "cell_type": "code",
   "execution_count": null,
   "metadata": {},
   "outputs": [],
   "source": [
    "print(f\"Best ANN parameters: {ann_cv_model1.best_params_}\")"
   ]
  },
  {
   "cell_type": "code",
   "execution_count": null,
   "metadata": {},
   "outputs": [],
   "source": [
    "ann_cv_results1 = pd.DataFrame(ann_cv_model1.cv_results_)\n",
    "ann_cv_results1.sort_values(by=\"mean_test_score\", ascending=False, inplace=True)\n",
    "\n",
    "ann_cv_results1[[\"mean_test_score\", \"params\"]].values"
   ]
  },
  {
   "cell_type": "markdown",
   "metadata": {},
   "source": [
    "Tuning 2"
   ]
  },
  {
   "cell_type": "code",
   "execution_count": null,
   "metadata": {},
   "outputs": [],
   "source": [
    "param_grid = {\n",
    "    \"hidden_layer_sizes\": [\n",
    "        300, (100, 100), (200, 100)\n",
    "    ],\n",
    "    \"activation\": [\"relu\"],\n",
    "    \"solver\": [\"adam\"],\n",
    "    \"alpha\": [1e-03],\n",
    "    \"max_iter\": [100],\n",
    "    \"random_state\": [0]\n",
    "}\n",
    "ann_cv_model2 = GridSearchCV(\n",
    "    estimator=MLPClassifier(),\n",
    "    param_grid=param_grid,\n",
    "    verbose=1\n",
    ")\n",
    "ann_cv_model2.fit(x_train_final, y_train_final)"
   ]
  },
  {
   "cell_type": "code",
   "execution_count": null,
   "metadata": {},
   "outputs": [],
   "source": [
    "ann_cv_train_accuracy2 = ann_cv_model2.best_score_\n",
    "ann_cv_accuracy2 = ann_cv_model2.score(x_test_final, y_test_final)\n",
    "\n",
    "print(f\"Best ANN model training accuracy : {ann_cv_train_accuracy2:.2%}\")\n",
    "print(f\"Best ANN model test accuracy : {ann_cv_accuracy2:.2%}\")"
   ]
  },
  {
   "cell_type": "code",
   "execution_count": null,
   "metadata": {},
   "outputs": [],
   "source": [
    "print(f\"Best ANN parameters: {ann_cv_model2.best_params_}\")"
   ]
  },
  {
   "cell_type": "code",
   "execution_count": null,
   "metadata": {},
   "outputs": [],
   "source": [
    "ann_cv_results2 = pd.DataFrame(ann_cv_model2.cv_results_)\n",
    "ann_cv_results2.sort_values(by=\"mean_test_score\", ascending=False, inplace=True)\n",
    "\n",
    "ann_cv_results2[[\"mean_test_score\", \"params\"]].values"
   ]
  },
  {
   "cell_type": "markdown",
   "metadata": {},
   "source": [
    "Tuning 3"
   ]
  },
  {
   "cell_type": "code",
   "execution_count": null,
   "metadata": {},
   "outputs": [],
   "source": [
    "param_grid = {\n",
    "    \"hidden_layer_sizes\": [(200, 100)],\n",
    "    \"activation\": [\"relu\"],\n",
    "    \"solver\": [\"adam\"],\n",
    "    \"alpha\": [1e-03, 0.01],\n",
    "    \"max_iter\": [100, 150],\n",
    "    \"random_state\": [0]\n",
    "}\n",
    "ann_cv_model3 = GridSearchCV(\n",
    "    estimator=MLPClassifier(),\n",
    "    param_grid=param_grid,\n",
    "    verbose=2\n",
    ")\n",
    "ann_cv_model3.fit(x_train_final, y_train_final)"
   ]
  },
  {
   "cell_type": "code",
   "execution_count": null,
   "metadata": {},
   "outputs": [],
   "source": [
    "ann_cv_train_accuracy4 = ann_cv_model3.best_score_\n",
    "ann_cv_accuracy4 = ann_cv_model3.score(x_test_final, y_test_final)\n",
    "\n",
    "print(f\"Best ANN model training accuracy : {ann_cv_train_accuracy4:.2%}\")\n",
    "print(f\"Best ANN model test accuracy : {ann_cv_accuracy4:.2%}\")"
   ]
  },
  {
   "cell_type": "code",
   "execution_count": null,
   "metadata": {},
   "outputs": [],
   "source": [
    "print(f\"Best ANN parameters: {ann_cv_model3.best_params_}\")"
   ]
  },
  {
   "cell_type": "code",
   "execution_count": null,
   "metadata": {},
   "outputs": [],
   "source": [
    "ann_cv_results4 = pd.DataFrame(ann_cv_model3.cv_results_)\n",
    "ann_cv_results4.sort_values(by=\"mean_test_score\", ascending=False, inplace=True)\n",
    "\n",
    "ann_cv_results4[[\"mean_test_score\", \"params\"]].values"
   ]
  },
  {
   "cell_type": "markdown",
   "metadata": {},
   "source": [
    "Tuning 4"
   ]
  },
  {
   "cell_type": "code",
   "execution_count": null,
   "metadata": {},
   "outputs": [],
   "source": [
    "param_grid = {\n",
    "    \"hidden_layer_sizes\": [(200, 100)],\n",
    "    \"activation\": [\"relu\"],\n",
    "    \"solver\": [\"adam\"],\n",
    "    \"alpha\": [1e-03],\n",
    "    \"max_iter\": [150,200],\n",
    "    \"random_state\": [0]\n",
    "}\n",
    "ann_cv_model4 = GridSearchCV(\n",
    "    estimator=MLPClassifier(),\n",
    "    param_grid=param_grid,\n",
    "    verbose=1\n",
    ")\n",
    "ann_cv_model4.fit(x_train_final, y_train_final)"
   ]
  },
  {
   "cell_type": "code",
   "execution_count": null,
   "metadata": {},
   "outputs": [],
   "source": [
    "ann_cv_train_accuracy4 = ann_cv_model4.best_score_\n",
    "ann_cv_accuracy4 = ann_cv_model4.score(x_test_final, y_test_final)\n",
    "\n",
    "print(f\"Best ANN model training accuracy : {ann_cv_train_accuracy4:.2%}\")\n",
    "print(f\"Best ANN model test accuracy : {ann_cv_accuracy4:.2%}\")"
   ]
  },
  {
   "cell_type": "code",
   "execution_count": null,
   "metadata": {},
   "outputs": [],
   "source": [
    "print(f\"Best ANN parameters: {ann_cv_model4.best_params_}\")"
   ]
  },
  {
   "cell_type": "code",
   "execution_count": null,
   "metadata": {},
   "outputs": [],
   "source": [
    "ann_cv_results5 = pd.DataFrame(ann_cv_model4.cv_results_)\n",
    "ann_cv_results5.sort_values(by=\"mean_test_score\", ascending=False, inplace=True)\n",
    "\n",
    "ann_cv_results5[[\"mean_test_score\", \"params\"]].values"
   ]
  },
  {
   "cell_type": "markdown",
   "metadata": {},
   "source": [
    "### 4.2.3 Final Model <a id=\"final_model_2\"/>"
   ]
  },
  {
   "cell_type": "code",
   "execution_count": null,
   "metadata": {},
   "outputs": [],
   "source": [
    "data = [\n",
    "    [1, f'{ann_cv_train_accuracy1:.2%}',f'{ann_cv_accuracy1:.2%}'], \n",
    "    [2, f'{ann_cv_train_accuracy2:.2%}',f'{ann_cv_accuracy2:.2%}'], \n",
    "    [3, f'{ann_cv_train_accuracy3:.2%}',f'{ann_cv_accuracy3:.2%}'],\n",
    "    [4, f'{ann_cv_train_accuracy4:.2%}',f'{ann_cv_accuracy4:.2%}']\n",
    "]\n",
    "  \n",
    "df = pd.DataFrame(data, columns=['Tuning','Train Accuracy','Test Accuracy'])\n",
    "df"
   ]
  }
 ],
 "metadata": {
  "kernelspec": {
   "display_name": "Python 3.8.10 64-bit",
   "language": "python",
   "name": "python3"
  },
  "language_info": {
   "name": "python",
   "version": "3.8.10"
  },
  "orig_nbformat": 4,
  "vscode": {
   "interpreter": {
    "hash": "aee8b7b246df8f9039afb4144a1f6fd8d2ca17a180786b69acc140d282b71a49"
   }
  }
 },
 "nbformat": 4,
 "nbformat_minor": 2
}
