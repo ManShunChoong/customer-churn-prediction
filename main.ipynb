{
 "cells": [
  {
   "cell_type": "markdown",
   "metadata": {
    "pycharm": {
     "name": "#%% md\n"
    }
   },
   "source": [
    "# ODL Assignment (Solution Development)\n",
    "**Group number**: 15\\\n",
    "**Group leader**: Choong Man Shun (TP051283)\\\n",
    "**Group members**:\n",
    "* Chew Cheng Yong (TP051338)\n",
    "* Wong Poh Yee (TP051079)"
   ]
  },
  {
   "cell_type": "markdown",
   "metadata": {
    "pycharm": {
     "name": "#%% md\n"
    }
   },
   "source": [
    "# Table of Contents\n",
    "[1. Exploratory Data Analysis (EDA)](#eda)\\\n",
    "[2. Data Preprocessing](#data_preprocessing)\\\n",
    "[4. Model Implementation](#model_implementation)\n",
    "- [4.1 ?](#model_1)\n",
    "  - [4.1.1 Base Model](#base_model_1)\n",
    "  - [4.1.2 Model Hyperparameter Tuning](#model_hyperparameter_tuning_1)\n",
    "  - [4.1.3 Final Model](#final_model_1)\n",
    "- [4.2 ?](#model_2)\n",
    "  - [4.2.1 Base Model](#base_model_2)\n",
    "  - [4.2.2 Model Hyperparameter Tuning](#model_hyperparameter_tuning_2)\n",
    "  - [4.2.3 Final Model](#final_model_2)\n",
    "- [4.3 ?](#model_3)\n",
    "  - [4.3.1 Base Model](#base_model_3)\n",
    "  - [4.3.2 Model Hyperparameter Tuning](#model_hyperparameter_tuning_3)\n",
    "  - [4.3.3 Final Model](#final_model_3)"
   ]
  },
  {
   "cell_type": "code",
   "execution_count": 49,
   "metadata": {
    "pycharm": {
     "name": "#%%\n"
    }
   },
   "outputs": [],
   "source": [
    "import pandas as pd\n",
    "import seaborn as sns\n",
    "from imblearn.over_sampling import SMOTE\n",
    "from keras import Sequential\n",
    "from keras.layers import Dense, Dropout, BatchNormalization\n",
    "from matplotlib import pyplot as plt\n",
    "from sklearn.metrics import confusion_matrix, classification_report\n",
    "from sklearn.model_selection import train_test_split, GridSearchCV\n",
    "from sklearn.neural_network import MLPClassifier\n",
    "from sklearn.preprocessing import OneHotEncoder, StandardScaler"
   ]
  },
  {
   "cell_type": "markdown",
   "metadata": {
    "pycharm": {
     "name": "#%% md\n"
    }
   },
   "source": [
    "# 1. Exploratory Data Analysis (EDA) <a id=\"eda\"/>"
   ]
  },
  {
   "cell_type": "code",
   "execution_count": 2,
   "metadata": {
    "pycharm": {
     "name": "#%%\n"
    }
   },
   "outputs": [],
   "source": [
    "df = pd.read_csv('Churn_Modelling.csv')"
   ]
  },
  {
   "cell_type": "code",
   "execution_count": 3,
   "metadata": {
    "pycharm": {
     "name": "#%%\n"
    }
   },
   "outputs": [
    {
     "data": {
      "text/plain": "   RowNumber  CustomerId   Surname  CreditScore Geography  Gender  Age  \\\n0          1    15634602  Hargrave          619    France  Female   42   \n1          2    15647311      Hill          608     Spain  Female   41   \n2          3    15619304      Onio          502    France  Female   42   \n3          4    15701354      Boni          699    France  Female   39   \n4          5    15737888  Mitchell          850     Spain  Female   43   \n\n   Tenure    Balance  NumOfProducts  HasCrCard  IsActiveMember  \\\n0       2       0.00              1          1               1   \n1       1   83807.86              1          0               1   \n2       8  159660.80              3          1               0   \n3       1       0.00              2          0               0   \n4       2  125510.82              1          1               1   \n\n   EstimatedSalary  Exited  \n0        101348.88       1  \n1        112542.58       0  \n2        113931.57       1  \n3         93826.63       0  \n4         79084.10       0  ",
      "text/html": "<div>\n<style scoped>\n    .dataframe tbody tr th:only-of-type {\n        vertical-align: middle;\n    }\n\n    .dataframe tbody tr th {\n        vertical-align: top;\n    }\n\n    .dataframe thead th {\n        text-align: right;\n    }\n</style>\n<table border=\"1\" class=\"dataframe\">\n  <thead>\n    <tr style=\"text-align: right;\">\n      <th></th>\n      <th>RowNumber</th>\n      <th>CustomerId</th>\n      <th>Surname</th>\n      <th>CreditScore</th>\n      <th>Geography</th>\n      <th>Gender</th>\n      <th>Age</th>\n      <th>Tenure</th>\n      <th>Balance</th>\n      <th>NumOfProducts</th>\n      <th>HasCrCard</th>\n      <th>IsActiveMember</th>\n      <th>EstimatedSalary</th>\n      <th>Exited</th>\n    </tr>\n  </thead>\n  <tbody>\n    <tr>\n      <th>0</th>\n      <td>1</td>\n      <td>15634602</td>\n      <td>Hargrave</td>\n      <td>619</td>\n      <td>France</td>\n      <td>Female</td>\n      <td>42</td>\n      <td>2</td>\n      <td>0.00</td>\n      <td>1</td>\n      <td>1</td>\n      <td>1</td>\n      <td>101348.88</td>\n      <td>1</td>\n    </tr>\n    <tr>\n      <th>1</th>\n      <td>2</td>\n      <td>15647311</td>\n      <td>Hill</td>\n      <td>608</td>\n      <td>Spain</td>\n      <td>Female</td>\n      <td>41</td>\n      <td>1</td>\n      <td>83807.86</td>\n      <td>1</td>\n      <td>0</td>\n      <td>1</td>\n      <td>112542.58</td>\n      <td>0</td>\n    </tr>\n    <tr>\n      <th>2</th>\n      <td>3</td>\n      <td>15619304</td>\n      <td>Onio</td>\n      <td>502</td>\n      <td>France</td>\n      <td>Female</td>\n      <td>42</td>\n      <td>8</td>\n      <td>159660.80</td>\n      <td>3</td>\n      <td>1</td>\n      <td>0</td>\n      <td>113931.57</td>\n      <td>1</td>\n    </tr>\n    <tr>\n      <th>3</th>\n      <td>4</td>\n      <td>15701354</td>\n      <td>Boni</td>\n      <td>699</td>\n      <td>France</td>\n      <td>Female</td>\n      <td>39</td>\n      <td>1</td>\n      <td>0.00</td>\n      <td>2</td>\n      <td>0</td>\n      <td>0</td>\n      <td>93826.63</td>\n      <td>0</td>\n    </tr>\n    <tr>\n      <th>4</th>\n      <td>5</td>\n      <td>15737888</td>\n      <td>Mitchell</td>\n      <td>850</td>\n      <td>Spain</td>\n      <td>Female</td>\n      <td>43</td>\n      <td>2</td>\n      <td>125510.82</td>\n      <td>1</td>\n      <td>1</td>\n      <td>1</td>\n      <td>79084.10</td>\n      <td>0</td>\n    </tr>\n  </tbody>\n</table>\n</div>"
     },
     "execution_count": 3,
     "metadata": {},
     "output_type": "execute_result"
    }
   ],
   "source": [
    "df.head()"
   ]
  },
  {
   "cell_type": "code",
   "execution_count": 4,
   "metadata": {
    "pycharm": {
     "name": "#%%\n"
    }
   },
   "outputs": [
    {
     "data": {
      "text/plain": "      RowNumber  CustomerId    Surname  CreditScore Geography  Gender  Age  \\\n9995       9996    15606229   Obijiaku          771    France    Male   39   \n9996       9997    15569892  Johnstone          516    France    Male   35   \n9997       9998    15584532        Liu          709    France  Female   36   \n9998       9999    15682355  Sabbatini          772   Germany    Male   42   \n9999      10000    15628319     Walker          792    France  Female   28   \n\n      Tenure    Balance  NumOfProducts  HasCrCard  IsActiveMember  \\\n9995       5       0.00              2          1               0   \n9996      10   57369.61              1          1               1   \n9997       7       0.00              1          0               1   \n9998       3   75075.31              2          1               0   \n9999       4  130142.79              1          1               0   \n\n      EstimatedSalary  Exited  \n9995         96270.64       0  \n9996        101699.77       0  \n9997         42085.58       1  \n9998         92888.52       1  \n9999         38190.78       0  ",
      "text/html": "<div>\n<style scoped>\n    .dataframe tbody tr th:only-of-type {\n        vertical-align: middle;\n    }\n\n    .dataframe tbody tr th {\n        vertical-align: top;\n    }\n\n    .dataframe thead th {\n        text-align: right;\n    }\n</style>\n<table border=\"1\" class=\"dataframe\">\n  <thead>\n    <tr style=\"text-align: right;\">\n      <th></th>\n      <th>RowNumber</th>\n      <th>CustomerId</th>\n      <th>Surname</th>\n      <th>CreditScore</th>\n      <th>Geography</th>\n      <th>Gender</th>\n      <th>Age</th>\n      <th>Tenure</th>\n      <th>Balance</th>\n      <th>NumOfProducts</th>\n      <th>HasCrCard</th>\n      <th>IsActiveMember</th>\n      <th>EstimatedSalary</th>\n      <th>Exited</th>\n    </tr>\n  </thead>\n  <tbody>\n    <tr>\n      <th>9995</th>\n      <td>9996</td>\n      <td>15606229</td>\n      <td>Obijiaku</td>\n      <td>771</td>\n      <td>France</td>\n      <td>Male</td>\n      <td>39</td>\n      <td>5</td>\n      <td>0.00</td>\n      <td>2</td>\n      <td>1</td>\n      <td>0</td>\n      <td>96270.64</td>\n      <td>0</td>\n    </tr>\n    <tr>\n      <th>9996</th>\n      <td>9997</td>\n      <td>15569892</td>\n      <td>Johnstone</td>\n      <td>516</td>\n      <td>France</td>\n      <td>Male</td>\n      <td>35</td>\n      <td>10</td>\n      <td>57369.61</td>\n      <td>1</td>\n      <td>1</td>\n      <td>1</td>\n      <td>101699.77</td>\n      <td>0</td>\n    </tr>\n    <tr>\n      <th>9997</th>\n      <td>9998</td>\n      <td>15584532</td>\n      <td>Liu</td>\n      <td>709</td>\n      <td>France</td>\n      <td>Female</td>\n      <td>36</td>\n      <td>7</td>\n      <td>0.00</td>\n      <td>1</td>\n      <td>0</td>\n      <td>1</td>\n      <td>42085.58</td>\n      <td>1</td>\n    </tr>\n    <tr>\n      <th>9998</th>\n      <td>9999</td>\n      <td>15682355</td>\n      <td>Sabbatini</td>\n      <td>772</td>\n      <td>Germany</td>\n      <td>Male</td>\n      <td>42</td>\n      <td>3</td>\n      <td>75075.31</td>\n      <td>2</td>\n      <td>1</td>\n      <td>0</td>\n      <td>92888.52</td>\n      <td>1</td>\n    </tr>\n    <tr>\n      <th>9999</th>\n      <td>10000</td>\n      <td>15628319</td>\n      <td>Walker</td>\n      <td>792</td>\n      <td>France</td>\n      <td>Female</td>\n      <td>28</td>\n      <td>4</td>\n      <td>130142.79</td>\n      <td>1</td>\n      <td>1</td>\n      <td>0</td>\n      <td>38190.78</td>\n      <td>0</td>\n    </tr>\n  </tbody>\n</table>\n</div>"
     },
     "execution_count": 4,
     "metadata": {},
     "output_type": "execute_result"
    }
   ],
   "source": [
    "df.tail()"
   ]
  },
  {
   "cell_type": "code",
   "execution_count": 5,
   "metadata": {
    "pycharm": {
     "name": "#%%\n"
    }
   },
   "outputs": [
    {
     "data": {
      "text/plain": "(10000, 14)"
     },
     "execution_count": 5,
     "metadata": {},
     "output_type": "execute_result"
    }
   ],
   "source": [
    "df.shape"
   ]
  },
  {
   "cell_type": "code",
   "execution_count": 6,
   "metadata": {
    "pycharm": {
     "name": "#%%\n"
    }
   },
   "outputs": [
    {
     "name": "stdout",
     "output_type": "stream",
     "text": [
      "<class 'pandas.core.frame.DataFrame'>\n",
      "RangeIndex: 10000 entries, 0 to 9999\n",
      "Data columns (total 14 columns):\n",
      " #   Column           Non-Null Count  Dtype  \n",
      "---  ------           --------------  -----  \n",
      " 0   RowNumber        10000 non-null  int64  \n",
      " 1   CustomerId       10000 non-null  int64  \n",
      " 2   Surname          10000 non-null  object \n",
      " 3   CreditScore      10000 non-null  int64  \n",
      " 4   Geography        10000 non-null  object \n",
      " 5   Gender           10000 non-null  object \n",
      " 6   Age              10000 non-null  int64  \n",
      " 7   Tenure           10000 non-null  int64  \n",
      " 8   Balance          10000 non-null  float64\n",
      " 9   NumOfProducts    10000 non-null  int64  \n",
      " 10  HasCrCard        10000 non-null  int64  \n",
      " 11  IsActiveMember   10000 non-null  int64  \n",
      " 12  EstimatedSalary  10000 non-null  float64\n",
      " 13  Exited           10000 non-null  int64  \n",
      "dtypes: float64(2), int64(9), object(3)\n",
      "memory usage: 1.1+ MB\n"
     ]
    }
   ],
   "source": [
    "df.info()"
   ]
  },
  {
   "cell_type": "code",
   "execution_count": 7,
   "metadata": {
    "pycharm": {
     "name": "#%%\n"
    }
   },
   "outputs": [
    {
     "data": {
      "text/plain": "         RowNumber    CustomerId   CreditScore           Age        Tenure  \\\ncount  10000.00000  1.000000e+04  10000.000000  10000.000000  10000.000000   \nmean    5000.50000  1.569094e+07    650.528800     38.921800      5.012800   \nstd     2886.89568  7.193619e+04     96.653299     10.487806      2.892174   \nmin        1.00000  1.556570e+07    350.000000     18.000000      0.000000   \n25%     2500.75000  1.562853e+07    584.000000     32.000000      3.000000   \n50%     5000.50000  1.569074e+07    652.000000     37.000000      5.000000   \n75%     7500.25000  1.575323e+07    718.000000     44.000000      7.000000   \nmax    10000.00000  1.581569e+07    850.000000     92.000000     10.000000   \n\n             Balance  NumOfProducts    HasCrCard  IsActiveMember  \\\ncount   10000.000000   10000.000000  10000.00000    10000.000000   \nmean    76485.889288       1.530200      0.70550        0.515100   \nstd     62397.405202       0.581654      0.45584        0.499797   \nmin         0.000000       1.000000      0.00000        0.000000   \n25%         0.000000       1.000000      0.00000        0.000000   \n50%     97198.540000       1.000000      1.00000        1.000000   \n75%    127644.240000       2.000000      1.00000        1.000000   \nmax    250898.090000       4.000000      1.00000        1.000000   \n\n       EstimatedSalary        Exited  \ncount     10000.000000  10000.000000  \nmean     100090.239881      0.203700  \nstd       57510.492818      0.402769  \nmin          11.580000      0.000000  \n25%       51002.110000      0.000000  \n50%      100193.915000      0.000000  \n75%      149388.247500      0.000000  \nmax      199992.480000      1.000000  ",
      "text/html": "<div>\n<style scoped>\n    .dataframe tbody tr th:only-of-type {\n        vertical-align: middle;\n    }\n\n    .dataframe tbody tr th {\n        vertical-align: top;\n    }\n\n    .dataframe thead th {\n        text-align: right;\n    }\n</style>\n<table border=\"1\" class=\"dataframe\">\n  <thead>\n    <tr style=\"text-align: right;\">\n      <th></th>\n      <th>RowNumber</th>\n      <th>CustomerId</th>\n      <th>CreditScore</th>\n      <th>Age</th>\n      <th>Tenure</th>\n      <th>Balance</th>\n      <th>NumOfProducts</th>\n      <th>HasCrCard</th>\n      <th>IsActiveMember</th>\n      <th>EstimatedSalary</th>\n      <th>Exited</th>\n    </tr>\n  </thead>\n  <tbody>\n    <tr>\n      <th>count</th>\n      <td>10000.00000</td>\n      <td>1.000000e+04</td>\n      <td>10000.000000</td>\n      <td>10000.000000</td>\n      <td>10000.000000</td>\n      <td>10000.000000</td>\n      <td>10000.000000</td>\n      <td>10000.00000</td>\n      <td>10000.000000</td>\n      <td>10000.000000</td>\n      <td>10000.000000</td>\n    </tr>\n    <tr>\n      <th>mean</th>\n      <td>5000.50000</td>\n      <td>1.569094e+07</td>\n      <td>650.528800</td>\n      <td>38.921800</td>\n      <td>5.012800</td>\n      <td>76485.889288</td>\n      <td>1.530200</td>\n      <td>0.70550</td>\n      <td>0.515100</td>\n      <td>100090.239881</td>\n      <td>0.203700</td>\n    </tr>\n    <tr>\n      <th>std</th>\n      <td>2886.89568</td>\n      <td>7.193619e+04</td>\n      <td>96.653299</td>\n      <td>10.487806</td>\n      <td>2.892174</td>\n      <td>62397.405202</td>\n      <td>0.581654</td>\n      <td>0.45584</td>\n      <td>0.499797</td>\n      <td>57510.492818</td>\n      <td>0.402769</td>\n    </tr>\n    <tr>\n      <th>min</th>\n      <td>1.00000</td>\n      <td>1.556570e+07</td>\n      <td>350.000000</td>\n      <td>18.000000</td>\n      <td>0.000000</td>\n      <td>0.000000</td>\n      <td>1.000000</td>\n      <td>0.00000</td>\n      <td>0.000000</td>\n      <td>11.580000</td>\n      <td>0.000000</td>\n    </tr>\n    <tr>\n      <th>25%</th>\n      <td>2500.75000</td>\n      <td>1.562853e+07</td>\n      <td>584.000000</td>\n      <td>32.000000</td>\n      <td>3.000000</td>\n      <td>0.000000</td>\n      <td>1.000000</td>\n      <td>0.00000</td>\n      <td>0.000000</td>\n      <td>51002.110000</td>\n      <td>0.000000</td>\n    </tr>\n    <tr>\n      <th>50%</th>\n      <td>5000.50000</td>\n      <td>1.569074e+07</td>\n      <td>652.000000</td>\n      <td>37.000000</td>\n      <td>5.000000</td>\n      <td>97198.540000</td>\n      <td>1.000000</td>\n      <td>1.00000</td>\n      <td>1.000000</td>\n      <td>100193.915000</td>\n      <td>0.000000</td>\n    </tr>\n    <tr>\n      <th>75%</th>\n      <td>7500.25000</td>\n      <td>1.575323e+07</td>\n      <td>718.000000</td>\n      <td>44.000000</td>\n      <td>7.000000</td>\n      <td>127644.240000</td>\n      <td>2.000000</td>\n      <td>1.00000</td>\n      <td>1.000000</td>\n      <td>149388.247500</td>\n      <td>0.000000</td>\n    </tr>\n    <tr>\n      <th>max</th>\n      <td>10000.00000</td>\n      <td>1.581569e+07</td>\n      <td>850.000000</td>\n      <td>92.000000</td>\n      <td>10.000000</td>\n      <td>250898.090000</td>\n      <td>4.000000</td>\n      <td>1.00000</td>\n      <td>1.000000</td>\n      <td>199992.480000</td>\n      <td>1.000000</td>\n    </tr>\n  </tbody>\n</table>\n</div>"
     },
     "execution_count": 7,
     "metadata": {},
     "output_type": "execute_result"
    }
   ],
   "source": [
    "df.describe()"
   ]
  },
  {
   "cell_type": "code",
   "execution_count": 8,
   "metadata": {
    "pycharm": {
     "name": "#%%\n"
    }
   },
   "outputs": [
    {
     "data": {
      "text/plain": "       Surname Geography Gender\ncount    10000     10000  10000\nunique    2932         3      2\ntop      Smith    France   Male\nfreq        32      5014   5457\nmean       NaN       NaN    NaN\nstd        NaN       NaN    NaN\nmin        NaN       NaN    NaN\n25%        NaN       NaN    NaN\n50%        NaN       NaN    NaN\n75%        NaN       NaN    NaN\nmax        NaN       NaN    NaN",
      "text/html": "<div>\n<style scoped>\n    .dataframe tbody tr th:only-of-type {\n        vertical-align: middle;\n    }\n\n    .dataframe tbody tr th {\n        vertical-align: top;\n    }\n\n    .dataframe thead th {\n        text-align: right;\n    }\n</style>\n<table border=\"1\" class=\"dataframe\">\n  <thead>\n    <tr style=\"text-align: right;\">\n      <th></th>\n      <th>Surname</th>\n      <th>Geography</th>\n      <th>Gender</th>\n    </tr>\n  </thead>\n  <tbody>\n    <tr>\n      <th>count</th>\n      <td>10000</td>\n      <td>10000</td>\n      <td>10000</td>\n    </tr>\n    <tr>\n      <th>unique</th>\n      <td>2932</td>\n      <td>3</td>\n      <td>2</td>\n    </tr>\n    <tr>\n      <th>top</th>\n      <td>Smith</td>\n      <td>France</td>\n      <td>Male</td>\n    </tr>\n    <tr>\n      <th>freq</th>\n      <td>32</td>\n      <td>5014</td>\n      <td>5457</td>\n    </tr>\n    <tr>\n      <th>mean</th>\n      <td>NaN</td>\n      <td>NaN</td>\n      <td>NaN</td>\n    </tr>\n    <tr>\n      <th>std</th>\n      <td>NaN</td>\n      <td>NaN</td>\n      <td>NaN</td>\n    </tr>\n    <tr>\n      <th>min</th>\n      <td>NaN</td>\n      <td>NaN</td>\n      <td>NaN</td>\n    </tr>\n    <tr>\n      <th>25%</th>\n      <td>NaN</td>\n      <td>NaN</td>\n      <td>NaN</td>\n    </tr>\n    <tr>\n      <th>50%</th>\n      <td>NaN</td>\n      <td>NaN</td>\n      <td>NaN</td>\n    </tr>\n    <tr>\n      <th>75%</th>\n      <td>NaN</td>\n      <td>NaN</td>\n      <td>NaN</td>\n    </tr>\n    <tr>\n      <th>max</th>\n      <td>NaN</td>\n      <td>NaN</td>\n      <td>NaN</td>\n    </tr>\n  </tbody>\n</table>\n</div>"
     },
     "execution_count": 8,
     "metadata": {},
     "output_type": "execute_result"
    }
   ],
   "source": [
    "df.describe(include='all').select_dtypes(\"object\")"
   ]
  },
  {
   "cell_type": "code",
   "execution_count": 9,
   "metadata": {
    "pycharm": {
     "name": "#%%\n"
    }
   },
   "outputs": [
    {
     "data": {
      "text/plain": "RowNumber          0\nCustomerId         0\nSurname            0\nCreditScore        0\nGeography          0\nGender             0\nAge                0\nTenure             0\nBalance            0\nNumOfProducts      0\nHasCrCard          0\nIsActiveMember     0\nEstimatedSalary    0\nExited             0\ndtype: int64"
     },
     "execution_count": 9,
     "metadata": {},
     "output_type": "execute_result"
    }
   ],
   "source": [
    "df.isnull().sum()"
   ]
  },
  {
   "cell_type": "code",
   "execution_count": 10,
   "metadata": {
    "pycharm": {
     "name": "#%%\n"
    }
   },
   "outputs": [
    {
     "data": {
      "text/plain": "0"
     },
     "execution_count": 10,
     "metadata": {},
     "output_type": "execute_result"
    }
   ],
   "source": [
    "df.duplicated().sum()"
   ]
  },
  {
   "cell_type": "code",
   "execution_count": 11,
   "metadata": {
    "pycharm": {
     "name": "#%%\n"
    }
   },
   "outputs": [
    {
     "data": {
      "text/plain": "[Text(0, 0, 'Age'),\n Text(1, 0, 'Balance'),\n Text(2, 0, 'EstimatedSalary'),\n Text(3, 0, 'CustomerId'),\n Text(4, 0, 'HasCrCard'),\n Text(5, 0, 'Tenure'),\n Text(6, 0, 'RowNumber'),\n Text(7, 0, 'CreditScore'),\n Text(8, 0, 'NumOfProducts'),\n Text(9, 0, 'IsActiveMember')]"
     },
     "execution_count": 11,
     "metadata": {},
     "output_type": "execute_result"
    },
    {
     "data": {
      "text/plain": "<Figure size 1080x720 with 1 Axes>",
      "image/png": "[encoded data removed]"
     },
     "metadata": {
      "needs_background": "light"
     },
     "output_type": "display_data"
    }
   ],
   "source": [
    "predictor_df = df.drop(columns=\"Exited\")\n",
    "corr_df = predictor_df.corrwith(df.Exited).sort_values(ascending=False)\n",
    "\n",
    "plt.figure(figsize=(15, 10))\n",
    "\n",
    "barplot = sns.barplot(x=corr_df.index, y=corr_df.values, orient=\"v\")\n",
    "barplot.bar_label(barplot.containers[0])\n",
    "barplot.set(title=\"Correlation with Exited\", xlabel=\"Columns\", ylabel=\"Correlation\")\n",
    "barplot.set_xticklabels(barplot.get_xticklabels(), rotation=-20)"
   ]
  },
  {
   "cell_type": "code",
   "execution_count": 12,
   "metadata": {
    "pycharm": {
     "name": "#%%\n"
    }
   },
   "outputs": [
    {
     "data": {
      "text/plain": "<Figure size 720x576 with 1 Axes>",
      "image/png": "[encoded data removed]"
     },
     "metadata": {
      "needs_background": "light"
     },
     "output_type": "display_data"
    }
   ],
   "source": [
    "plt.figure(figsize=(10, 8))\n",
    "\n",
    "barplot = sns.countplot(x=df.Exited)\n",
    "barplot.set(\n",
    "    title=\"Exited Count\",\n",
    "    xlabel=\"Exited\",\n",
    "    ylabel=\"Count\",\n",
    "    xticklabels=[\"0 (No)\", \"1 (Yes)\"]\n",
    ")\n",
    "\n",
    "for p in barplot.patches:\n",
    "    percentage = p.get_height() / len(df)\n",
    "    x = p.get_x() + 0.2\n",
    "    y = p.get_height() + 60\n",
    "    barplot.annotate(f\"{percentage:.2%} ({p.get_height()})\", (x, y))"
   ]
  },
  {
   "cell_type": "markdown",
   "metadata": {
    "pycharm": {
     "name": "#%% md\n"
    }
   },
   "source": [
    "# 2. Data Preprocessing <a id=\"data_preprocessing\"/>"
   ]
  },
  {
   "cell_type": "code",
   "execution_count": 13,
   "metadata": {
    "pycharm": {
     "name": "#%%\n"
    }
   },
   "outputs": [
    {
     "data": {
      "text/plain": "      CreditScore Geography  Gender  Age  Tenure    Balance  NumOfProducts  \\\n0             619    France  Female   42       2       0.00              1   \n1             608     Spain  Female   41       1   83807.86              1   \n2             502    France  Female   42       8  159660.80              3   \n3             699    France  Female   39       1       0.00              2   \n4             850     Spain  Female   43       2  125510.82              1   \n...           ...       ...     ...  ...     ...        ...            ...   \n9995          771    France    Male   39       5       0.00              2   \n9996          516    France    Male   35      10   57369.61              1   \n9997          709    France  Female   36       7       0.00              1   \n9998          772   Germany    Male   42       3   75075.31              2   \n9999          792    France  Female   28       4  130142.79              1   \n\n      HasCrCard  IsActiveMember  EstimatedSalary  Exited  \n0             1               1        101348.88       1  \n1             0               1        112542.58       0  \n2             1               0        113931.57       1  \n3             0               0         93826.63       0  \n4             1               1         79084.10       0  \n...         ...             ...              ...     ...  \n9995          1               0         96270.64       0  \n9996          1               1        101699.77       0  \n9997          0               1         42085.58       1  \n9998          1               0         92888.52       1  \n9999          1               0         38190.78       0  \n\n[10000 rows x 11 columns]",
      "text/html": "<div>\n<style scoped>\n    .dataframe tbody tr th:only-of-type {\n        vertical-align: middle;\n    }\n\n    .dataframe tbody tr th {\n        vertical-align: top;\n    }\n\n    .dataframe thead th {\n        text-align: right;\n    }\n</style>\n<table border=\"1\" class=\"dataframe\">\n  <thead>\n    <tr style=\"text-align: right;\">\n      <th></th>\n      <th>CreditScore</th>\n      <th>Geography</th>\n      <th>Gender</th>\n      <th>Age</th>\n      <th>Tenure</th>\n      <th>Balance</th>\n      <th>NumOfProducts</th>\n      <th>HasCrCard</th>\n      <th>IsActiveMember</th>\n      <th>EstimatedSalary</th>\n      <th>Exited</th>\n    </tr>\n  </thead>\n  <tbody>\n    <tr>\n      <th>0</th>\n      <td>619</td>\n      <td>France</td>\n      <td>Female</td>\n      <td>42</td>\n      <td>2</td>\n      <td>0.00</td>\n      <td>1</td>\n      <td>1</td>\n      <td>1</td>\n      <td>101348.88</td>\n      <td>1</td>\n    </tr>\n    <tr>\n      <th>1</th>\n      <td>608</td>\n      <td>Spain</td>\n      <td>Female</td>\n      <td>41</td>\n      <td>1</td>\n      <td>83807.86</td>\n      <td>1</td>\n      <td>0</td>\n      <td>1</td>\n      <td>112542.58</td>\n      <td>0</td>\n    </tr>\n    <tr>\n      <th>2</th>\n      <td>502</td>\n      <td>France</td>\n      <td>Female</td>\n      <td>42</td>\n      <td>8</td>\n      <td>159660.80</td>\n      <td>3</td>\n      <td>1</td>\n      <td>0</td>\n      <td>113931.57</td>\n      <td>1</td>\n    </tr>\n    <tr>\n      <th>3</th>\n      <td>699</td>\n      <td>France</td>\n      <td>Female</td>\n      <td>39</td>\n      <td>1</td>\n      <td>0.00</td>\n      <td>2</td>\n      <td>0</td>\n      <td>0</td>\n      <td>93826.63</td>\n      <td>0</td>\n    </tr>\n    <tr>\n      <th>4</th>\n      <td>850</td>\n      <td>Spain</td>\n      <td>Female</td>\n      <td>43</td>\n      <td>2</td>\n      <td>125510.82</td>\n      <td>1</td>\n      <td>1</td>\n      <td>1</td>\n      <td>79084.10</td>\n      <td>0</td>\n    </tr>\n    <tr>\n      <th>...</th>\n      <td>...</td>\n      <td>...</td>\n      <td>...</td>\n      <td>...</td>\n      <td>...</td>\n      <td>...</td>\n      <td>...</td>\n      <td>...</td>\n      <td>...</td>\n      <td>...</td>\n      <td>...</td>\n    </tr>\n    <tr>\n      <th>9995</th>\n      <td>771</td>\n      <td>France</td>\n      <td>Male</td>\n      <td>39</td>\n      <td>5</td>\n      <td>0.00</td>\n      <td>2</td>\n      <td>1</td>\n      <td>0</td>\n      <td>96270.64</td>\n      <td>0</td>\n    </tr>\n    <tr>\n      <th>9996</th>\n      <td>516</td>\n      <td>France</td>\n      <td>Male</td>\n      <td>35</td>\n      <td>10</td>\n      <td>57369.61</td>\n      <td>1</td>\n      <td>1</td>\n      <td>1</td>\n      <td>101699.77</td>\n      <td>0</td>\n    </tr>\n    <tr>\n      <th>9997</th>\n      <td>709</td>\n      <td>France</td>\n      <td>Female</td>\n      <td>36</td>\n      <td>7</td>\n      <td>0.00</td>\n      <td>1</td>\n      <td>0</td>\n      <td>1</td>\n      <td>42085.58</td>\n      <td>1</td>\n    </tr>\n    <tr>\n      <th>9998</th>\n      <td>772</td>\n      <td>Germany</td>\n      <td>Male</td>\n      <td>42</td>\n      <td>3</td>\n      <td>75075.31</td>\n      <td>2</td>\n      <td>1</td>\n      <td>0</td>\n      <td>92888.52</td>\n      <td>1</td>\n    </tr>\n    <tr>\n      <th>9999</th>\n      <td>792</td>\n      <td>France</td>\n      <td>Female</td>\n      <td>28</td>\n      <td>4</td>\n      <td>130142.79</td>\n      <td>1</td>\n      <td>1</td>\n      <td>0</td>\n      <td>38190.78</td>\n      <td>0</td>\n    </tr>\n  </tbody>\n</table>\n<p>10000 rows × 11 columns</p>\n</div>"
     },
     "execution_count": 13,
     "metadata": {},
     "output_type": "execute_result"
    }
   ],
   "source": [
    "filter_df = df.drop(columns=[\"RowNumber\", \"CustomerId\", \"Surname\"])\n",
    "\n",
    "filter_df"
   ]
  },
  {
   "cell_type": "code",
   "execution_count": 14,
   "metadata": {
    "pycharm": {
     "name": "#%%\n"
    }
   },
   "outputs": [
    {
     "data": {
      "text/plain": "      CreditScore Geography  Gender  Age  Tenure    Balance  NumOfProducts  \\\n0             619    France  Female   42       2       0.00              1   \n1             608     Spain  Female   41       1   83807.86              1   \n2             502    France  Female   42       8  159660.80              3   \n3             699    France  Female   39       1       0.00              2   \n4             850     Spain  Female   43       2  125510.82              1   \n...           ...       ...     ...  ...     ...        ...            ...   \n9995          771    France    Male   39       5       0.00              2   \n9996          516    France    Male   35      10   57369.61              1   \n9997          709    France  Female   36       7       0.00              1   \n9998          772   Germany    Male   42       3   75075.31              2   \n9999          792    France  Female   28       4  130142.79              1   \n\n      HasCrCard  IsActiveMember  EstimatedSalary  \n0             1               1        101348.88  \n1             0               1        112542.58  \n2             1               0        113931.57  \n3             0               0         93826.63  \n4             1               1         79084.10  \n...         ...             ...              ...  \n9995          1               0         96270.64  \n9996          1               1        101699.77  \n9997          0               1         42085.58  \n9998          1               0         92888.52  \n9999          1               0         38190.78  \n\n[10000 rows x 10 columns]",
      "text/html": "<div>\n<style scoped>\n    .dataframe tbody tr th:only-of-type {\n        vertical-align: middle;\n    }\n\n    .dataframe tbody tr th {\n        vertical-align: top;\n    }\n\n    .dataframe thead th {\n        text-align: right;\n    }\n</style>\n<table border=\"1\" class=\"dataframe\">\n  <thead>\n    <tr style=\"text-align: right;\">\n      <th></th>\n      <th>CreditScore</th>\n      <th>Geography</th>\n      <th>Gender</th>\n      <th>Age</th>\n      <th>Tenure</th>\n      <th>Balance</th>\n      <th>NumOfProducts</th>\n      <th>HasCrCard</th>\n      <th>IsActiveMember</th>\n      <th>EstimatedSalary</th>\n    </tr>\n  </thead>\n  <tbody>\n    <tr>\n      <th>0</th>\n      <td>619</td>\n      <td>France</td>\n      <td>Female</td>\n      <td>42</td>\n      <td>2</td>\n      <td>0.00</td>\n      <td>1</td>\n      <td>1</td>\n      <td>1</td>\n      <td>101348.88</td>\n    </tr>\n    <tr>\n      <th>1</th>\n      <td>608</td>\n      <td>Spain</td>\n      <td>Female</td>\n      <td>41</td>\n      <td>1</td>\n      <td>83807.86</td>\n      <td>1</td>\n      <td>0</td>\n      <td>1</td>\n      <td>112542.58</td>\n    </tr>\n    <tr>\n      <th>2</th>\n      <td>502</td>\n      <td>France</td>\n      <td>Female</td>\n      <td>42</td>\n      <td>8</td>\n      <td>159660.80</td>\n      <td>3</td>\n      <td>1</td>\n      <td>0</td>\n      <td>113931.57</td>\n    </tr>\n    <tr>\n      <th>3</th>\n      <td>699</td>\n      <td>France</td>\n      <td>Female</td>\n      <td>39</td>\n      <td>1</td>\n      <td>0.00</td>\n      <td>2</td>\n      <td>0</td>\n      <td>0</td>\n      <td>93826.63</td>\n    </tr>\n    <tr>\n      <th>4</th>\n      <td>850</td>\n      <td>Spain</td>\n      <td>Female</td>\n      <td>43</td>\n      <td>2</td>\n      <td>125510.82</td>\n      <td>1</td>\n      <td>1</td>\n      <td>1</td>\n      <td>79084.10</td>\n    </tr>\n    <tr>\n      <th>...</th>\n      <td>...</td>\n      <td>...</td>\n      <td>...</td>\n      <td>...</td>\n      <td>...</td>\n      <td>...</td>\n      <td>...</td>\n      <td>...</td>\n      <td>...</td>\n      <td>...</td>\n    </tr>\n    <tr>\n      <th>9995</th>\n      <td>771</td>\n      <td>France</td>\n      <td>Male</td>\n      <td>39</td>\n      <td>5</td>\n      <td>0.00</td>\n      <td>2</td>\n      <td>1</td>\n      <td>0</td>\n      <td>96270.64</td>\n    </tr>\n    <tr>\n      <th>9996</th>\n      <td>516</td>\n      <td>France</td>\n      <td>Male</td>\n      <td>35</td>\n      <td>10</td>\n      <td>57369.61</td>\n      <td>1</td>\n      <td>1</td>\n      <td>1</td>\n      <td>101699.77</td>\n    </tr>\n    <tr>\n      <th>9997</th>\n      <td>709</td>\n      <td>France</td>\n      <td>Female</td>\n      <td>36</td>\n      <td>7</td>\n      <td>0.00</td>\n      <td>1</td>\n      <td>0</td>\n      <td>1</td>\n      <td>42085.58</td>\n    </tr>\n    <tr>\n      <th>9998</th>\n      <td>772</td>\n      <td>Germany</td>\n      <td>Male</td>\n      <td>42</td>\n      <td>3</td>\n      <td>75075.31</td>\n      <td>2</td>\n      <td>1</td>\n      <td>0</td>\n      <td>92888.52</td>\n    </tr>\n    <tr>\n      <th>9999</th>\n      <td>792</td>\n      <td>France</td>\n      <td>Female</td>\n      <td>28</td>\n      <td>4</td>\n      <td>130142.79</td>\n      <td>1</td>\n      <td>1</td>\n      <td>0</td>\n      <td>38190.78</td>\n    </tr>\n  </tbody>\n</table>\n<p>10000 rows × 10 columns</p>\n</div>"
     },
     "execution_count": 14,
     "metadata": {},
     "output_type": "execute_result"
    }
   ],
   "source": [
    "x = filter_df.drop(columns=\"Exited\")\n",
    "\n",
    "x"
   ]
  },
  {
   "cell_type": "code",
   "execution_count": 15,
   "metadata": {
    "pycharm": {
     "name": "#%%\n"
    }
   },
   "outputs": [
    {
     "data": {
      "text/plain": "0       1\n1       0\n2       1\n3       0\n4       0\n       ..\n9995    0\n9996    0\n9997    1\n9998    1\n9999    0\nName: Exited, Length: 10000, dtype: int64"
     },
     "execution_count": 15,
     "metadata": {},
     "output_type": "execute_result"
    }
   ],
   "source": [
    "y = filter_df.Exited\n",
    "\n",
    "y"
   ]
  },
  {
   "cell_type": "code",
   "execution_count": 16,
   "metadata": {
    "pycharm": {
     "name": "#%%\n"
    }
   },
   "outputs": [
    {
     "data": {
      "text/plain": "     Geography  Gender\n0       France  Female\n1        Spain  Female\n2       France  Female\n3       France  Female\n4        Spain  Female\n...        ...     ...\n9995    France    Male\n9996    France    Male\n9997    France  Female\n9998   Germany    Male\n9999    France  Female\n\n[10000 rows x 2 columns]",
      "text/html": "<div>\n<style scoped>\n    .dataframe tbody tr th:only-of-type {\n        vertical-align: middle;\n    }\n\n    .dataframe tbody tr th {\n        vertical-align: top;\n    }\n\n    .dataframe thead th {\n        text-align: right;\n    }\n</style>\n<table border=\"1\" class=\"dataframe\">\n  <thead>\n    <tr style=\"text-align: right;\">\n      <th></th>\n      <th>Geography</th>\n      <th>Gender</th>\n    </tr>\n  </thead>\n  <tbody>\n    <tr>\n      <th>0</th>\n      <td>France</td>\n      <td>Female</td>\n    </tr>\n    <tr>\n      <th>1</th>\n      <td>Spain</td>\n      <td>Female</td>\n    </tr>\n    <tr>\n      <th>2</th>\n      <td>France</td>\n      <td>Female</td>\n    </tr>\n    <tr>\n      <th>3</th>\n      <td>France</td>\n      <td>Female</td>\n    </tr>\n    <tr>\n      <th>4</th>\n      <td>Spain</td>\n      <td>Female</td>\n    </tr>\n    <tr>\n      <th>...</th>\n      <td>...</td>\n      <td>...</td>\n    </tr>\n    <tr>\n      <th>9995</th>\n      <td>France</td>\n      <td>Male</td>\n    </tr>\n    <tr>\n      <th>9996</th>\n      <td>France</td>\n      <td>Male</td>\n    </tr>\n    <tr>\n      <th>9997</th>\n      <td>France</td>\n      <td>Female</td>\n    </tr>\n    <tr>\n      <th>9998</th>\n      <td>Germany</td>\n      <td>Male</td>\n    </tr>\n    <tr>\n      <th>9999</th>\n      <td>France</td>\n      <td>Female</td>\n    </tr>\n  </tbody>\n</table>\n<p>10000 rows × 2 columns</p>\n</div>"
     },
     "execution_count": 16,
     "metadata": {},
     "output_type": "execute_result"
    }
   ],
   "source": [
    "x_objects = x.select_dtypes(include=[\"object\"])\n",
    "\n",
    "x_objects"
   ]
  },
  {
   "cell_type": "code",
   "execution_count": 17,
   "metadata": {
    "pycharm": {
     "name": "#%%\n"
    }
   },
   "outputs": [
    {
     "data": {
      "text/plain": "      CreditScore  Age  Tenure    Balance  NumOfProducts  HasCrCard  \\\n0             619   42       2       0.00              1          1   \n1             608   41       1   83807.86              1          0   \n2             502   42       8  159660.80              3          1   \n3             699   39       1       0.00              2          0   \n4             850   43       2  125510.82              1          1   \n...           ...  ...     ...        ...            ...        ...   \n9995          771   39       5       0.00              2          1   \n9996          516   35      10   57369.61              1          1   \n9997          709   36       7       0.00              1          0   \n9998          772   42       3   75075.31              2          1   \n9999          792   28       4  130142.79              1          1   \n\n      IsActiveMember  EstimatedSalary  Geography_France  Geography_Germany  \\\n0                  1        101348.88                 1                  0   \n1                  1        112542.58                 0                  0   \n2                  0        113931.57                 1                  0   \n3                  0         93826.63                 1                  0   \n4                  1         79084.10                 0                  0   \n...              ...              ...               ...                ...   \n9995               0         96270.64                 1                  0   \n9996               1        101699.77                 1                  0   \n9997               1         42085.58                 1                  0   \n9998               0         92888.52                 0                  1   \n9999               0         38190.78                 1                  0   \n\n      Geography_Spain  Gender_Male  \n0                   0            0  \n1                   1            0  \n2                   0            0  \n3                   0            0  \n4                   1            0  \n...               ...          ...  \n9995                0            1  \n9996                0            1  \n9997                0            0  \n9998                0            1  \n9999                0            0  \n\n[10000 rows x 12 columns]",
      "text/html": "<div>\n<style scoped>\n    .dataframe tbody tr th:only-of-type {\n        vertical-align: middle;\n    }\n\n    .dataframe tbody tr th {\n        vertical-align: top;\n    }\n\n    .dataframe thead th {\n        text-align: right;\n    }\n</style>\n<table border=\"1\" class=\"dataframe\">\n  <thead>\n    <tr style=\"text-align: right;\">\n      <th></th>\n      <th>CreditScore</th>\n      <th>Age</th>\n      <th>Tenure</th>\n      <th>Balance</th>\n      <th>NumOfProducts</th>\n      <th>HasCrCard</th>\n      <th>IsActiveMember</th>\n      <th>EstimatedSalary</th>\n      <th>Geography_France</th>\n      <th>Geography_Germany</th>\n      <th>Geography_Spain</th>\n      <th>Gender_Male</th>\n    </tr>\n  </thead>\n  <tbody>\n    <tr>\n      <th>0</th>\n      <td>619</td>\n      <td>42</td>\n      <td>2</td>\n      <td>0.00</td>\n      <td>1</td>\n      <td>1</td>\n      <td>1</td>\n      <td>101348.88</td>\n      <td>1</td>\n      <td>0</td>\n      <td>0</td>\n      <td>0</td>\n    </tr>\n    <tr>\n      <th>1</th>\n      <td>608</td>\n      <td>41</td>\n      <td>1</td>\n      <td>83807.86</td>\n      <td>1</td>\n      <td>0</td>\n      <td>1</td>\n      <td>112542.58</td>\n      <td>0</td>\n      <td>0</td>\n      <td>1</td>\n      <td>0</td>\n    </tr>\n    <tr>\n      <th>2</th>\n      <td>502</td>\n      <td>42</td>\n      <td>8</td>\n      <td>159660.80</td>\n      <td>3</td>\n      <td>1</td>\n      <td>0</td>\n      <td>113931.57</td>\n      <td>1</td>\n      <td>0</td>\n      <td>0</td>\n      <td>0</td>\n    </tr>\n    <tr>\n      <th>3</th>\n      <td>699</td>\n      <td>39</td>\n      <td>1</td>\n      <td>0.00</td>\n      <td>2</td>\n      <td>0</td>\n      <td>0</td>\n      <td>93826.63</td>\n      <td>1</td>\n      <td>0</td>\n      <td>0</td>\n      <td>0</td>\n    </tr>\n    <tr>\n      <th>4</th>\n      <td>850</td>\n      <td>43</td>\n      <td>2</td>\n      <td>125510.82</td>\n      <td>1</td>\n      <td>1</td>\n      <td>1</td>\n      <td>79084.10</td>\n      <td>0</td>\n      <td>0</td>\n      <td>1</td>\n      <td>0</td>\n    </tr>\n    <tr>\n      <th>...</th>\n      <td>...</td>\n      <td>...</td>\n      <td>...</td>\n      <td>...</td>\n      <td>...</td>\n      <td>...</td>\n      <td>...</td>\n      <td>...</td>\n      <td>...</td>\n      <td>...</td>\n      <td>...</td>\n      <td>...</td>\n    </tr>\n    <tr>\n      <th>9995</th>\n      <td>771</td>\n      <td>39</td>\n      <td>5</td>\n      <td>0.00</td>\n      <td>2</td>\n      <td>1</td>\n      <td>0</td>\n      <td>96270.64</td>\n      <td>1</td>\n      <td>0</td>\n      <td>0</td>\n      <td>1</td>\n    </tr>\n    <tr>\n      <th>9996</th>\n      <td>516</td>\n      <td>35</td>\n      <td>10</td>\n      <td>57369.61</td>\n      <td>1</td>\n      <td>1</td>\n      <td>1</td>\n      <td>101699.77</td>\n      <td>1</td>\n      <td>0</td>\n      <td>0</td>\n      <td>1</td>\n    </tr>\n    <tr>\n      <th>9997</th>\n      <td>709</td>\n      <td>36</td>\n      <td>7</td>\n      <td>0.00</td>\n      <td>1</td>\n      <td>0</td>\n      <td>1</td>\n      <td>42085.58</td>\n      <td>1</td>\n      <td>0</td>\n      <td>0</td>\n      <td>0</td>\n    </tr>\n    <tr>\n      <th>9998</th>\n      <td>772</td>\n      <td>42</td>\n      <td>3</td>\n      <td>75075.31</td>\n      <td>2</td>\n      <td>1</td>\n      <td>0</td>\n      <td>92888.52</td>\n      <td>0</td>\n      <td>1</td>\n      <td>0</td>\n      <td>1</td>\n    </tr>\n    <tr>\n      <th>9999</th>\n      <td>792</td>\n      <td>28</td>\n      <td>4</td>\n      <td>130142.79</td>\n      <td>1</td>\n      <td>1</td>\n      <td>0</td>\n      <td>38190.78</td>\n      <td>1</td>\n      <td>0</td>\n      <td>0</td>\n      <td>0</td>\n    </tr>\n  </tbody>\n</table>\n<p>10000 rows × 12 columns</p>\n</div>"
     },
     "execution_count": 17,
     "metadata": {},
     "output_type": "execute_result"
    }
   ],
   "source": [
    "one_hot_encoder = OneHotEncoder(drop=\"if_binary\", sparse=False)\n",
    "x_one_hot_array = one_hot_encoder.fit_transform(x_objects)\n",
    "\n",
    "x_one_hot = x.select_dtypes(exclude=[\"object\"])\n",
    "object_columns = one_hot_encoder.get_feature_names_out()\n",
    "\n",
    "for column, values in zip(object_columns, x_one_hot_array.T):\n",
    "    x_one_hot[column] = values.astype(int)\n",
    "\n",
    "x_one_hot"
   ]
  },
  {
   "cell_type": "code",
   "execution_count": 18,
   "metadata": {
    "pycharm": {
     "name": "#%%\n"
    }
   },
   "outputs": [
    {
     "name": "stdout",
     "output_type": "stream",
     "text": [
      "Shape of training x: (7000, 12)\n",
      "Shape of training y: (7000,)\n",
      "Shape of testing x: (3000, 12)\n",
      "Shape of testing y: (3000,)\n"
     ]
    }
   ],
   "source": [
    "x_train, x_test, y_train, y_test = train_test_split(\n",
    "    x_one_hot, y, test_size=0.3, random_state=0\n",
    ")\n",
    "\n",
    "print(\"Shape of training x:\", x_train.shape)\n",
    "print(\"Shape of training y:\", y_train.shape)\n",
    "print(\"Shape of testing x:\", x_test.shape)\n",
    "print(\"Shape of testing y:\", y_test.shape)"
   ]
  },
  {
   "cell_type": "code",
   "execution_count": 19,
   "metadata": {
    "pycharm": {
     "name": "#%%\n"
    }
   },
   "outputs": [
    {
     "data": {
      "text/plain": "array([[-0.09792126, -0.55759842, -1.03635146, ..., -0.56987189,\n        -0.5731713 ,  0.92295821],\n       [-1.12612023,  0.01725942,  0.69700901, ..., -0.56987189,\n        -0.5731713 ,  0.92295821],\n       [-0.62230274,  3.5622161 ,  0.00366482, ..., -0.56987189,\n        -0.5731713 , -1.08347268],\n       ...,\n       [ 0.89943174, -0.36597914,  0.00366482, ..., -0.56987189,\n        -0.5731713 ,  0.92295821],\n       [-0.62230274, -0.07855022,  1.39035319, ..., -0.56987189,\n         1.74467913, -1.08347268],\n       [-0.28299708,  0.87954618, -1.38302356, ...,  1.75478035,\n        -0.5731713 , -1.08347268]])"
     },
     "execution_count": 19,
     "metadata": {},
     "output_type": "execute_result"
    }
   ],
   "source": [
    "scalar = StandardScaler()\n",
    "x_train_scaled = scalar.fit_transform(x_train)\n",
    "\n",
    "x_train_scaled"
   ]
  },
  {
   "cell_type": "code",
   "execution_count": 20,
   "metadata": {
    "pycharm": {
     "name": "#%%\n"
    }
   },
   "outputs": [
    {
     "data": {
      "text/plain": "array([[-0.55032881, -0.36597914,  1.0436811 , ...,  1.75478035,\n        -0.5731713 , -1.08347268],\n       [-1.31119605,  0.11306906, -1.03635146, ..., -0.56987189,\n        -0.5731713 , -1.08347268],\n       [ 0.57040807,  0.30468834,  1.0436811 , ..., -0.56987189,\n         1.74467913, -1.08347268],\n       ...,\n       [ 0.35448628,  0.11306906, -1.03635146, ..., -0.56987189,\n        -0.5731713 ,  0.92295821],\n       [ 0.42646021,  2.89154862,  1.73702529, ..., -0.56987189,\n        -0.5731713 ,  0.92295821],\n       [ 0.82745781,  0.97535582, -0.34300727, ...,  1.75478035,\n        -0.5731713 , -1.08347268]])"
     },
     "execution_count": 20,
     "metadata": {},
     "output_type": "execute_result"
    }
   ],
   "source": [
    "x_test_scaled = scalar.transform(x_test)\n",
    "\n",
    "x_test_scaled"
   ]
  },
  {
   "cell_type": "code",
   "execution_count": 21,
   "metadata": {
    "pycharm": {
     "name": "#%%\n"
    }
   },
   "outputs": [
    {
     "name": "stdout",
     "output_type": "stream",
     "text": [
      "Shape of training x: (11168, 12)\n",
      "Shape of training y: (11168,)\n"
     ]
    }
   ],
   "source": [
    "smote = SMOTE(random_state=0)\n",
    "x_train_resampled, y_train_resampled = smote.fit_resample(x_train_scaled, y_train)\n",
    "\n",
    "print(\"Shape of training x:\", x_train_resampled.shape)\n",
    "print(\"Shape of training y:\", y_train_resampled.shape)"
   ]
  },
  {
   "cell_type": "code",
   "execution_count": 22,
   "metadata": {
    "pycharm": {
     "name": "#%%\n"
    }
   },
   "outputs": [
    {
     "data": {
      "text/plain": "<Figure size 720x576 with 1 Axes>",
      "image/png": "[encoded data removed]"
     },
     "metadata": {
      "needs_background": "light"
     },
     "output_type": "display_data"
    }
   ],
   "source": [
    "plt.figure(figsize=(10, 8))\n",
    "\n",
    "barplot = sns.countplot(x=y_train_resampled)\n",
    "barplot.set(\n",
    "    title=\"Exited Count\",\n",
    "    xlabel=\"Exited\",\n",
    "    ylabel=\"Count\",\n",
    "    xticklabels=[\"0 (No)\", \"1 (Yes)\"]\n",
    ")\n",
    "\n",
    "for p in barplot.patches:\n",
    "    percentage = p.get_height() / len(y_train_resampled)\n",
    "    _x = p.get_x() + 0.2\n",
    "    _y = p.get_height() + 60\n",
    "    barplot.annotate(f\"{percentage:.2%} ({p.get_height()})\", (_x, _y))"
   ]
  },
  {
   "cell_type": "code",
   "execution_count": 59,
   "metadata": {
    "pycharm": {
     "name": "#%%\n"
    }
   },
   "outputs": [
    {
     "name": "stdout",
     "output_type": "stream",
     "text": [
      "Shape of training x: (11168, 12)\n",
      "Shape of training y: (11168,)\n",
      "Shape of testing x: (3000, 12)\n",
      "Shape of testing y: (3000,)\n"
     ]
    }
   ],
   "source": [
    "x_train_final = x_train_resampled\n",
    "y_train_final = y_train_resampled\n",
    "x_test_final = x_test_scaled\n",
    "y_test_final = y_test\n",
    "\n",
    "print(\"Shape of training x:\", x_train_final.shape)\n",
    "print(\"Shape of training y:\", y_train_final.shape)\n",
    "print(\"Shape of testing x:\", x_test_final.shape)\n",
    "print(\"Shape of testing y:\", y_test_final.shape)"
   ]
  },
  {
   "cell_type": "markdown",
   "metadata": {
    "pycharm": {
     "name": "#%% md\n"
    }
   },
   "source": [
    "# 4. Model Implementation <a id=\"model_implementation\"/>"
   ]
  },
  {
   "cell_type": "markdown",
   "metadata": {
    "pycharm": {
     "name": "#%% md\n"
    }
   },
   "source": [
    "## 4.1 ? <a id=\"model_1\"/>"
   ]
  },
  {
   "cell_type": "markdown",
   "metadata": {
    "pycharm": {
     "name": "#%% md\n"
    }
   },
   "source": [
    "### 4.1.1 Base Model <a id=\"base_model_1\"/>"
   ]
  },
  {
   "cell_type": "code",
   "execution_count": 216,
   "metadata": {
    "pycharm": {
     "name": "#%%\n"
    }
   },
   "outputs": [],
   "source": []
  },
  {
   "cell_type": "markdown",
   "metadata": {
    "pycharm": {
     "name": "#%% md\n"
    }
   },
   "source": [
    "### 4.1.2 Model Hyperparameter Tuning <a id=\"model_hyperparameter_tuning_1\"/>"
   ]
  },
  {
   "cell_type": "code",
   "execution_count": 216,
   "metadata": {
    "pycharm": {
     "name": "#%%\n"
    }
   },
   "outputs": [],
   "source": []
  },
  {
   "cell_type": "markdown",
   "metadata": {
    "pycharm": {
     "name": "#%% md\n"
    }
   },
   "source": [
    "### 4.1.3 Final Model <a id=\"final_model_1\"/>"
   ]
  },
  {
   "cell_type": "code",
   "execution_count": 216,
   "metadata": {
    "pycharm": {
     "name": "#%%\n"
    }
   },
   "outputs": [],
   "source": []
  },
  {
   "cell_type": "markdown",
   "metadata": {
    "pycharm": {
     "name": "#%% md\n"
    }
   },
   "source": [
    "## 4.2 Artificial Neural Network <a id=\"model_2\"/>"
   ]
  },
  {
   "cell_type": "markdown",
   "metadata": {
    "pycharm": {
     "name": "#%% md\n"
    }
   },
   "source": [
    "### 4.2.1 Base Model <a id=\"base_model_2\"/>"
   ]
  },
  {
   "cell_type": "code",
   "execution_count": null,
   "metadata": {
    "pycharm": {
     "is_executing": true,
     "name": "#%%\n"
    }
   },
   "outputs": [],
   "source": [
    "ann_model = MLPClassifier(\n",
    "    hidden_layer_sizes=(200, 200),\n",
    "    activation=\"relu\",\n",
    "    solver=\"adam\",\n",
    "    alpha=1e-06,\n",
    "    max_iter=50,\n",
    "    random_state=8\n",
    ")\n",
    "ann_model.fit(x_train_final, y_train_final)"
   ]
  },
  {
   "cell_type": "code",
   "execution_count": null,
   "metadata": {
    "pycharm": {
     "is_executing": true,
     "name": "#%%\n"
    }
   },
   "outputs": [],
   "source": [
    "ann_accuracy = ann_model.score(x_test_final, y_test_final)\n",
    "\n",
    "print(f\"ANN accuracy: {ann_accuracy:.2%}\")"
   ]
  },
  {
   "cell_type": "code",
   "execution_count": null,
   "metadata": {
    "pycharm": {
     "is_executing": true,
     "name": "#%%\n"
    }
   },
   "outputs": [],
   "source": [
    "ann_train_accuracy = ann_model.score(x_train_final, y_train_final)\n",
    "\n",
    "print(f\"ANN training accuracy: {ann_train_accuracy:.2%}\")"
   ]
  },
  {
   "cell_type": "code",
   "execution_count": null,
   "metadata": {
    "pycharm": {
     "name": "#%%\n"
    }
   },
   "outputs": [],
   "source": [
    "y_test_pred = ann_model.predict(x_test_final)\n",
    "\n",
    "confusion_matrix(y_test_final, y_test_pred)"
   ]
  },
  {
   "cell_type": "code",
   "execution_count": null,
   "metadata": {
    "pycharm": {
     "name": "#%%\n"
    }
   },
   "outputs": [],
   "source": [
    "print(classification_report(y_test_final, y_test_pred))"
   ]
  },
  {
   "cell_type": "markdown",
   "metadata": {
    "pycharm": {
     "name": "#%% md\n"
    }
   },
   "source": [
    "### 4.2.2 Model Hyperparameter Tuning <a id=\"model_hyperparameter_tuning_2\"/>"
   ]
  },
  {
   "cell_type": "code",
   "execution_count": 24,
   "metadata": {
    "pycharm": {
     "name": "#%%\n"
    }
   },
   "outputs": [
    {
     "name": "stdout",
     "output_type": "stream",
     "text": [
      "ANN training accuracy: 81.96%\n",
      "ANN accuracy: 79.77%\n"
     ]
    },
    {
     "name": "stderr",
     "output_type": "stream",
     "text": [
      "C:\\Users\\Choong Man Shun\\.virtualenvs\\odl-txaD7ivL-py3.10\\lib\\site-packages\\sklearn\\neural_network\\_multilayer_perceptron.py:702: ConvergenceWarning: Stochastic Optimizer: Maximum iterations (50) reached and the optimization hasn't converged yet.\n",
      "  warnings.warn(\n"
     ]
    }
   ],
   "source": [
    "ann_test_model = MLPClassifier(\n",
    "    hidden_layer_sizes=100,\n",
    "    activation=\"logistic\",\n",
    "    solver=\"lbfgs\",\n",
    "    alpha=0.001,\n",
    "    max_iter=50,\n",
    "    random_state=0\n",
    ")\n",
    "ann_test_model.fit(x_train_final, y_train_final)\n",
    "\n",
    "ann_train_accuracy = ann_test_model.score(x_train_final, y_train_final)\n",
    "print(f\"ANN training accuracy: {ann_train_accuracy:.2%}\")\n",
    "\n",
    "ann_test_accuracy = ann_test_model.score(x_test_final, y_test_final)\n",
    "print(f\"ANN accuracy: {ann_test_accuracy:.2%}\")\n",
    "# 100 -> 81.96, 79.77\n",
    "# 200 -> 52, 77\n",
    "# (150, 100) -> 50, 79"
   ]
  },
  {
   "cell_type": "code",
   "execution_count": null,
   "metadata": {
    "pycharm": {
     "is_executing": true,
     "name": "#%%\n"
    }
   },
   "outputs": [],
   "source": [
    "# Best ANN model training accuracy : 79.60%\n",
    "# Best ANN model test accuracy : 79.75%\n",
    "# {\n",
    "#     'activation': 'relu',\n",
    "#     'alpha': 0.0001,\n",
    "#     'hidden_layer_sizes': 100, 50, 200, (100, 100), (200, 100), (100, 50),\n",
    "#     'max_iter': 200,\n",
    "#     'random_state': 0,\n",
    "#     'solver': 'lbfgs'\n",
    "# }"
   ]
  },
  {
   "cell_type": "code",
   "execution_count": null,
   "metadata": {
    "pycharm": {
     "name": "#%%\n"
    }
   },
   "outputs": [],
   "source": []
  },
  {
   "cell_type": "code",
   "execution_count": null,
   "metadata": {
    "pycharm": {
     "name": "#%%\n"
    }
   },
   "outputs": [],
   "source": []
  },
  {
   "cell_type": "markdown",
   "metadata": {
    "pycharm": {
     "name": "#%% md\n"
    }
   },
   "source": [
    "Tuning 1"
   ]
  },
  {
   "cell_type": "code",
   "execution_count": null,
   "metadata": {
    "pycharm": {
     "is_executing": true,
     "name": "#%%\n"
    }
   },
   "outputs": [],
   "source": [
    "param_grid = {\n",
    "    \"hidden_layer_sizes\": [\n",
    "        50, 100, 200, (100, 50), (100, 100)\n",
    "    ],\n",
    "    \"activation\": [\"relu\"],\n",
    "    \"solver\": [\"adam\"],\n",
    "    \"alpha\": [1e-03],\n",
    "    \"max_iter\": [100],\n",
    "    \"random_state\": [0]\n",
    "}\n",
    "ann_cv_model1 = GridSearchCV(\n",
    "    estimator=MLPClassifier(),\n",
    "    param_grid=param_grid,\n",
    "    verbose=1\n",
    ")\n",
    "ann_cv_model1.fit(x_train_final, y_train_final)"
   ]
  },
  {
   "cell_type": "code",
   "execution_count": 33,
   "metadata": {
    "pycharm": {
     "name": "#%%\n"
    }
   },
   "outputs": [
    {
     "name": "stdout",
     "output_type": "stream",
     "text": [
      "Best ANN model training accuracy : 87.10%\n",
      "Best ANN model test accuracy : 80.50%\n"
     ]
    }
   ],
   "source": [
    "ann_cv_train_accuracy1 = ann_cv_model1.best_score_\n",
    "ann_cv_accuracy1 = ann_cv_model1.score(x_test_final, y_test_final)\n",
    "\n",
    "print(f\"Best ANN model training accuracy : {ann_cv_train_accuracy1:.2%}\")\n",
    "print(f\"Best ANN model test accuracy : {ann_cv_accuracy1:.2%}\")"
   ]
  },
  {
   "cell_type": "code",
   "execution_count": 34,
   "metadata": {
    "pycharm": {
     "name": "#%%\n"
    }
   },
   "outputs": [
    {
     "name": "stdout",
     "output_type": "stream",
     "text": [
      "Best ANN parameters: {'activation': 'relu', 'alpha': 0.001, 'hidden_layer_sizes': (100, 100), 'max_iter': 100, 'random_state': 0, 'solver': 'adam'}\n"
     ]
    }
   ],
   "source": [
    "print(f\"Best ANN parameters: {ann_cv_model1.best_params_}\")"
   ]
  },
  {
   "cell_type": "code",
   "execution_count": 53,
   "metadata": {
    "pycharm": {
     "name": "#%%\n"
    }
   },
   "outputs": [
    {
     "ename": "TypeError",
     "evalue": "'numpy.ndarray' object is not callable",
     "output_type": "error",
     "traceback": [
      "\u001B[1;31m---------------------------------------------------------------------------\u001B[0m",
      "\u001B[1;31mTypeError\u001B[0m                                 Traceback (most recent call last)",
      "Input \u001B[1;32mIn [53]\u001B[0m, in \u001B[0;36m<cell line: 4>\u001B[1;34m()\u001B[0m\n\u001B[0;32m      1\u001B[0m ann_cv_results1 \u001B[38;5;241m=\u001B[39m pd\u001B[38;5;241m.\u001B[39mDataFrame(ann_cv_model1\u001B[38;5;241m.\u001B[39mcv_results_)\n\u001B[0;32m      2\u001B[0m ann_cv_results1\u001B[38;5;241m.\u001B[39msort_values(by\u001B[38;5;241m=\u001B[39m\u001B[38;5;124m\"\u001B[39m\u001B[38;5;124mmean_test_score\u001B[39m\u001B[38;5;124m\"\u001B[39m, ascending\u001B[38;5;241m=\u001B[39m\u001B[38;5;28;01mFalse\u001B[39;00m, inplace\u001B[38;5;241m=\u001B[39m\u001B[38;5;28;01mTrue\u001B[39;00m)\n\u001B[1;32m----> 4\u001B[0m \u001B[43mann_cv_results1\u001B[49m\u001B[43m[\u001B[49m\u001B[43m[\u001B[49m\u001B[38;5;124;43m\"\u001B[39;49m\u001B[38;5;124;43mmean_test_score\u001B[39;49m\u001B[38;5;124;43m\"\u001B[39;49m\u001B[43m,\u001B[49m\u001B[43m \u001B[49m\u001B[38;5;124;43m\"\u001B[39;49m\u001B[38;5;124;43mparams\u001B[39;49m\u001B[38;5;124;43m\"\u001B[39;49m\u001B[43m]\u001B[49m\u001B[43m]\u001B[49m\u001B[38;5;241;43m.\u001B[39;49m\u001B[43mvalues\u001B[49m\u001B[43m(\u001B[49m\u001B[43m)\u001B[49m\n",
      "\u001B[1;31mTypeError\u001B[0m: 'numpy.ndarray' object is not callable"
     ]
    }
   ],
   "source": [
    "ann_cv_results1 = pd.DataFrame(ann_cv_model1.cv_results_)\n",
    "ann_cv_results1.sort_values(by=\"mean_test_score\", ascending=False, inplace=True)\n",
    "\n",
    "ann_cv_results1[[\"mean_test_score\", \"params\"]].values()"
   ]
  },
  {
   "cell_type": "markdown",
   "metadata": {
    "pycharm": {
     "name": "#%% md\n"
    }
   },
   "source": [
    "Tuning 2"
   ]
  },
  {
   "cell_type": "code",
   "execution_count": 43,
   "metadata": {
    "pycharm": {
     "name": "#%%\n"
    }
   },
   "outputs": [
    {
     "name": "stdout",
     "output_type": "stream",
     "text": [
      "Fitting 5 folds for each of 3 candidates, totalling 15 fits\n"
     ]
    },
    {
     "name": "stderr",
     "output_type": "stream",
     "text": [
      "C:\\Users\\Choong Man Shun\\.virtualenvs\\odl-txaD7ivL-py3.10\\lib\\site-packages\\sklearn\\neural_network\\_multilayer_perceptron.py:702: ConvergenceWarning: Stochastic Optimizer: Maximum iterations (100) reached and the optimization hasn't converged yet.\n",
      "  warnings.warn(\n",
      "C:\\Users\\Choong Man Shun\\.virtualenvs\\odl-txaD7ivL-py3.10\\lib\\site-packages\\sklearn\\neural_network\\_multilayer_perceptron.py:702: ConvergenceWarning: Stochastic Optimizer: Maximum iterations (100) reached and the optimization hasn't converged yet.\n",
      "  warnings.warn(\n",
      "C:\\Users\\Choong Man Shun\\.virtualenvs\\odl-txaD7ivL-py3.10\\lib\\site-packages\\sklearn\\neural_network\\_multilayer_perceptron.py:702: ConvergenceWarning: Stochastic Optimizer: Maximum iterations (100) reached and the optimization hasn't converged yet.\n",
      "  warnings.warn(\n",
      "C:\\Users\\Choong Man Shun\\.virtualenvs\\odl-txaD7ivL-py3.10\\lib\\site-packages\\sklearn\\neural_network\\_multilayer_perceptron.py:702: ConvergenceWarning: Stochastic Optimizer: Maximum iterations (100) reached and the optimization hasn't converged yet.\n",
      "  warnings.warn(\n",
      "C:\\Users\\Choong Man Shun\\.virtualenvs\\odl-txaD7ivL-py3.10\\lib\\site-packages\\sklearn\\neural_network\\_multilayer_perceptron.py:702: ConvergenceWarning: Stochastic Optimizer: Maximum iterations (100) reached and the optimization hasn't converged yet.\n",
      "  warnings.warn(\n",
      "C:\\Users\\Choong Man Shun\\.virtualenvs\\odl-txaD7ivL-py3.10\\lib\\site-packages\\sklearn\\neural_network\\_multilayer_perceptron.py:702: ConvergenceWarning: Stochastic Optimizer: Maximum iterations (100) reached and the optimization hasn't converged yet.\n",
      "  warnings.warn(\n",
      "C:\\Users\\Choong Man Shun\\.virtualenvs\\odl-txaD7ivL-py3.10\\lib\\site-packages\\sklearn\\neural_network\\_multilayer_perceptron.py:702: ConvergenceWarning: Stochastic Optimizer: Maximum iterations (100) reached and the optimization hasn't converged yet.\n",
      "  warnings.warn(\n",
      "C:\\Users\\Choong Man Shun\\.virtualenvs\\odl-txaD7ivL-py3.10\\lib\\site-packages\\sklearn\\neural_network\\_multilayer_perceptron.py:702: ConvergenceWarning: Stochastic Optimizer: Maximum iterations (100) reached and the optimization hasn't converged yet.\n",
      "  warnings.warn(\n",
      "C:\\Users\\Choong Man Shun\\.virtualenvs\\odl-txaD7ivL-py3.10\\lib\\site-packages\\sklearn\\neural_network\\_multilayer_perceptron.py:702: ConvergenceWarning: Stochastic Optimizer: Maximum iterations (100) reached and the optimization hasn't converged yet.\n",
      "  warnings.warn(\n",
      "C:\\Users\\Choong Man Shun\\.virtualenvs\\odl-txaD7ivL-py3.10\\lib\\site-packages\\sklearn\\neural_network\\_multilayer_perceptron.py:702: ConvergenceWarning: Stochastic Optimizer: Maximum iterations (100) reached and the optimization hasn't converged yet.\n",
      "  warnings.warn(\n",
      "C:\\Users\\Choong Man Shun\\.virtualenvs\\odl-txaD7ivL-py3.10\\lib\\site-packages\\sklearn\\neural_network\\_multilayer_perceptron.py:702: ConvergenceWarning: Stochastic Optimizer: Maximum iterations (100) reached and the optimization hasn't converged yet.\n",
      "  warnings.warn(\n",
      "C:\\Users\\Choong Man Shun\\.virtualenvs\\odl-txaD7ivL-py3.10\\lib\\site-packages\\sklearn\\neural_network\\_multilayer_perceptron.py:702: ConvergenceWarning: Stochastic Optimizer: Maximum iterations (100) reached and the optimization hasn't converged yet.\n",
      "  warnings.warn(\n",
      "C:\\Users\\Choong Man Shun\\.virtualenvs\\odl-txaD7ivL-py3.10\\lib\\site-packages\\sklearn\\neural_network\\_multilayer_perceptron.py:702: ConvergenceWarning: Stochastic Optimizer: Maximum iterations (100) reached and the optimization hasn't converged yet.\n",
      "  warnings.warn(\n",
      "C:\\Users\\Choong Man Shun\\.virtualenvs\\odl-txaD7ivL-py3.10\\lib\\site-packages\\sklearn\\neural_network\\_multilayer_perceptron.py:702: ConvergenceWarning: Stochastic Optimizer: Maximum iterations (100) reached and the optimization hasn't converged yet.\n",
      "  warnings.warn(\n",
      "C:\\Users\\Choong Man Shun\\.virtualenvs\\odl-txaD7ivL-py3.10\\lib\\site-packages\\sklearn\\neural_network\\_multilayer_perceptron.py:702: ConvergenceWarning: Stochastic Optimizer: Maximum iterations (100) reached and the optimization hasn't converged yet.\n",
      "  warnings.warn(\n",
      "C:\\Users\\Choong Man Shun\\.virtualenvs\\odl-txaD7ivL-py3.10\\lib\\site-packages\\sklearn\\neural_network\\_multilayer_perceptron.py:702: ConvergenceWarning: Stochastic Optimizer: Maximum iterations (100) reached and the optimization hasn't converged yet.\n",
      "  warnings.warn(\n"
     ]
    },
    {
     "data": {
      "text/html": [
       "<style>#sk-container-id-3 {color: black;background-color: white;}#sk-container-id-3 pre{padding: 0;}#sk-container-id-3 div.sk-toggleable {background-color: white;}#sk-container-id-3 label.sk-toggleable__label {cursor: pointer;display: block;width: 100%;margin-bottom: 0;padding: 0.3em;box-sizing: border-box;text-align: center;}#sk-container-id-3 label.sk-toggleable__label-arrow:before {content: \"▸\";float: left;margin-right: 0.25em;color: #696969;}#sk-container-id-3 label.sk-toggleable__label-arrow:hover:before {color: black;}#sk-container-id-3 div.sk-estimator:hover label.sk-toggleable__label-arrow:before {color: black;}#sk-container-id-3 div.sk-toggleable__content {max-height: 0;max-width: 0;overflow: hidden;text-align: left;background-color: #f0f8ff;}#sk-container-id-3 div.sk-toggleable__content pre {margin: 0.2em;color: black;border-radius: 0.25em;background-color: #f0f8ff;}#sk-container-id-3 input.sk-toggleable__control:checked~div.sk-toggleable__content {max-height: 200px;max-width: 100%;overflow: auto;}#sk-container-id-3 input.sk-toggleable__control:checked~label.sk-toggleable__label-arrow:before {content: \"▾\";}#sk-container-id-3 div.sk-estimator input.sk-toggleable__control:checked~label.sk-toggleable__label {background-color: #d4ebff;}#sk-container-id-3 div.sk-label input.sk-toggleable__control:checked~label.sk-toggleable__label {background-color: #d4ebff;}#sk-container-id-3 input.sk-hidden--visually {border: 0;clip: rect(1px 1px 1px 1px);clip: rect(1px, 1px, 1px, 1px);height: 1px;margin: -1px;overflow: hidden;padding: 0;position: absolute;width: 1px;}#sk-container-id-3 div.sk-estimator {font-family: monospace;background-color: #f0f8ff;border: 1px dotted black;border-radius: 0.25em;box-sizing: border-box;margin-bottom: 0.5em;}#sk-container-id-3 div.sk-estimator:hover {background-color: #d4ebff;}#sk-container-id-3 div.sk-parallel-item::after {content: \"\";width: 100%;border-bottom: 1px solid gray;flex-grow: 1;}#sk-container-id-3 div.sk-label:hover label.sk-toggleable__label {background-color: #d4ebff;}#sk-container-id-3 div.sk-serial::before {content: \"\";position: absolute;border-left: 1px solid gray;box-sizing: border-box;top: 0;bottom: 0;left: 50%;z-index: 0;}#sk-container-id-3 div.sk-serial {display: flex;flex-direction: column;align-items: center;background-color: white;padding-right: 0.2em;padding-left: 0.2em;position: relative;}#sk-container-id-3 div.sk-item {position: relative;z-index: 1;}#sk-container-id-3 div.sk-parallel {display: flex;align-items: stretch;justify-content: center;background-color: white;position: relative;}#sk-container-id-3 div.sk-item::before, #sk-container-id-3 div.sk-parallel-item::before {content: \"\";position: absolute;border-left: 1px solid gray;box-sizing: border-box;top: 0;bottom: 0;left: 50%;z-index: -1;}#sk-container-id-3 div.sk-parallel-item {display: flex;flex-direction: column;z-index: 1;position: relative;background-color: white;}#sk-container-id-3 div.sk-parallel-item:first-child::after {align-self: flex-end;width: 50%;}#sk-container-id-3 div.sk-parallel-item:last-child::after {align-self: flex-start;width: 50%;}#sk-container-id-3 div.sk-parallel-item:only-child::after {width: 0;}#sk-container-id-3 div.sk-dashed-wrapped {border: 1px dashed gray;margin: 0 0.4em 0.5em 0.4em;box-sizing: border-box;padding-bottom: 0.4em;background-color: white;}#sk-container-id-3 div.sk-label label {font-family: monospace;font-weight: bold;display: inline-block;line-height: 1.2em;}#sk-container-id-3 div.sk-label-container {text-align: center;}#sk-container-id-3 div.sk-container {/* jupyter's `normalize.less` sets `[hidden] { display: none; }` but bootstrap.min.css set `[hidden] { display: none !important; }` so we also need the `!important` here to be able to override the default hidden behavior on the sphinx rendered scikit-learn.org. See: https://github.com/scikit-learn/scikit-learn/issues/21755 */display: inline-block !important;position: relative;}#sk-container-id-3 div.sk-text-repr-fallback {display: none;}</style><div id=\"sk-container-id-3\" class=\"sk-top-container\"><div class=\"sk-text-repr-fallback\"><pre>GridSearchCV(estimator=MLPClassifier(),\n",
       "             param_grid={&#x27;activation&#x27;: [&#x27;relu&#x27;], &#x27;alpha&#x27;: [0.001],\n",
       "                         &#x27;hidden_layer_sizes&#x27;: [300, (100, 100), (200, 100)],\n",
       "                         &#x27;max_iter&#x27;: [100], &#x27;random_state&#x27;: [0],\n",
       "                         &#x27;solver&#x27;: [&#x27;adam&#x27;]},\n",
       "             verbose=1)</pre><b>In a Jupyter environment, please rerun this cell to show the HTML representation or trust the notebook. <br />On GitHub, the HTML representation is unable to render, please try loading this page with nbviewer.org.</b></div><div class=\"sk-container\" hidden><div class=\"sk-item sk-dashed-wrapped\"><div class=\"sk-label-container\"><div class=\"sk-label sk-toggleable\"><input class=\"sk-toggleable__control sk-hidden--visually\" id=\"sk-estimator-id-7\" type=\"checkbox\" ><label for=\"sk-estimator-id-7\" class=\"sk-toggleable__label sk-toggleable__label-arrow\">GridSearchCV</label><div class=\"sk-toggleable__content\"><pre>GridSearchCV(estimator=MLPClassifier(),\n",
       "             param_grid={&#x27;activation&#x27;: [&#x27;relu&#x27;], &#x27;alpha&#x27;: [0.001],\n",
       "                         &#x27;hidden_layer_sizes&#x27;: [300, (100, 100), (200, 100)],\n",
       "                         &#x27;max_iter&#x27;: [100], &#x27;random_state&#x27;: [0],\n",
       "                         &#x27;solver&#x27;: [&#x27;adam&#x27;]},\n",
       "             verbose=1)</pre></div></div></div><div class=\"sk-parallel\"><div class=\"sk-parallel-item\"><div class=\"sk-item\"><div class=\"sk-label-container\"><div class=\"sk-label sk-toggleable\"><input class=\"sk-toggleable__control sk-hidden--visually\" id=\"sk-estimator-id-8\" type=\"checkbox\" ><label for=\"sk-estimator-id-8\" class=\"sk-toggleable__label sk-toggleable__label-arrow\">estimator: MLPClassifier</label><div class=\"sk-toggleable__content\"><pre>MLPClassifier()</pre></div></div></div><div class=\"sk-serial\"><div class=\"sk-item\"><div class=\"sk-estimator sk-toggleable\"><input class=\"sk-toggleable__control sk-hidden--visually\" id=\"sk-estimator-id-9\" type=\"checkbox\" ><label for=\"sk-estimator-id-9\" class=\"sk-toggleable__label sk-toggleable__label-arrow\">MLPClassifier</label><div class=\"sk-toggleable__content\"><pre>MLPClassifier()</pre></div></div></div></div></div></div></div></div></div></div>"
      ],
      "text/plain": [
       "GridSearchCV(estimator=MLPClassifier(),\n",
       "             param_grid={'activation': ['relu'], 'alpha': [0.001],\n",
       "                         'hidden_layer_sizes': [300, (100, 100), (200, 100)],\n",
       "                         'max_iter': [100], 'random_state': [0],\n",
       "                         'solver': ['adam']},\n",
       "             verbose=1)"
      ]
     },
     "execution_count": 43,
     "metadata": {},
     "output_type": "execute_result"
    }
   ],
   "source": [
    "param_grid = {\n",
    "    \"hidden_layer_sizes\": [\n",
    "        300, (100, 100), (200, 100)\n",
    "    ],\n",
    "    \"activation\": [\"relu\"],\n",
    "    \"solver\": [\"adam\"],\n",
    "    \"alpha\": [1e-03],\n",
    "    \"max_iter\": [100],\n",
    "    \"random_state\": [0]\n",
    "}\n",
    "ann_cv_model2 = GridSearchCV(\n",
    "    estimator=MLPClassifier(),\n",
    "    param_grid=param_grid,\n",
    "    verbose=1\n",
    ")\n",
    "ann_cv_model2.fit(x_train_final, y_train_final)"
   ]
  },
  {
   "cell_type": "code",
   "execution_count": 44,
   "metadata": {
    "pycharm": {
     "name": "#%%\n"
    }
   },
   "outputs": [
    {
     "name": "stdout",
     "output_type": "stream",
     "text": [
      "Best ANN model training accuracy : 88.17%\n",
      "Best ANN model test accuracy : 80.33%\n"
     ]
    }
   ],
   "source": [
    "ann_cv_train_accuracy2 = ann_cv_model2.best_score_\n",
    "ann_cv_accuracy2 = ann_cv_model2.score(x_test_final, y_test_final)\n",
    "\n",
    "print(f\"Best ANN model training accuracy : {ann_cv_train_accuracy2:.2%}\")\n",
    "print(f\"Best ANN model test accuracy : {ann_cv_accuracy2:.2%}\")"
   ]
  },
  {
   "cell_type": "code",
   "execution_count": 45,
   "metadata": {
    "pycharm": {
     "name": "#%%\n"
    }
   },
   "outputs": [
    {
     "name": "stdout",
     "output_type": "stream",
     "text": [
      "Best ANN parameters: {'activation': 'relu', 'alpha': 0.001, 'hidden_layer_sizes': (200, 100), 'max_iter': 100, 'random_state': 0, 'solver': 'adam'}\n"
     ]
    }
   ],
   "source": [
    "print(f\"Best ANN parameters: {ann_cv_model2.best_params_}\")"
   ]
  },
  {
   "cell_type": "code",
   "execution_count": 48,
   "metadata": {
    "pycharm": {
     "name": "#%%\n"
    }
   },
   "outputs": [
    {
     "data": {
      "text/plain": [
       "array([[0.8817185531105206,\n",
       "        {'activation': 'relu', 'alpha': 0.001, 'hidden_layer_sizes': (200, 100), 'max_iter': 100, 'random_state': 0, 'solver': 'adam'}],\n",
       "       [0.8709734867361515,\n",
       "        {'activation': 'relu', 'alpha': 0.001, 'hidden_layer_sizes': (100, 100), 'max_iter': 100, 'random_state': 0, 'solver': 'adam'}],\n",
       "       [0.8407969735324411,\n",
       "        {'activation': 'relu', 'alpha': 0.001, 'hidden_layer_sizes': 300, 'max_iter': 100, 'random_state': 0, 'solver': 'adam'}]],\n",
       "      dtype=object)"
      ]
     },
     "execution_count": 48,
     "metadata": {},
     "output_type": "execute_result"
    }
   ],
   "source": [
    "ann_cv_results2 = pd.DataFrame(ann_cv_model2.cv_results_)\n",
    "ann_cv_results2.sort_values(by=\"mean_test_score\", ascending=False, inplace=True)\n",
    "\n",
    "ann_cv_results2[[\"mean_test_score\", \"params\"]].values"
   ]
  },
  {
   "cell_type": "markdown",
   "metadata": {
    "pycharm": {
     "name": "#%% md\n"
    }
   },
   "source": [
    "Tuning 3"
   ]
  },
  {
   "cell_type": "code",
   "execution_count": 49,
   "metadata": {
    "pycharm": {
     "name": "#%%\n"
    }
   },
   "outputs": [
    {
     "name": "stdout",
     "output_type": "stream",
     "text": [
      "Fitting 5 folds for each of 6 candidates, totalling 30 fits\n"
     ]
    },
    {
     "name": "stderr",
     "output_type": "stream",
     "text": [
      "C:\\Users\\Choong Man Shun\\.virtualenvs\\odl-txaD7ivL-py3.10\\lib\\site-packages\\sklearn\\neural_network\\_multilayer_perceptron.py:559: ConvergenceWarning: lbfgs failed to converge (status=1):\n",
      "STOP: TOTAL NO. of ITERATIONS REACHED LIMIT.\n",
      "\n",
      "Increase the number of iterations (max_iter) or scale the data as shown in:\n",
      "    https://scikit-learn.org/stable/modules/preprocessing.html\n",
      "  self.n_iter_ = _check_optimize_result(\"lbfgs\", opt_res, self.max_iter)\n",
      "C:\\Users\\Choong Man Shun\\.virtualenvs\\odl-txaD7ivL-py3.10\\lib\\site-packages\\sklearn\\neural_network\\_multilayer_perceptron.py:559: ConvergenceWarning: lbfgs failed to converge (status=1):\n",
      "STOP: TOTAL NO. of ITERATIONS REACHED LIMIT.\n",
      "\n",
      "Increase the number of iterations (max_iter) or scale the data as shown in:\n",
      "    https://scikit-learn.org/stable/modules/preprocessing.html\n",
      "  self.n_iter_ = _check_optimize_result(\"lbfgs\", opt_res, self.max_iter)\n",
      "C:\\Users\\Choong Man Shun\\.virtualenvs\\odl-txaD7ivL-py3.10\\lib\\site-packages\\sklearn\\neural_network\\_multilayer_perceptron.py:559: ConvergenceWarning: lbfgs failed to converge (status=1):\n",
      "STOP: TOTAL NO. of ITERATIONS REACHED LIMIT.\n",
      "\n",
      "Increase the number of iterations (max_iter) or scale the data as shown in:\n",
      "    https://scikit-learn.org/stable/modules/preprocessing.html\n",
      "  self.n_iter_ = _check_optimize_result(\"lbfgs\", opt_res, self.max_iter)\n",
      "C:\\Users\\Choong Man Shun\\.virtualenvs\\odl-txaD7ivL-py3.10\\lib\\site-packages\\sklearn\\neural_network\\_multilayer_perceptron.py:559: ConvergenceWarning: lbfgs failed to converge (status=1):\n",
      "STOP: TOTAL NO. of ITERATIONS REACHED LIMIT.\n",
      "\n",
      "Increase the number of iterations (max_iter) or scale the data as shown in:\n",
      "    https://scikit-learn.org/stable/modules/preprocessing.html\n",
      "  self.n_iter_ = _check_optimize_result(\"lbfgs\", opt_res, self.max_iter)\n",
      "C:\\Users\\Choong Man Shun\\.virtualenvs\\odl-txaD7ivL-py3.10\\lib\\site-packages\\sklearn\\neural_network\\_multilayer_perceptron.py:559: ConvergenceWarning: lbfgs failed to converge (status=1):\n",
      "STOP: TOTAL NO. of ITERATIONS REACHED LIMIT.\n",
      "\n",
      "Increase the number of iterations (max_iter) or scale the data as shown in:\n",
      "    https://scikit-learn.org/stable/modules/preprocessing.html\n",
      "  self.n_iter_ = _check_optimize_result(\"lbfgs\", opt_res, self.max_iter)\n",
      "C:\\Users\\Choong Man Shun\\.virtualenvs\\odl-txaD7ivL-py3.10\\lib\\site-packages\\sklearn\\neural_network\\_multilayer_perceptron.py:702: ConvergenceWarning: Stochastic Optimizer: Maximum iterations (100) reached and the optimization hasn't converged yet.\n",
      "  warnings.warn(\n",
      "C:\\Users\\Choong Man Shun\\.virtualenvs\\odl-txaD7ivL-py3.10\\lib\\site-packages\\sklearn\\neural_network\\_multilayer_perceptron.py:702: ConvergenceWarning: Stochastic Optimizer: Maximum iterations (100) reached and the optimization hasn't converged yet.\n",
      "  warnings.warn(\n",
      "C:\\Users\\Choong Man Shun\\.virtualenvs\\odl-txaD7ivL-py3.10\\lib\\site-packages\\sklearn\\neural_network\\_multilayer_perceptron.py:702: ConvergenceWarning: Stochastic Optimizer: Maximum iterations (100) reached and the optimization hasn't converged yet.\n",
      "  warnings.warn(\n",
      "C:\\Users\\Choong Man Shun\\.virtualenvs\\odl-txaD7ivL-py3.10\\lib\\site-packages\\sklearn\\neural_network\\_multilayer_perceptron.py:702: ConvergenceWarning: Stochastic Optimizer: Maximum iterations (100) reached and the optimization hasn't converged yet.\n",
      "  warnings.warn(\n",
      "C:\\Users\\Choong Man Shun\\.virtualenvs\\odl-txaD7ivL-py3.10\\lib\\site-packages\\sklearn\\neural_network\\_multilayer_perceptron.py:702: ConvergenceWarning: Stochastic Optimizer: Maximum iterations (100) reached and the optimization hasn't converged yet.\n",
      "  warnings.warn(\n",
      "C:\\Users\\Choong Man Shun\\.virtualenvs\\odl-txaD7ivL-py3.10\\lib\\site-packages\\sklearn\\neural_network\\_multilayer_perceptron.py:702: ConvergenceWarning: Stochastic Optimizer: Maximum iterations (100) reached and the optimization hasn't converged yet.\n",
      "  warnings.warn(\n",
      "C:\\Users\\Choong Man Shun\\.virtualenvs\\odl-txaD7ivL-py3.10\\lib\\site-packages\\sklearn\\neural_network\\_multilayer_perceptron.py:702: ConvergenceWarning: Stochastic Optimizer: Maximum iterations (100) reached and the optimization hasn't converged yet.\n",
      "  warnings.warn(\n",
      "C:\\Users\\Choong Man Shun\\.virtualenvs\\odl-txaD7ivL-py3.10\\lib\\site-packages\\sklearn\\neural_network\\_multilayer_perceptron.py:702: ConvergenceWarning: Stochastic Optimizer: Maximum iterations (100) reached and the optimization hasn't converged yet.\n",
      "  warnings.warn(\n",
      "C:\\Users\\Choong Man Shun\\.virtualenvs\\odl-txaD7ivL-py3.10\\lib\\site-packages\\sklearn\\neural_network\\_multilayer_perceptron.py:702: ConvergenceWarning: Stochastic Optimizer: Maximum iterations (100) reached and the optimization hasn't converged yet.\n",
      "  warnings.warn(\n",
      "C:\\Users\\Choong Man Shun\\.virtualenvs\\odl-txaD7ivL-py3.10\\lib\\site-packages\\sklearn\\neural_network\\_multilayer_perceptron.py:702: ConvergenceWarning: Stochastic Optimizer: Maximum iterations (100) reached and the optimization hasn't converged yet.\n",
      "  warnings.warn(\n",
      "C:\\Users\\Choong Man Shun\\.virtualenvs\\odl-txaD7ivL-py3.10\\lib\\site-packages\\sklearn\\neural_network\\_multilayer_perceptron.py:559: ConvergenceWarning: lbfgs failed to converge (status=1):\n",
      "STOP: TOTAL NO. of ITERATIONS REACHED LIMIT.\n",
      "\n",
      "Increase the number of iterations (max_iter) or scale the data as shown in:\n",
      "    https://scikit-learn.org/stable/modules/preprocessing.html\n",
      "  self.n_iter_ = _check_optimize_result(\"lbfgs\", opt_res, self.max_iter)\n",
      "C:\\Users\\Choong Man Shun\\.virtualenvs\\odl-txaD7ivL-py3.10\\lib\\site-packages\\sklearn\\neural_network\\_multilayer_perceptron.py:559: ConvergenceWarning: lbfgs failed to converge (status=1):\n",
      "STOP: TOTAL NO. of ITERATIONS REACHED LIMIT.\n",
      "\n",
      "Increase the number of iterations (max_iter) or scale the data as shown in:\n",
      "    https://scikit-learn.org/stable/modules/preprocessing.html\n",
      "  self.n_iter_ = _check_optimize_result(\"lbfgs\", opt_res, self.max_iter)\n",
      "C:\\Users\\Choong Man Shun\\.virtualenvs\\odl-txaD7ivL-py3.10\\lib\\site-packages\\sklearn\\neural_network\\_multilayer_perceptron.py:559: ConvergenceWarning: lbfgs failed to converge (status=1):\n",
      "STOP: TOTAL NO. of ITERATIONS REACHED LIMIT.\n",
      "\n",
      "Increase the number of iterations (max_iter) or scale the data as shown in:\n",
      "    https://scikit-learn.org/stable/modules/preprocessing.html\n",
      "  self.n_iter_ = _check_optimize_result(\"lbfgs\", opt_res, self.max_iter)\n",
      "C:\\Users\\Choong Man Shun\\.virtualenvs\\odl-txaD7ivL-py3.10\\lib\\site-packages\\sklearn\\neural_network\\_multilayer_perceptron.py:559: ConvergenceWarning: lbfgs failed to converge (status=1):\n",
      "STOP: TOTAL NO. of ITERATIONS REACHED LIMIT.\n",
      "\n",
      "Increase the number of iterations (max_iter) or scale the data as shown in:\n",
      "    https://scikit-learn.org/stable/modules/preprocessing.html\n",
      "  self.n_iter_ = _check_optimize_result(\"lbfgs\", opt_res, self.max_iter)\n",
      "C:\\Users\\Choong Man Shun\\.virtualenvs\\odl-txaD7ivL-py3.10\\lib\\site-packages\\sklearn\\neural_network\\_multilayer_perceptron.py:559: ConvergenceWarning: lbfgs failed to converge (status=1):\n",
      "STOP: TOTAL NO. of ITERATIONS REACHED LIMIT.\n",
      "\n",
      "Increase the number of iterations (max_iter) or scale the data as shown in:\n",
      "    https://scikit-learn.org/stable/modules/preprocessing.html\n",
      "  self.n_iter_ = _check_optimize_result(\"lbfgs\", opt_res, self.max_iter)\n",
      "C:\\Users\\Choong Man Shun\\.virtualenvs\\odl-txaD7ivL-py3.10\\lib\\site-packages\\sklearn\\neural_network\\_multilayer_perceptron.py:702: ConvergenceWarning: Stochastic Optimizer: Maximum iterations (100) reached and the optimization hasn't converged yet.\n",
      "  warnings.warn(\n",
      "C:\\Users\\Choong Man Shun\\.virtualenvs\\odl-txaD7ivL-py3.10\\lib\\site-packages\\sklearn\\neural_network\\_multilayer_perceptron.py:702: ConvergenceWarning: Stochastic Optimizer: Maximum iterations (100) reached and the optimization hasn't converged yet.\n",
      "  warnings.warn(\n",
      "C:\\Users\\Choong Man Shun\\.virtualenvs\\odl-txaD7ivL-py3.10\\lib\\site-packages\\sklearn\\neural_network\\_multilayer_perceptron.py:702: ConvergenceWarning: Stochastic Optimizer: Maximum iterations (100) reached and the optimization hasn't converged yet.\n",
      "  warnings.warn(\n",
      "C:\\Users\\Choong Man Shun\\.virtualenvs\\odl-txaD7ivL-py3.10\\lib\\site-packages\\sklearn\\neural_network\\_multilayer_perceptron.py:702: ConvergenceWarning: Stochastic Optimizer: Maximum iterations (100) reached and the optimization hasn't converged yet.\n",
      "  warnings.warn(\n",
      "C:\\Users\\Choong Man Shun\\.virtualenvs\\odl-txaD7ivL-py3.10\\lib\\site-packages\\sklearn\\neural_network\\_multilayer_perceptron.py:702: ConvergenceWarning: Stochastic Optimizer: Maximum iterations (100) reached and the optimization hasn't converged yet.\n",
      "  warnings.warn(\n",
      "C:\\Users\\Choong Man Shun\\.virtualenvs\\odl-txaD7ivL-py3.10\\lib\\site-packages\\sklearn\\neural_network\\_multilayer_perceptron.py:702: ConvergenceWarning: Stochastic Optimizer: Maximum iterations (100) reached and the optimization hasn't converged yet.\n",
      "  warnings.warn(\n",
      "C:\\Users\\Choong Man Shun\\.virtualenvs\\odl-txaD7ivL-py3.10\\lib\\site-packages\\sklearn\\neural_network\\_multilayer_perceptron.py:702: ConvergenceWarning: Stochastic Optimizer: Maximum iterations (100) reached and the optimization hasn't converged yet.\n",
      "  warnings.warn(\n",
      "C:\\Users\\Choong Man Shun\\.virtualenvs\\odl-txaD7ivL-py3.10\\lib\\site-packages\\sklearn\\neural_network\\_multilayer_perceptron.py:702: ConvergenceWarning: Stochastic Optimizer: Maximum iterations (100) reached and the optimization hasn't converged yet.\n",
      "  warnings.warn(\n",
      "C:\\Users\\Choong Man Shun\\.virtualenvs\\odl-txaD7ivL-py3.10\\lib\\site-packages\\sklearn\\neural_network\\_multilayer_perceptron.py:702: ConvergenceWarning: Stochastic Optimizer: Maximum iterations (100) reached and the optimization hasn't converged yet.\n",
      "  warnings.warn(\n",
      "C:\\Users\\Choong Man Shun\\.virtualenvs\\odl-txaD7ivL-py3.10\\lib\\site-packages\\sklearn\\neural_network\\_multilayer_perceptron.py:702: ConvergenceWarning: Stochastic Optimizer: Maximum iterations (100) reached and the optimization hasn't converged yet.\n",
      "  warnings.warn(\n",
      "C:\\Users\\Choong Man Shun\\.virtualenvs\\odl-txaD7ivL-py3.10\\lib\\site-packages\\sklearn\\neural_network\\_multilayer_perceptron.py:702: ConvergenceWarning: Stochastic Optimizer: Maximum iterations (100) reached and the optimization hasn't converged yet.\n",
      "  warnings.warn(\n"
     ]
    },
    {
     "data": {
      "text/html": [
       "<style>#sk-container-id-4 {color: black;background-color: white;}#sk-container-id-4 pre{padding: 0;}#sk-container-id-4 div.sk-toggleable {background-color: white;}#sk-container-id-4 label.sk-toggleable__label {cursor: pointer;display: block;width: 100%;margin-bottom: 0;padding: 0.3em;box-sizing: border-box;text-align: center;}#sk-container-id-4 label.sk-toggleable__label-arrow:before {content: \"▸\";float: left;margin-right: 0.25em;color: #696969;}#sk-container-id-4 label.sk-toggleable__label-arrow:hover:before {color: black;}#sk-container-id-4 div.sk-estimator:hover label.sk-toggleable__label-arrow:before {color: black;}#sk-container-id-4 div.sk-toggleable__content {max-height: 0;max-width: 0;overflow: hidden;text-align: left;background-color: #f0f8ff;}#sk-container-id-4 div.sk-toggleable__content pre {margin: 0.2em;color: black;border-radius: 0.25em;background-color: #f0f8ff;}#sk-container-id-4 input.sk-toggleable__control:checked~div.sk-toggleable__content {max-height: 200px;max-width: 100%;overflow: auto;}#sk-container-id-4 input.sk-toggleable__control:checked~label.sk-toggleable__label-arrow:before {content: \"▾\";}#sk-container-id-4 div.sk-estimator input.sk-toggleable__control:checked~label.sk-toggleable__label {background-color: #d4ebff;}#sk-container-id-4 div.sk-label input.sk-toggleable__control:checked~label.sk-toggleable__label {background-color: #d4ebff;}#sk-container-id-4 input.sk-hidden--visually {border: 0;clip: rect(1px 1px 1px 1px);clip: rect(1px, 1px, 1px, 1px);height: 1px;margin: -1px;overflow: hidden;padding: 0;position: absolute;width: 1px;}#sk-container-id-4 div.sk-estimator {font-family: monospace;background-color: #f0f8ff;border: 1px dotted black;border-radius: 0.25em;box-sizing: border-box;margin-bottom: 0.5em;}#sk-container-id-4 div.sk-estimator:hover {background-color: #d4ebff;}#sk-container-id-4 div.sk-parallel-item::after {content: \"\";width: 100%;border-bottom: 1px solid gray;flex-grow: 1;}#sk-container-id-4 div.sk-label:hover label.sk-toggleable__label {background-color: #d4ebff;}#sk-container-id-4 div.sk-serial::before {content: \"\";position: absolute;border-left: 1px solid gray;box-sizing: border-box;top: 0;bottom: 0;left: 50%;z-index: 0;}#sk-container-id-4 div.sk-serial {display: flex;flex-direction: column;align-items: center;background-color: white;padding-right: 0.2em;padding-left: 0.2em;position: relative;}#sk-container-id-4 div.sk-item {position: relative;z-index: 1;}#sk-container-id-4 div.sk-parallel {display: flex;align-items: stretch;justify-content: center;background-color: white;position: relative;}#sk-container-id-4 div.sk-item::before, #sk-container-id-4 div.sk-parallel-item::before {content: \"\";position: absolute;border-left: 1px solid gray;box-sizing: border-box;top: 0;bottom: 0;left: 50%;z-index: -1;}#sk-container-id-4 div.sk-parallel-item {display: flex;flex-direction: column;z-index: 1;position: relative;background-color: white;}#sk-container-id-4 div.sk-parallel-item:first-child::after {align-self: flex-end;width: 50%;}#sk-container-id-4 div.sk-parallel-item:last-child::after {align-self: flex-start;width: 50%;}#sk-container-id-4 div.sk-parallel-item:only-child::after {width: 0;}#sk-container-id-4 div.sk-dashed-wrapped {border: 1px dashed gray;margin: 0 0.4em 0.5em 0.4em;box-sizing: border-box;padding-bottom: 0.4em;background-color: white;}#sk-container-id-4 div.sk-label label {font-family: monospace;font-weight: bold;display: inline-block;line-height: 1.2em;}#sk-container-id-4 div.sk-label-container {text-align: center;}#sk-container-id-4 div.sk-container {/* jupyter's `normalize.less` sets `[hidden] { display: none; }` but bootstrap.min.css set `[hidden] { display: none !important; }` so we also need the `!important` here to be able to override the default hidden behavior on the sphinx rendered scikit-learn.org. See: https://github.com/scikit-learn/scikit-learn/issues/21755 */display: inline-block !important;position: relative;}#sk-container-id-4 div.sk-text-repr-fallback {display: none;}</style><div id=\"sk-container-id-4\" class=\"sk-top-container\"><div class=\"sk-text-repr-fallback\"><pre>GridSearchCV(estimator=MLPClassifier(),\n",
       "             param_grid={&#x27;activation&#x27;: [&#x27;relu&#x27;, &#x27;logistic&#x27;], &#x27;alpha&#x27;: [0.001],\n",
       "                         &#x27;hidden_layer_sizes&#x27;: [(200, 100)], &#x27;max_iter&#x27;: [100],\n",
       "                         &#x27;random_state&#x27;: [0],\n",
       "                         &#x27;solver&#x27;: [&#x27;lbfgs&#x27;, &#x27;sgd&#x27;, &#x27;adam&#x27;]},\n",
       "             verbose=1)</pre><b>In a Jupyter environment, please rerun this cell to show the HTML representation or trust the notebook. <br />On GitHub, the HTML representation is unable to render, please try loading this page with nbviewer.org.</b></div><div class=\"sk-container\" hidden><div class=\"sk-item sk-dashed-wrapped\"><div class=\"sk-label-container\"><div class=\"sk-label sk-toggleable\"><input class=\"sk-toggleable__control sk-hidden--visually\" id=\"sk-estimator-id-10\" type=\"checkbox\" ><label for=\"sk-estimator-id-10\" class=\"sk-toggleable__label sk-toggleable__label-arrow\">GridSearchCV</label><div class=\"sk-toggleable__content\"><pre>GridSearchCV(estimator=MLPClassifier(),\n",
       "             param_grid={&#x27;activation&#x27;: [&#x27;relu&#x27;, &#x27;logistic&#x27;], &#x27;alpha&#x27;: [0.001],\n",
       "                         &#x27;hidden_layer_sizes&#x27;: [(200, 100)], &#x27;max_iter&#x27;: [100],\n",
       "                         &#x27;random_state&#x27;: [0],\n",
       "                         &#x27;solver&#x27;: [&#x27;lbfgs&#x27;, &#x27;sgd&#x27;, &#x27;adam&#x27;]},\n",
       "             verbose=1)</pre></div></div></div><div class=\"sk-parallel\"><div class=\"sk-parallel-item\"><div class=\"sk-item\"><div class=\"sk-label-container\"><div class=\"sk-label sk-toggleable\"><input class=\"sk-toggleable__control sk-hidden--visually\" id=\"sk-estimator-id-11\" type=\"checkbox\" ><label for=\"sk-estimator-id-11\" class=\"sk-toggleable__label sk-toggleable__label-arrow\">estimator: MLPClassifier</label><div class=\"sk-toggleable__content\"><pre>MLPClassifier()</pre></div></div></div><div class=\"sk-serial\"><div class=\"sk-item\"><div class=\"sk-estimator sk-toggleable\"><input class=\"sk-toggleable__control sk-hidden--visually\" id=\"sk-estimator-id-12\" type=\"checkbox\" ><label for=\"sk-estimator-id-12\" class=\"sk-toggleable__label sk-toggleable__label-arrow\">MLPClassifier</label><div class=\"sk-toggleable__content\"><pre>MLPClassifier()</pre></div></div></div></div></div></div></div></div></div></div>"
      ],
      "text/plain": [
       "GridSearchCV(estimator=MLPClassifier(),\n",
       "             param_grid={'activation': ['relu', 'logistic'], 'alpha': [0.001],\n",
       "                         'hidden_layer_sizes': [(200, 100)], 'max_iter': [100],\n",
       "                         'random_state': [0],\n",
       "                         'solver': ['lbfgs', 'sgd', 'adam']},\n",
       "             verbose=1)"
      ]
     },
     "execution_count": 49,
     "metadata": {},
     "output_type": "execute_result"
    }
   ],
   "source": [
    "param_grid = {\n",
    "    \"hidden_layer_sizes\": [(200, 100)],\n",
    "    \"activation\": [\"relu\", \"logistic\"],\n",
    "    \"solver\": [\"lbfgs\", \"sgd\", \"adam\"],\n",
    "    \"alpha\": [1e-03],\n",
    "    \"max_iter\": [100],\n",
    "    \"random_state\": [0]\n",
    "}\n",
    "ann_cv_model3 = GridSearchCV(\n",
    "    estimator=MLPClassifier(),\n",
    "    param_grid=param_grid,\n",
    "    verbose=1\n",
    ")\n",
    "ann_cv_model3.fit(x_train_final, y_train_final)"
   ]
  },
  {
   "cell_type": "code",
   "execution_count": 50,
   "metadata": {
    "pycharm": {
     "name": "#%%\n"
    }
   },
   "outputs": [
    {
     "name": "stdout",
     "output_type": "stream",
     "text": [
      "Best ANN model training accuracy : 88.17%\n",
      "Best ANN model test accuracy : 80.33%\n"
     ]
    }
   ],
   "source": [
    "ann_cv_train_accuracy3 = ann_cv_model3.best_score_\n",
    "ann_cv_accuracy3 = ann_cv_model3.score(x_test_final, y_test_final)\n",
    "\n",
    "print(f\"Best ANN model training accuracy : {ann_cv_train_accuracy3:.2%}\")\n",
    "print(f\"Best ANN model test accuracy : {ann_cv_accuracy3:.2%}\")"
   ]
  },
  {
   "cell_type": "code",
   "execution_count": 51,
   "metadata": {
    "pycharm": {
     "name": "#%%\n"
    }
   },
   "outputs": [
    {
     "name": "stdout",
     "output_type": "stream",
     "text": [
      "Best ANN parameters: {'activation': 'relu', 'alpha': 0.001, 'hidden_layer_sizes': (200, 100), 'max_iter': 100, 'random_state': 0, 'solver': 'adam'}\n"
     ]
    }
   ],
   "source": [
    "print(f\"Best ANN parameters: {ann_cv_model3.best_params_}\")"
   ]
  },
  {
   "cell_type": "code",
   "execution_count": 54,
   "metadata": {
    "pycharm": {
     "name": "#%%\n"
    }
   },
   "outputs": [
    {
     "data": {
      "text/plain": [
       "array([[0.8817185531105206,\n",
       "        {'activation': 'relu', 'alpha': 0.001, 'hidden_layer_sizes': (200, 100), 'max_iter': 100, 'random_state': 0, 'solver': 'adam'}],\n",
       "       [0.872585066278148,\n",
       "        {'activation': 'relu', 'alpha': 0.001, 'hidden_layer_sizes': (200, 100), 'max_iter': 100, 'random_state': 0, 'solver': 'lbfgs'}],\n",
       "       [0.7870697974269735,\n",
       "        {'activation': 'relu', 'alpha': 0.001, 'hidden_layer_sizes': (200, 100), 'max_iter': 100, 'random_state': 0, 'solver': 'sgd'}],\n",
       "       [0.7856369882702733,\n",
       "        {'activation': 'logistic', 'alpha': 0.001, 'hidden_layer_sizes': (200, 100), 'max_iter': 100, 'random_state': 0, 'solver': 'adam'}],\n",
       "       [0.785281291733303,\n",
       "        {'activation': 'logistic', 'alpha': 0.001, 'hidden_layer_sizes': (200, 100), 'max_iter': 100, 'random_state': 0, 'solver': 'lbfgs'}],\n",
       "       [0.6818575121047877,\n",
       "        {'activation': 'logistic', 'alpha': 0.001, 'hidden_layer_sizes': (200, 100), 'max_iter': 100, 'random_state': 0, 'solver': 'sgd'}]],\n",
       "      dtype=object)"
      ]
     },
     "execution_count": 54,
     "metadata": {},
     "output_type": "execute_result"
    }
   ],
   "source": [
    "ann_cv_results3 = pd.DataFrame(ann_cv_model3.cv_results_)\n",
    "ann_cv_results3.sort_values(by=\"mean_test_score\", ascending=False, inplace=True)\n",
    "\n",
    "ann_cv_results3[[\"mean_test_score\", \"params\"]].values"
   ]
  },
  {
   "cell_type": "markdown",
   "metadata": {
    "pycharm": {
     "name": "#%% md\n"
    }
   },
   "source": [
    "Tuning 4"
   ]
  },
  {
   "cell_type": "code",
   "execution_count": 55,
   "metadata": {
    "pycharm": {
     "name": "#%%\n"
    }
   },
   "outputs": [
    {
     "name": "stdout",
     "output_type": "stream",
     "text": [
      "Fitting 5 folds for each of 4 candidates, totalling 20 fits\n"
     ]
    },
    {
     "name": "stderr",
     "output_type": "stream",
     "text": [
      "C:\\Users\\Choong Man Shun\\.virtualenvs\\odl-txaD7ivL-py3.10\\lib\\site-packages\\sklearn\\neural_network\\_multilayer_perceptron.py:702: ConvergenceWarning: Stochastic Optimizer: Maximum iterations (100) reached and the optimization hasn't converged yet.\n",
      "  warnings.warn(\n",
      "C:\\Users\\Choong Man Shun\\.virtualenvs\\odl-txaD7ivL-py3.10\\lib\\site-packages\\sklearn\\neural_network\\_multilayer_perceptron.py:702: ConvergenceWarning: Stochastic Optimizer: Maximum iterations (100) reached and the optimization hasn't converged yet.\n",
      "  warnings.warn(\n",
      "C:\\Users\\Choong Man Shun\\.virtualenvs\\odl-txaD7ivL-py3.10\\lib\\site-packages\\sklearn\\neural_network\\_multilayer_perceptron.py:702: ConvergenceWarning: Stochastic Optimizer: Maximum iterations (100) reached and the optimization hasn't converged yet.\n",
      "  warnings.warn(\n",
      "C:\\Users\\Choong Man Shun\\.virtualenvs\\odl-txaD7ivL-py3.10\\lib\\site-packages\\sklearn\\neural_network\\_multilayer_perceptron.py:702: ConvergenceWarning: Stochastic Optimizer: Maximum iterations (100) reached and the optimization hasn't converged yet.\n",
      "  warnings.warn(\n",
      "C:\\Users\\Choong Man Shun\\.virtualenvs\\odl-txaD7ivL-py3.10\\lib\\site-packages\\sklearn\\neural_network\\_multilayer_perceptron.py:702: ConvergenceWarning: Stochastic Optimizer: Maximum iterations (100) reached and the optimization hasn't converged yet.\n",
      "  warnings.warn(\n",
      "C:\\Users\\Choong Man Shun\\.virtualenvs\\odl-txaD7ivL-py3.10\\lib\\site-packages\\sklearn\\neural_network\\_multilayer_perceptron.py:702: ConvergenceWarning: Stochastic Optimizer: Maximum iterations (200) reached and the optimization hasn't converged yet.\n",
      "  warnings.warn(\n",
      "C:\\Users\\Choong Man Shun\\.virtualenvs\\odl-txaD7ivL-py3.10\\lib\\site-packages\\sklearn\\neural_network\\_multilayer_perceptron.py:702: ConvergenceWarning: Stochastic Optimizer: Maximum iterations (200) reached and the optimization hasn't converged yet.\n",
      "  warnings.warn(\n",
      "C:\\Users\\Choong Man Shun\\.virtualenvs\\odl-txaD7ivL-py3.10\\lib\\site-packages\\sklearn\\neural_network\\_multilayer_perceptron.py:702: ConvergenceWarning: Stochastic Optimizer: Maximum iterations (200) reached and the optimization hasn't converged yet.\n",
      "  warnings.warn(\n",
      "C:\\Users\\Choong Man Shun\\.virtualenvs\\odl-txaD7ivL-py3.10\\lib\\site-packages\\sklearn\\neural_network\\_multilayer_perceptron.py:702: ConvergenceWarning: Stochastic Optimizer: Maximum iterations (200) reached and the optimization hasn't converged yet.\n",
      "  warnings.warn(\n",
      "C:\\Users\\Choong Man Shun\\.virtualenvs\\odl-txaD7ivL-py3.10\\lib\\site-packages\\sklearn\\neural_network\\_multilayer_perceptron.py:702: ConvergenceWarning: Stochastic Optimizer: Maximum iterations (200) reached and the optimization hasn't converged yet.\n",
      "  warnings.warn(\n",
      "C:\\Users\\Choong Man Shun\\.virtualenvs\\odl-txaD7ivL-py3.10\\lib\\site-packages\\sklearn\\neural_network\\_multilayer_perceptron.py:702: ConvergenceWarning: Stochastic Optimizer: Maximum iterations (100) reached and the optimization hasn't converged yet.\n",
      "  warnings.warn(\n",
      "C:\\Users\\Choong Man Shun\\.virtualenvs\\odl-txaD7ivL-py3.10\\lib\\site-packages\\sklearn\\neural_network\\_multilayer_perceptron.py:702: ConvergenceWarning: Stochastic Optimizer: Maximum iterations (100) reached and the optimization hasn't converged yet.\n",
      "  warnings.warn(\n",
      "C:\\Users\\Choong Man Shun\\.virtualenvs\\odl-txaD7ivL-py3.10\\lib\\site-packages\\sklearn\\neural_network\\_multilayer_perceptron.py:702: ConvergenceWarning: Stochastic Optimizer: Maximum iterations (100) reached and the optimization hasn't converged yet.\n",
      "  warnings.warn(\n",
      "C:\\Users\\Choong Man Shun\\.virtualenvs\\odl-txaD7ivL-py3.10\\lib\\site-packages\\sklearn\\neural_network\\_multilayer_perceptron.py:702: ConvergenceWarning: Stochastic Optimizer: Maximum iterations (100) reached and the optimization hasn't converged yet.\n",
      "  warnings.warn(\n",
      "C:\\Users\\Choong Man Shun\\.virtualenvs\\odl-txaD7ivL-py3.10\\lib\\site-packages\\sklearn\\neural_network\\_multilayer_perceptron.py:702: ConvergenceWarning: Stochastic Optimizer: Maximum iterations (100) reached and the optimization hasn't converged yet.\n",
      "  warnings.warn(\n",
      "C:\\Users\\Choong Man Shun\\.virtualenvs\\odl-txaD7ivL-py3.10\\lib\\site-packages\\sklearn\\neural_network\\_multilayer_perceptron.py:702: ConvergenceWarning: Stochastic Optimizer: Maximum iterations (200) reached and the optimization hasn't converged yet.\n",
      "  warnings.warn(\n",
      "C:\\Users\\Choong Man Shun\\.virtualenvs\\odl-txaD7ivL-py3.10\\lib\\site-packages\\sklearn\\neural_network\\_multilayer_perceptron.py:702: ConvergenceWarning: Stochastic Optimizer: Maximum iterations (200) reached and the optimization hasn't converged yet.\n",
      "  warnings.warn(\n",
      "C:\\Users\\Choong Man Shun\\.virtualenvs\\odl-txaD7ivL-py3.10\\lib\\site-packages\\sklearn\\neural_network\\_multilayer_perceptron.py:702: ConvergenceWarning: Stochastic Optimizer: Maximum iterations (200) reached and the optimization hasn't converged yet.\n",
      "  warnings.warn(\n",
      "C:\\Users\\Choong Man Shun\\.virtualenvs\\odl-txaD7ivL-py3.10\\lib\\site-packages\\sklearn\\neural_network\\_multilayer_perceptron.py:709: UserWarning: Training interrupted by user.\n",
      "  warnings.warn(\"Training interrupted by user.\")\n",
      "C:\\Users\\Choong Man Shun\\.virtualenvs\\odl-txaD7ivL-py3.10\\lib\\site-packages\\sklearn\\neural_network\\_multilayer_perceptron.py:709: UserWarning: Training interrupted by user.\n",
      "  warnings.warn(\"Training interrupted by user.\")\n",
      "C:\\Users\\Choong Man Shun\\.virtualenvs\\odl-txaD7ivL-py3.10\\lib\\site-packages\\sklearn\\neural_network\\_multilayer_perceptron.py:709: UserWarning: Training interrupted by user.\n",
      "  warnings.warn(\"Training interrupted by user.\")\n"
     ]
    },
    {
     "data": {
      "text/html": [
       "<style>#sk-container-id-5 {color: black;background-color: white;}#sk-container-id-5 pre{padding: 0;}#sk-container-id-5 div.sk-toggleable {background-color: white;}#sk-container-id-5 label.sk-toggleable__label {cursor: pointer;display: block;width: 100%;margin-bottom: 0;padding: 0.3em;box-sizing: border-box;text-align: center;}#sk-container-id-5 label.sk-toggleable__label-arrow:before {content: \"▸\";float: left;margin-right: 0.25em;color: #696969;}#sk-container-id-5 label.sk-toggleable__label-arrow:hover:before {color: black;}#sk-container-id-5 div.sk-estimator:hover label.sk-toggleable__label-arrow:before {color: black;}#sk-container-id-5 div.sk-toggleable__content {max-height: 0;max-width: 0;overflow: hidden;text-align: left;background-color: #f0f8ff;}#sk-container-id-5 div.sk-toggleable__content pre {margin: 0.2em;color: black;border-radius: 0.25em;background-color: #f0f8ff;}#sk-container-id-5 input.sk-toggleable__control:checked~div.sk-toggleable__content {max-height: 200px;max-width: 100%;overflow: auto;}#sk-container-id-5 input.sk-toggleable__control:checked~label.sk-toggleable__label-arrow:before {content: \"▾\";}#sk-container-id-5 div.sk-estimator input.sk-toggleable__control:checked~label.sk-toggleable__label {background-color: #d4ebff;}#sk-container-id-5 div.sk-label input.sk-toggleable__control:checked~label.sk-toggleable__label {background-color: #d4ebff;}#sk-container-id-5 input.sk-hidden--visually {border: 0;clip: rect(1px 1px 1px 1px);clip: rect(1px, 1px, 1px, 1px);height: 1px;margin: -1px;overflow: hidden;padding: 0;position: absolute;width: 1px;}#sk-container-id-5 div.sk-estimator {font-family: monospace;background-color: #f0f8ff;border: 1px dotted black;border-radius: 0.25em;box-sizing: border-box;margin-bottom: 0.5em;}#sk-container-id-5 div.sk-estimator:hover {background-color: #d4ebff;}#sk-container-id-5 div.sk-parallel-item::after {content: \"\";width: 100%;border-bottom: 1px solid gray;flex-grow: 1;}#sk-container-id-5 div.sk-label:hover label.sk-toggleable__label {background-color: #d4ebff;}#sk-container-id-5 div.sk-serial::before {content: \"\";position: absolute;border-left: 1px solid gray;box-sizing: border-box;top: 0;bottom: 0;left: 50%;z-index: 0;}#sk-container-id-5 div.sk-serial {display: flex;flex-direction: column;align-items: center;background-color: white;padding-right: 0.2em;padding-left: 0.2em;position: relative;}#sk-container-id-5 div.sk-item {position: relative;z-index: 1;}#sk-container-id-5 div.sk-parallel {display: flex;align-items: stretch;justify-content: center;background-color: white;position: relative;}#sk-container-id-5 div.sk-item::before, #sk-container-id-5 div.sk-parallel-item::before {content: \"\";position: absolute;border-left: 1px solid gray;box-sizing: border-box;top: 0;bottom: 0;left: 50%;z-index: -1;}#sk-container-id-5 div.sk-parallel-item {display: flex;flex-direction: column;z-index: 1;position: relative;background-color: white;}#sk-container-id-5 div.sk-parallel-item:first-child::after {align-self: flex-end;width: 50%;}#sk-container-id-5 div.sk-parallel-item:last-child::after {align-self: flex-start;width: 50%;}#sk-container-id-5 div.sk-parallel-item:only-child::after {width: 0;}#sk-container-id-5 div.sk-dashed-wrapped {border: 1px dashed gray;margin: 0 0.4em 0.5em 0.4em;box-sizing: border-box;padding-bottom: 0.4em;background-color: white;}#sk-container-id-5 div.sk-label label {font-family: monospace;font-weight: bold;display: inline-block;line-height: 1.2em;}#sk-container-id-5 div.sk-label-container {text-align: center;}#sk-container-id-5 div.sk-container {/* jupyter's `normalize.less` sets `[hidden] { display: none; }` but bootstrap.min.css set `[hidden] { display: none !important; }` so we also need the `!important` here to be able to override the default hidden behavior on the sphinx rendered scikit-learn.org. See: https://github.com/scikit-learn/scikit-learn/issues/21755 */display: inline-block !important;position: relative;}#sk-container-id-5 div.sk-text-repr-fallback {display: none;}</style><div id=\"sk-container-id-5\" class=\"sk-top-container\"><div class=\"sk-text-repr-fallback\"><pre>GridSearchCV(estimator=MLPClassifier(),\n",
       "             param_grid={&#x27;activation&#x27;: [&#x27;relu&#x27;], &#x27;alpha&#x27;: [0.001, 0.01],\n",
       "                         &#x27;hidden_layer_sizes&#x27;: [(200, 100)],\n",
       "                         &#x27;max_iter&#x27;: [100, 200], &#x27;random_state&#x27;: [0],\n",
       "                         &#x27;solver&#x27;: [&#x27;adam&#x27;]},\n",
       "             verbose=1)</pre><b>In a Jupyter environment, please rerun this cell to show the HTML representation or trust the notebook. <br />On GitHub, the HTML representation is unable to render, please try loading this page with nbviewer.org.</b></div><div class=\"sk-container\" hidden><div class=\"sk-item sk-dashed-wrapped\"><div class=\"sk-label-container\"><div class=\"sk-label sk-toggleable\"><input class=\"sk-toggleable__control sk-hidden--visually\" id=\"sk-estimator-id-13\" type=\"checkbox\" ><label for=\"sk-estimator-id-13\" class=\"sk-toggleable__label sk-toggleable__label-arrow\">GridSearchCV</label><div class=\"sk-toggleable__content\"><pre>GridSearchCV(estimator=MLPClassifier(),\n",
       "             param_grid={&#x27;activation&#x27;: [&#x27;relu&#x27;], &#x27;alpha&#x27;: [0.001, 0.01],\n",
       "                         &#x27;hidden_layer_sizes&#x27;: [(200, 100)],\n",
       "                         &#x27;max_iter&#x27;: [100, 200], &#x27;random_state&#x27;: [0],\n",
       "                         &#x27;solver&#x27;: [&#x27;adam&#x27;]},\n",
       "             verbose=1)</pre></div></div></div><div class=\"sk-parallel\"><div class=\"sk-parallel-item\"><div class=\"sk-item\"><div class=\"sk-label-container\"><div class=\"sk-label sk-toggleable\"><input class=\"sk-toggleable__control sk-hidden--visually\" id=\"sk-estimator-id-14\" type=\"checkbox\" ><label for=\"sk-estimator-id-14\" class=\"sk-toggleable__label sk-toggleable__label-arrow\">estimator: MLPClassifier</label><div class=\"sk-toggleable__content\"><pre>MLPClassifier()</pre></div></div></div><div class=\"sk-serial\"><div class=\"sk-item\"><div class=\"sk-estimator sk-toggleable\"><input class=\"sk-toggleable__control sk-hidden--visually\" id=\"sk-estimator-id-15\" type=\"checkbox\" ><label for=\"sk-estimator-id-15\" class=\"sk-toggleable__label sk-toggleable__label-arrow\">MLPClassifier</label><div class=\"sk-toggleable__content\"><pre>MLPClassifier()</pre></div></div></div></div></div></div></div></div></div></div>"
      ],
      "text/plain": [
       "GridSearchCV(estimator=MLPClassifier(),\n",
       "             param_grid={'activation': ['relu'], 'alpha': [0.001, 0.01],\n",
       "                         'hidden_layer_sizes': [(200, 100)],\n",
       "                         'max_iter': [100, 200], 'random_state': [0],\n",
       "                         'solver': ['adam']},\n",
       "             verbose=1)"
      ]
     },
     "execution_count": 55,
     "metadata": {},
     "output_type": "execute_result"
    }
   ],
   "source": [
    "param_grid = {\n",
    "    \"hidden_layer_sizes\": [(200, 100)],\n",
    "    \"activation\": [\"relu\"],\n",
    "    \"solver\": [\"adam\"],\n",
    "    \"alpha\": [1e-03, 0.01],\n",
    "    \"max_iter\": [100, 200],\n",
    "    \"random_state\": [0]\n",
    "}\n",
    "ann_cv_model4 = GridSearchCV(\n",
    "    estimator=MLPClassifier(),\n",
    "    param_grid=param_grid,\n",
    "    verbose=2\n",
    ")\n",
    "ann_cv_model4.fit(x_train_final, y_train_final)"
   ]
  },
  {
   "cell_type": "code",
   "execution_count": 56,
   "metadata": {
    "pycharm": {
     "name": "#%%\n"
    }
   },
   "outputs": [
    {
     "name": "stdout",
     "output_type": "stream",
     "text": [
      "Best ANN model training accuracy : 89.97%\n",
      "Best ANN model test accuracy : 65.40%\n"
     ]
    }
   ],
   "source": [
    "ann_cv_train_accuracy4 = ann_cv_model4.best_score_\n",
    "ann_cv_accuracy4 = ann_cv_model4.score(x_test_final, y_test_final)\n",
    "\n",
    "print(f\"Best ANN model training accuracy : {ann_cv_train_accuracy4:.2%}\")\n",
    "print(f\"Best ANN model test accuracy : {ann_cv_accuracy4:.2%}\")"
   ]
  },
  {
   "cell_type": "code",
   "execution_count": 57,
   "metadata": {
    "pycharm": {
     "name": "#%%\n"
    }
   },
   "outputs": [
    {
     "name": "stdout",
     "output_type": "stream",
     "text": [
      "Best ANN parameters: {'activation': 'relu', 'alpha': 0.001, 'hidden_layer_sizes': (200, 100), 'max_iter': 200, 'random_state': 0, 'solver': 'adam'}\n"
     ]
    }
   ],
   "source": [
    "print(f\"Best ANN parameters: {ann_cv_model4.best_params_}\")"
   ]
  },
  {
   "cell_type": "code",
   "execution_count": 58,
   "metadata": {
    "pycharm": {
     "name": "#%%\n"
    }
   },
   "outputs": [
    {
     "data": {
      "text/plain": [
       "array([[0.8997162285743153,\n",
       "        {'activation': 'relu', 'alpha': 0.001, 'hidden_layer_sizes': (200, 100), 'max_iter': 200, 'random_state': 0, 'solver': 'adam'}],\n",
       "       [0.887536308349447,\n",
       "        {'activation': 'relu', 'alpha': 0.01, 'hidden_layer_sizes': (200, 100), 'max_iter': 200, 'random_state': 0, 'solver': 'adam'}],\n",
       "       [0.8817185531105206,\n",
       "        {'activation': 'relu', 'alpha': 0.001, 'hidden_layer_sizes': (200, 100), 'max_iter': 100, 'random_state': 0, 'solver': 'adam'}],\n",
       "       [0.8806440865651188,\n",
       "        {'activation': 'relu', 'alpha': 0.01, 'hidden_layer_sizes': (200, 100), 'max_iter': 100, 'random_state': 0, 'solver': 'adam'}]],\n",
       "      dtype=object)"
      ]
     },
     "execution_count": 58,
     "metadata": {},
     "output_type": "execute_result"
    }
   ],
   "source": [
    "ann_cv_results4 = pd.DataFrame(ann_cv_model4.cv_results_)\n",
    "ann_cv_results4.sort_values(by=\"mean_test_score\", ascending=False, inplace=True)\n",
    "\n",
    "ann_cv_results4[[\"mean_test_score\", \"params\"]].values"
   ]
  },
  {
   "cell_type": "markdown",
   "metadata": {
    "pycharm": {
     "name": "#%% md\n"
    }
   },
   "source": [
    "Tuning 5"
   ]
  },
  {
   "cell_type": "code",
   "execution_count": 59,
   "metadata": {
    "pycharm": {
     "name": "#%%\n"
    }
   },
   "outputs": [
    {
     "name": "stdout",
     "output_type": "stream",
     "text": [
      "Fitting 5 folds for each of 5 candidates, totalling 25 fits\n"
     ]
    },
    {
     "name": "stderr",
     "output_type": "stream",
     "text": [
      "C:\\Users\\Choong Man Shun\\.virtualenvs\\odl-txaD7ivL-py3.10\\lib\\site-packages\\sklearn\\neural_network\\_multilayer_perceptron.py:702: ConvergenceWarning: Stochastic Optimizer: Maximum iterations (200) reached and the optimization hasn't converged yet.\n",
      "  warnings.warn(\n",
      "C:\\Users\\Choong Man Shun\\.virtualenvs\\odl-txaD7ivL-py3.10\\lib\\site-packages\\sklearn\\neural_network\\_multilayer_perceptron.py:702: ConvergenceWarning: Stochastic Optimizer: Maximum iterations (200) reached and the optimization hasn't converged yet.\n",
      "  warnings.warn(\n",
      "C:\\Users\\Choong Man Shun\\.virtualenvs\\odl-txaD7ivL-py3.10\\lib\\site-packages\\sklearn\\neural_network\\_multilayer_perceptron.py:702: ConvergenceWarning: Stochastic Optimizer: Maximum iterations (200) reached and the optimization hasn't converged yet.\n",
      "  warnings.warn(\n",
      "C:\\Users\\Choong Man Shun\\.virtualenvs\\odl-txaD7ivL-py3.10\\lib\\site-packages\\sklearn\\neural_network\\_multilayer_perceptron.py:702: ConvergenceWarning: Stochastic Optimizer: Maximum iterations (200) reached and the optimization hasn't converged yet.\n",
      "  warnings.warn(\n",
      "C:\\Users\\Choong Man Shun\\.virtualenvs\\odl-txaD7ivL-py3.10\\lib\\site-packages\\sklearn\\neural_network\\_multilayer_perceptron.py:702: ConvergenceWarning: Stochastic Optimizer: Maximum iterations (200) reached and the optimization hasn't converged yet.\n",
      "  warnings.warn(\n",
      "C:\\Users\\Choong Man Shun\\.virtualenvs\\odl-txaD7ivL-py3.10\\lib\\site-packages\\sklearn\\neural_network\\_multilayer_perceptron.py:702: ConvergenceWarning: Stochastic Optimizer: Maximum iterations (200) reached and the optimization hasn't converged yet.\n",
      "  warnings.warn(\n",
      "C:\\Users\\Choong Man Shun\\.virtualenvs\\odl-txaD7ivL-py3.10\\lib\\site-packages\\sklearn\\neural_network\\_multilayer_perceptron.py:702: ConvergenceWarning: Stochastic Optimizer: Maximum iterations (200) reached and the optimization hasn't converged yet.\n",
      "  warnings.warn(\n",
      "C:\\Users\\Choong Man Shun\\.virtualenvs\\odl-txaD7ivL-py3.10\\lib\\site-packages\\sklearn\\neural_network\\_multilayer_perceptron.py:702: ConvergenceWarning: Stochastic Optimizer: Maximum iterations (200) reached and the optimization hasn't converged yet.\n",
      "  warnings.warn(\n",
      "C:\\Users\\Choong Man Shun\\.virtualenvs\\odl-txaD7ivL-py3.10\\lib\\site-packages\\sklearn\\neural_network\\_multilayer_perceptron.py:702: ConvergenceWarning: Stochastic Optimizer: Maximum iterations (200) reached and the optimization hasn't converged yet.\n",
      "  warnings.warn(\n",
      "C:\\Users\\Choong Man Shun\\.virtualenvs\\odl-txaD7ivL-py3.10\\lib\\site-packages\\sklearn\\neural_network\\_multilayer_perceptron.py:702: ConvergenceWarning: Stochastic Optimizer: Maximum iterations (200) reached and the optimization hasn't converged yet.\n",
      "  warnings.warn(\n",
      "C:\\Users\\Choong Man Shun\\.virtualenvs\\odl-txaD7ivL-py3.10\\lib\\site-packages\\sklearn\\neural_network\\_multilayer_perceptron.py:702: ConvergenceWarning: Stochastic Optimizer: Maximum iterations (200) reached and the optimization hasn't converged yet.\n",
      "  warnings.warn(\n",
      "C:\\Users\\Choong Man Shun\\.virtualenvs\\odl-txaD7ivL-py3.10\\lib\\site-packages\\sklearn\\neural_network\\_multilayer_perceptron.py:702: ConvergenceWarning: Stochastic Optimizer: Maximum iterations (200) reached and the optimization hasn't converged yet.\n",
      "  warnings.warn(\n",
      "C:\\Users\\Choong Man Shun\\.virtualenvs\\odl-txaD7ivL-py3.10\\lib\\site-packages\\sklearn\\neural_network\\_multilayer_perceptron.py:702: ConvergenceWarning: Stochastic Optimizer: Maximum iterations (200) reached and the optimization hasn't converged yet.\n",
      "  warnings.warn(\n",
      "C:\\Users\\Choong Man Shun\\.virtualenvs\\odl-txaD7ivL-py3.10\\lib\\site-packages\\sklearn\\neural_network\\_multilayer_perceptron.py:702: ConvergenceWarning: Stochastic Optimizer: Maximum iterations (200) reached and the optimization hasn't converged yet.\n",
      "  warnings.warn(\n",
      "C:\\Users\\Choong Man Shun\\.virtualenvs\\odl-txaD7ivL-py3.10\\lib\\site-packages\\sklearn\\neural_network\\_multilayer_perceptron.py:702: ConvergenceWarning: Stochastic Optimizer: Maximum iterations (200) reached and the optimization hasn't converged yet.\n",
      "  warnings.warn(\n",
      "C:\\Users\\Choong Man Shun\\.virtualenvs\\odl-txaD7ivL-py3.10\\lib\\site-packages\\sklearn\\neural_network\\_multilayer_perceptron.py:702: ConvergenceWarning: Stochastic Optimizer: Maximum iterations (200) reached and the optimization hasn't converged yet.\n",
      "  warnings.warn(\n",
      "C:\\Users\\Choong Man Shun\\.virtualenvs\\odl-txaD7ivL-py3.10\\lib\\site-packages\\sklearn\\neural_network\\_multilayer_perceptron.py:702: ConvergenceWarning: Stochastic Optimizer: Maximum iterations (200) reached and the optimization hasn't converged yet.\n",
      "  warnings.warn(\n",
      "C:\\Users\\Choong Man Shun\\.virtualenvs\\odl-txaD7ivL-py3.10\\lib\\site-packages\\sklearn\\neural_network\\_multilayer_perceptron.py:702: ConvergenceWarning: Stochastic Optimizer: Maximum iterations (200) reached and the optimization hasn't converged yet.\n",
      "  warnings.warn(\n",
      "C:\\Users\\Choong Man Shun\\.virtualenvs\\odl-txaD7ivL-py3.10\\lib\\site-packages\\sklearn\\neural_network\\_multilayer_perceptron.py:702: ConvergenceWarning: Stochastic Optimizer: Maximum iterations (200) reached and the optimization hasn't converged yet.\n",
      "  warnings.warn(\n",
      "C:\\Users\\Choong Man Shun\\.virtualenvs\\odl-txaD7ivL-py3.10\\lib\\site-packages\\sklearn\\neural_network\\_multilayer_perceptron.py:702: ConvergenceWarning: Stochastic Optimizer: Maximum iterations (200) reached and the optimization hasn't converged yet.\n",
      "  warnings.warn(\n",
      "C:\\Users\\Choong Man Shun\\.virtualenvs\\odl-txaD7ivL-py3.10\\lib\\site-packages\\sklearn\\neural_network\\_multilayer_perceptron.py:702: ConvergenceWarning: Stochastic Optimizer: Maximum iterations (200) reached and the optimization hasn't converged yet.\n",
      "  warnings.warn(\n",
      "C:\\Users\\Choong Man Shun\\.virtualenvs\\odl-txaD7ivL-py3.10\\lib\\site-packages\\sklearn\\neural_network\\_multilayer_perceptron.py:702: ConvergenceWarning: Stochastic Optimizer: Maximum iterations (200) reached and the optimization hasn't converged yet.\n",
      "  warnings.warn(\n",
      "C:\\Users\\Choong Man Shun\\.virtualenvs\\odl-txaD7ivL-py3.10\\lib\\site-packages\\sklearn\\neural_network\\_multilayer_perceptron.py:702: ConvergenceWarning: Stochastic Optimizer: Maximum iterations (200) reached and the optimization hasn't converged yet.\n",
      "  warnings.warn(\n",
      "C:\\Users\\Choong Man Shun\\.virtualenvs\\odl-txaD7ivL-py3.10\\lib\\site-packages\\sklearn\\neural_network\\_multilayer_perceptron.py:702: ConvergenceWarning: Stochastic Optimizer: Maximum iterations (200) reached and the optimization hasn't converged yet.\n",
      "  warnings.warn(\n",
      "C:\\Users\\Choong Man Shun\\.virtualenvs\\odl-txaD7ivL-py3.10\\lib\\site-packages\\sklearn\\neural_network\\_multilayer_perceptron.py:702: ConvergenceWarning: Stochastic Optimizer: Maximum iterations (200) reached and the optimization hasn't converged yet.\n",
      "  warnings.warn(\n"
     ]
    },
    {
     "data": {
      "text/html": [
       "<style>#sk-container-id-6 {color: black;background-color: white;}#sk-container-id-6 pre{padding: 0;}#sk-container-id-6 div.sk-toggleable {background-color: white;}#sk-container-id-6 label.sk-toggleable__label {cursor: pointer;display: block;width: 100%;margin-bottom: 0;padding: 0.3em;box-sizing: border-box;text-align: center;}#sk-container-id-6 label.sk-toggleable__label-arrow:before {content: \"▸\";float: left;margin-right: 0.25em;color: #696969;}#sk-container-id-6 label.sk-toggleable__label-arrow:hover:before {color: black;}#sk-container-id-6 div.sk-estimator:hover label.sk-toggleable__label-arrow:before {color: black;}#sk-container-id-6 div.sk-toggleable__content {max-height: 0;max-width: 0;overflow: hidden;text-align: left;background-color: #f0f8ff;}#sk-container-id-6 div.sk-toggleable__content pre {margin: 0.2em;color: black;border-radius: 0.25em;background-color: #f0f8ff;}#sk-container-id-6 input.sk-toggleable__control:checked~div.sk-toggleable__content {max-height: 200px;max-width: 100%;overflow: auto;}#sk-container-id-6 input.sk-toggleable__control:checked~label.sk-toggleable__label-arrow:before {content: \"▾\";}#sk-container-id-6 div.sk-estimator input.sk-toggleable__control:checked~label.sk-toggleable__label {background-color: #d4ebff;}#sk-container-id-6 div.sk-label input.sk-toggleable__control:checked~label.sk-toggleable__label {background-color: #d4ebff;}#sk-container-id-6 input.sk-hidden--visually {border: 0;clip: rect(1px 1px 1px 1px);clip: rect(1px, 1px, 1px, 1px);height: 1px;margin: -1px;overflow: hidden;padding: 0;position: absolute;width: 1px;}#sk-container-id-6 div.sk-estimator {font-family: monospace;background-color: #f0f8ff;border: 1px dotted black;border-radius: 0.25em;box-sizing: border-box;margin-bottom: 0.5em;}#sk-container-id-6 div.sk-estimator:hover {background-color: #d4ebff;}#sk-container-id-6 div.sk-parallel-item::after {content: \"\";width: 100%;border-bottom: 1px solid gray;flex-grow: 1;}#sk-container-id-6 div.sk-label:hover label.sk-toggleable__label {background-color: #d4ebff;}#sk-container-id-6 div.sk-serial::before {content: \"\";position: absolute;border-left: 1px solid gray;box-sizing: border-box;top: 0;bottom: 0;left: 50%;z-index: 0;}#sk-container-id-6 div.sk-serial {display: flex;flex-direction: column;align-items: center;background-color: white;padding-right: 0.2em;padding-left: 0.2em;position: relative;}#sk-container-id-6 div.sk-item {position: relative;z-index: 1;}#sk-container-id-6 div.sk-parallel {display: flex;align-items: stretch;justify-content: center;background-color: white;position: relative;}#sk-container-id-6 div.sk-item::before, #sk-container-id-6 div.sk-parallel-item::before {content: \"\";position: absolute;border-left: 1px solid gray;box-sizing: border-box;top: 0;bottom: 0;left: 50%;z-index: -1;}#sk-container-id-6 div.sk-parallel-item {display: flex;flex-direction: column;z-index: 1;position: relative;background-color: white;}#sk-container-id-6 div.sk-parallel-item:first-child::after {align-self: flex-end;width: 50%;}#sk-container-id-6 div.sk-parallel-item:last-child::after {align-self: flex-start;width: 50%;}#sk-container-id-6 div.sk-parallel-item:only-child::after {width: 0;}#sk-container-id-6 div.sk-dashed-wrapped {border: 1px dashed gray;margin: 0 0.4em 0.5em 0.4em;box-sizing: border-box;padding-bottom: 0.4em;background-color: white;}#sk-container-id-6 div.sk-label label {font-family: monospace;font-weight: bold;display: inline-block;line-height: 1.2em;}#sk-container-id-6 div.sk-label-container {text-align: center;}#sk-container-id-6 div.sk-container {/* jupyter's `normalize.less` sets `[hidden] { display: none; }` but bootstrap.min.css set `[hidden] { display: none !important; }` so we also need the `!important` here to be able to override the default hidden behavior on the sphinx rendered scikit-learn.org. See: https://github.com/scikit-learn/scikit-learn/issues/21755 */display: inline-block !important;position: relative;}#sk-container-id-6 div.sk-text-repr-fallback {display: none;}</style><div id=\"sk-container-id-6\" class=\"sk-top-container\"><div class=\"sk-text-repr-fallback\"><pre>GridSearchCV(estimator=MLPClassifier(),\n",
       "             param_grid={&#x27;activation&#x27;: [&#x27;relu&#x27;], &#x27;alpha&#x27;: [0.001],\n",
       "                         &#x27;hidden_layer_sizes&#x27;: [(200, 100)], &#x27;max_iter&#x27;: [200],\n",
       "                         &#x27;random_state&#x27;: [0, 1, 2, 3, 4], &#x27;solver&#x27;: [&#x27;adam&#x27;]},\n",
       "             verbose=1)</pre><b>In a Jupyter environment, please rerun this cell to show the HTML representation or trust the notebook. <br />On GitHub, the HTML representation is unable to render, please try loading this page with nbviewer.org.</b></div><div class=\"sk-container\" hidden><div class=\"sk-item sk-dashed-wrapped\"><div class=\"sk-label-container\"><div class=\"sk-label sk-toggleable\"><input class=\"sk-toggleable__control sk-hidden--visually\" id=\"sk-estimator-id-16\" type=\"checkbox\" ><label for=\"sk-estimator-id-16\" class=\"sk-toggleable__label sk-toggleable__label-arrow\">GridSearchCV</label><div class=\"sk-toggleable__content\"><pre>GridSearchCV(estimator=MLPClassifier(),\n",
       "             param_grid={&#x27;activation&#x27;: [&#x27;relu&#x27;], &#x27;alpha&#x27;: [0.001],\n",
       "                         &#x27;hidden_layer_sizes&#x27;: [(200, 100)], &#x27;max_iter&#x27;: [200],\n",
       "                         &#x27;random_state&#x27;: [0, 1, 2, 3, 4], &#x27;solver&#x27;: [&#x27;adam&#x27;]},\n",
       "             verbose=1)</pre></div></div></div><div class=\"sk-parallel\"><div class=\"sk-parallel-item\"><div class=\"sk-item\"><div class=\"sk-label-container\"><div class=\"sk-label sk-toggleable\"><input class=\"sk-toggleable__control sk-hidden--visually\" id=\"sk-estimator-id-17\" type=\"checkbox\" ><label for=\"sk-estimator-id-17\" class=\"sk-toggleable__label sk-toggleable__label-arrow\">estimator: MLPClassifier</label><div class=\"sk-toggleable__content\"><pre>MLPClassifier()</pre></div></div></div><div class=\"sk-serial\"><div class=\"sk-item\"><div class=\"sk-estimator sk-toggleable\"><input class=\"sk-toggleable__control sk-hidden--visually\" id=\"sk-estimator-id-18\" type=\"checkbox\" ><label for=\"sk-estimator-id-18\" class=\"sk-toggleable__label sk-toggleable__label-arrow\">MLPClassifier</label><div class=\"sk-toggleable__content\"><pre>MLPClassifier()</pre></div></div></div></div></div></div></div></div></div></div>"
      ],
      "text/plain": [
       "GridSearchCV(estimator=MLPClassifier(),\n",
       "             param_grid={'activation': ['relu'], 'alpha': [0.001],\n",
       "                         'hidden_layer_sizes': [(200, 100)], 'max_iter': [200],\n",
       "                         'random_state': [0, 1, 2, 3, 4], 'solver': ['adam']},\n",
       "             verbose=1)"
      ]
     },
     "execution_count": 59,
     "metadata": {},
     "output_type": "execute_result"
    }
   ],
   "source": [
    "param_grid = {\n",
    "    \"hidden_layer_sizes\": [(200, 100)],\n",
    "    \"activation\": [\"relu\"],\n",
    "    \"solver\": [\"adam\"],\n",
    "    \"alpha\": [1e-03],\n",
    "    \"max_iter\": [200],\n",
    "    \"random_state\": [0, 1, 2, 3, 4]\n",
    "}\n",
    "ann_cv_model5 = GridSearchCV(\n",
    "    estimator=MLPClassifier(),\n",
    "    param_grid=param_grid,\n",
    "    verbose=1\n",
    ")\n",
    "ann_cv_model5.fit(x_train_final, y_train_final)"
   ]
  },
  {
   "cell_type": "code",
   "execution_count": 60,
   "metadata": {
    "pycharm": {
     "name": "#%%\n"
    }
   },
   "outputs": [
    {
     "name": "stdout",
     "output_type": "stream",
     "text": [
      "Best ANN model training accuracy : 90.06%\n",
      "Best ANN model test accuracy : 80.27%\n"
     ]
    }
   ],
   "source": [
    "ann_cv_train_accuracy5 = ann_cv_model5.best_score_\n",
    "ann_cv_accuracy5 = ann_cv_model5.score(x_test_final, y_test_final)\n",
    "\n",
    "print(f\"Best ANN model training accuracy : {ann_cv_train_accuracy5:.2%}\")\n",
    "print(f\"Best ANN model test accuracy : {ann_cv_accuracy5:.2%}\")"
   ]
  },
  {
   "cell_type": "code",
   "execution_count": 61,
   "metadata": {
    "pycharm": {
     "name": "#%%\n"
    }
   },
   "outputs": [
    {
     "name": "stdout",
     "output_type": "stream",
     "text": [
      "Best ANN parameters: {'activation': 'relu', 'alpha': 0.001, 'hidden_layer_sizes': (200, 100), 'max_iter': 200, 'random_state': 2, 'solver': 'adam'}\n"
     ]
    }
   ],
   "source": [
    "print(f\"Best ANN parameters: {ann_cv_model5.best_params_}\")"
   ]
  },
  {
   "cell_type": "code",
   "execution_count": 62,
   "metadata": {
    "pycharm": {
     "name": "#%%\n"
    }
   },
   "outputs": [
    {
     "data": {
      "text/plain": [
       "array([[0.9006116440901734,\n",
       "        {'activation': 'relu', 'alpha': 0.001, 'hidden_layer_sizes': (200, 100), 'max_iter': 200, 'random_state': 2, 'solver': 'adam'}],\n",
       "       [0.8997162285743153,\n",
       "        {'activation': 'relu', 'alpha': 0.001, 'hidden_layer_sizes': (200, 100), 'max_iter': 200, 'random_state': 0, 'solver': 'adam'}],\n",
       "       [0.8969405366960395,\n",
       "        {'activation': 'relu', 'alpha': 0.001, 'hidden_layer_sizes': (200, 100), 'max_iter': 200, 'random_state': 3, 'solver': 'adam'}],\n",
       "       [0.8969402159597571,\n",
       "        {'activation': 'relu', 'alpha': 0.001, 'hidden_layer_sizes': (200, 100), 'max_iter': 200, 'random_state': 4, 'solver': 'adam'}],\n",
       "       [0.8961346466949529,\n",
       "        {'activation': 'relu', 'alpha': 0.001, 'hidden_layer_sizes': (200, 100), 'max_iter': 200, 'random_state': 1, 'solver': 'adam'}]],\n",
       "      dtype=object)"
      ]
     },
     "execution_count": 62,
     "metadata": {},
     "output_type": "execute_result"
    }
   ],
   "source": [
    "ann_cv_results5 = pd.DataFrame(ann_cv_model5.cv_results_)\n",
    "ann_cv_results5.sort_values(by=\"mean_test_score\", ascending=False, inplace=True)\n",
    "\n",
    "ann_cv_results5[[\"mean_test_score\", \"params\"]].values"
   ]
  },
  {
   "cell_type": "markdown",
   "metadata": {
    "pycharm": {
     "name": "#%% md\n"
    }
   },
   "source": [
    "### 4.2.3 Final Model <a id=\"final_model_2\"/>"
   ]
  },
  {
   "cell_type": "code",
   "execution_count": null,
   "metadata": {
    "pycharm": {
     "name": "#%%\n"
    }
   },
   "outputs": [],
   "source": []
  },
  {
   "cell_type": "markdown",
   "metadata": {
    "pycharm": {
     "name": "#%% md\n"
    }
   },
   "source": [
    "## 4.3 Deep Neural Network (DNN) <a id=\"model_3\"/>"
   ]
  },
  {
   "cell_type": "markdown",
   "metadata": {
    "pycharm": {
     "name": "#%% md\n"
    }
   },
   "source": [
    "### 4.3.1 Base Model <a id=\"base_model_3\"/>"
   ]
  },
  {
   "cell_type": "code",
   "execution_count": 27,
   "metadata": {
    "pycharm": {
     "name": "#%%\n"
    }
   },
   "outputs": [
    {
     "name": "stdout",
     "output_type": "stream",
     "text": [
      "Model: \"sequential_1\"\n",
      "_________________________________________________________________\n",
      " Layer (type)                Output Shape              Param #   \n",
      "=================================================================\n",
      " dense_4 (Dense)             (None, 12)                156       \n",
      "                                                                 \n",
      " dense_5 (Dense)             (None, 6)                 78        \n",
      "                                                                 \n",
      " dense_6 (Dense)             (None, 2)                 14        \n",
      "                                                                 \n",
      " dense_7 (Dense)             (None, 1)                 3         \n",
      "                                                                 \n",
      "=================================================================\n",
      "Total params: 251\n",
      "Trainable params: 251\n",
      "Non-trainable params: 0\n",
      "_________________________________________________________________\n"
     ]
    }
   ],
   "source": [
    "dnn_model = Sequential()\n",
    "dnn_model.add(\n",
    "    Dense(\n",
    "        units=12,\n",
    "        activation=\"relu\",\n",
    "        kernel_initializer=\"uniform\",\n",
    "        input_shape=(x_train_final.shape[1],)\n",
    "    )\n",
    ")\n",
    "dnn_model.add(\n",
    "    Dense(units=6, activation=\"relu\", kernel_initializer=\"uniform\")\n",
    ")\n",
    "dnn_model.add(\n",
    "    Dense(units=2, activation=\"relu\", kernel_initializer=\"uniform\")\n",
    ")\n",
    "dnn_model.add(\n",
    "    Dense(units=1, activation=\"sigmoid\", kernel_initializer=\"uniform\")\n",
    ")\n",
    "dnn_model.compile(\n",
    "    optimizer=\"adam\", loss=\"binary_crossentropy\", metrics=[\"accuracy\"]\n",
    ")\n",
    "\n",
    "dnn_model.summary()"
   ]
  },
  {
   "cell_type": "code",
   "execution_count": 28,
   "metadata": {
    "pycharm": {
     "name": "#%%\n"
    }
   },
   "outputs": [
    {
     "name": "stdout",
     "output_type": "stream",
     "text": [
      "Epoch 1/100\n",
      "349/349 [==============================] - 3s 2ms/step - loss: 0.6476 - accuracy: 0.6526 - val_loss: 0.7180 - val_accuracy: 0.6560\n",
      "Epoch 2/100\n",
      "349/349 [==============================] - 1s 2ms/step - loss: 0.5820 - accuracy: 0.7412 - val_loss: 0.6362 - val_accuracy: 0.7237\n",
      "Epoch 3/100\n",
      "349/349 [==============================] - 1s 2ms/step - loss: 0.5406 - accuracy: 0.7592 - val_loss: 0.5921 - val_accuracy: 0.7473\n",
      "Epoch 4/100\n",
      "349/349 [==============================] - 1s 2ms/step - loss: 0.5112 - accuracy: 0.7688 - val_loss: 0.5513 - val_accuracy: 0.7683\n",
      "Epoch 5/100\n",
      "349/349 [==============================] - 1s 1ms/step - loss: 0.4940 - accuracy: 0.7727 - val_loss: 0.5254 - val_accuracy: 0.7787\n",
      "Epoch 6/100\n",
      "349/349 [==============================] - 1s 2ms/step - loss: 0.4827 - accuracy: 0.7768 - val_loss: 0.5530 - val_accuracy: 0.7510\n",
      "Epoch 7/100\n",
      "349/349 [==============================] - 1s 1ms/step - loss: 0.4754 - accuracy: 0.7780 - val_loss: 0.5067 - val_accuracy: 0.7820\n",
      "Epoch 8/100\n",
      "349/349 [==============================] - 1s 1ms/step - loss: 0.4704 - accuracy: 0.7795 - val_loss: 0.5008 - val_accuracy: 0.7807\n",
      "Epoch 9/100\n",
      "349/349 [==============================] - 1s 2ms/step - loss: 0.4662 - accuracy: 0.7813 - val_loss: 0.4932 - val_accuracy: 0.7813\n",
      "Epoch 10/100\n",
      "349/349 [==============================] - 1s 2ms/step - loss: 0.4630 - accuracy: 0.7826 - val_loss: 0.4847 - val_accuracy: 0.7860\n",
      "Epoch 11/100\n",
      "349/349 [==============================] - 1s 2ms/step - loss: 0.4610 - accuracy: 0.7837 - val_loss: 0.4898 - val_accuracy: 0.7740\n",
      "Epoch 12/100\n",
      "349/349 [==============================] - 1s 2ms/step - loss: 0.4590 - accuracy: 0.7830 - val_loss: 0.4788 - val_accuracy: 0.7857\n",
      "Epoch 13/100\n",
      "349/349 [==============================] - 1s 1ms/step - loss: 0.4574 - accuracy: 0.7835 - val_loss: 0.4540 - val_accuracy: 0.7987\n",
      "Epoch 14/100\n",
      "349/349 [==============================] - 1s 2ms/step - loss: 0.4561 - accuracy: 0.7825 - val_loss: 0.4757 - val_accuracy: 0.7843\n",
      "Epoch 15/100\n",
      "349/349 [==============================] - 1s 2ms/step - loss: 0.4541 - accuracy: 0.7850 - val_loss: 0.4504 - val_accuracy: 0.8007\n",
      "Epoch 16/100\n",
      "349/349 [==============================] - 1s 2ms/step - loss: 0.4530 - accuracy: 0.7835 - val_loss: 0.4692 - val_accuracy: 0.7857\n",
      "Epoch 17/100\n",
      "349/349 [==============================] - 1s 2ms/step - loss: 0.4522 - accuracy: 0.7838 - val_loss: 0.4564 - val_accuracy: 0.7933\n",
      "Epoch 18/100\n",
      "349/349 [==============================] - 1s 2ms/step - loss: 0.4511 - accuracy: 0.7854 - val_loss: 0.4859 - val_accuracy: 0.7727\n",
      "Epoch 19/100\n",
      "349/349 [==============================] - 1s 2ms/step - loss: 0.4511 - accuracy: 0.7856 - val_loss: 0.4844 - val_accuracy: 0.7757\n",
      "Epoch 20/100\n",
      "349/349 [==============================] - 1s 2ms/step - loss: 0.4501 - accuracy: 0.7879 - val_loss: 0.4719 - val_accuracy: 0.7820\n",
      "Epoch 21/100\n",
      "349/349 [==============================] - 1s 2ms/step - loss: 0.4506 - accuracy: 0.7867 - val_loss: 0.4579 - val_accuracy: 0.7913\n",
      "Epoch 22/100\n",
      "349/349 [==============================] - 1s 1ms/step - loss: 0.4494 - accuracy: 0.7847 - val_loss: 0.4568 - val_accuracy: 0.7953\n",
      "Epoch 23/100\n",
      "349/349 [==============================] - 1s 2ms/step - loss: 0.4481 - accuracy: 0.7855 - val_loss: 0.4717 - val_accuracy: 0.7807\n",
      "Epoch 24/100\n",
      "349/349 [==============================] - 1s 2ms/step - loss: 0.4487 - accuracy: 0.7878 - val_loss: 0.4470 - val_accuracy: 0.7983\n",
      "Epoch 25/100\n",
      "349/349 [==============================] - 1s 2ms/step - loss: 0.4483 - accuracy: 0.7873 - val_loss: 0.4554 - val_accuracy: 0.7940\n",
      "Epoch 26/100\n",
      "349/349 [==============================] - 1s 2ms/step - loss: 0.4471 - accuracy: 0.7861 - val_loss: 0.4706 - val_accuracy: 0.7843\n",
      "Epoch 27/100\n",
      "349/349 [==============================] - 1s 2ms/step - loss: 0.4479 - accuracy: 0.7873 - val_loss: 0.4899 - val_accuracy: 0.7753\n",
      "Epoch 28/100\n",
      "349/349 [==============================] - 1s 2ms/step - loss: 0.4472 - accuracy: 0.7871 - val_loss: 0.4917 - val_accuracy: 0.7690\n",
      "Epoch 29/100\n",
      "349/349 [==============================] - 1s 2ms/step - loss: 0.4472 - accuracy: 0.7867 - val_loss: 0.4486 - val_accuracy: 0.7980\n",
      "Epoch 30/100\n",
      "349/349 [==============================] - 1s 2ms/step - loss: 0.4472 - accuracy: 0.7858 - val_loss: 0.4735 - val_accuracy: 0.7787\n",
      "Epoch 31/100\n",
      "349/349 [==============================] - 1s 2ms/step - loss: 0.4455 - accuracy: 0.7896 - val_loss: 0.4572 - val_accuracy: 0.7933\n",
      "Epoch 32/100\n",
      "349/349 [==============================] - 1s 2ms/step - loss: 0.4456 - accuracy: 0.7890 - val_loss: 0.4432 - val_accuracy: 0.8013\n",
      "Epoch 33/100\n",
      "349/349 [==============================] - 1s 2ms/step - loss: 0.4455 - accuracy: 0.7871 - val_loss: 0.4713 - val_accuracy: 0.7827\n",
      "Epoch 34/100\n",
      "349/349 [==============================] - 1s 2ms/step - loss: 0.4445 - accuracy: 0.7881 - val_loss: 0.4651 - val_accuracy: 0.7913\n",
      "Epoch 35/100\n",
      "349/349 [==============================] - 1s 2ms/step - loss: 0.4446 - accuracy: 0.7871 - val_loss: 0.4696 - val_accuracy: 0.7847\n",
      "Epoch 36/100\n",
      "349/349 [==============================] - 1s 1ms/step - loss: 0.4437 - accuracy: 0.7878 - val_loss: 0.4679 - val_accuracy: 0.7863\n",
      "Epoch 37/100\n",
      "349/349 [==============================] - 1s 2ms/step - loss: 0.4446 - accuracy: 0.7864 - val_loss: 0.4838 - val_accuracy: 0.7747\n",
      "Epoch 38/100\n",
      "349/349 [==============================] - 1s 2ms/step - loss: 0.4434 - accuracy: 0.7879 - val_loss: 0.4557 - val_accuracy: 0.7950\n",
      "Epoch 39/100\n",
      "349/349 [==============================] - 1s 1ms/step - loss: 0.4436 - accuracy: 0.7897 - val_loss: 0.4620 - val_accuracy: 0.7923\n",
      "Epoch 40/100\n",
      "349/349 [==============================] - 1s 2ms/step - loss: 0.4448 - accuracy: 0.7891 - val_loss: 0.4566 - val_accuracy: 0.7930\n",
      "Epoch 41/100\n",
      "349/349 [==============================] - 1s 2ms/step - loss: 0.4433 - accuracy: 0.7858 - val_loss: 0.4401 - val_accuracy: 0.8007\n",
      "Epoch 42/100\n",
      "349/349 [==============================] - 1s 2ms/step - loss: 0.4434 - accuracy: 0.7881 - val_loss: 0.4788 - val_accuracy: 0.7770\n",
      "Epoch 43/100\n",
      "349/349 [==============================] - 1s 1ms/step - loss: 0.4427 - accuracy: 0.7888 - val_loss: 0.4621 - val_accuracy: 0.7863\n",
      "Epoch 44/100\n",
      "349/349 [==============================] - 1s 2ms/step - loss: 0.4420 - accuracy: 0.7900 - val_loss: 0.4747 - val_accuracy: 0.7823\n",
      "Epoch 45/100\n",
      "349/349 [==============================] - 1s 1ms/step - loss: 0.4419 - accuracy: 0.7898 - val_loss: 0.5006 - val_accuracy: 0.7667\n",
      "Epoch 46/100\n",
      "349/349 [==============================] - 1s 2ms/step - loss: 0.4424 - accuracy: 0.7901 - val_loss: 0.4467 - val_accuracy: 0.7907\n",
      "Epoch 47/100\n",
      "349/349 [==============================] - 1s 1ms/step - loss: 0.4423 - accuracy: 0.7885 - val_loss: 0.5127 - val_accuracy: 0.7640\n",
      "Epoch 48/100\n",
      "349/349 [==============================] - 1s 2ms/step - loss: 0.4422 - accuracy: 0.7904 - val_loss: 0.4533 - val_accuracy: 0.7920\n",
      "Epoch 49/100\n",
      "349/349 [==============================] - 1s 1ms/step - loss: 0.4412 - accuracy: 0.7896 - val_loss: 0.4587 - val_accuracy: 0.7900\n",
      "Epoch 50/100\n",
      "349/349 [==============================] - 1s 2ms/step - loss: 0.4421 - accuracy: 0.7912 - val_loss: 0.4852 - val_accuracy: 0.7727\n",
      "Epoch 51/100\n",
      "349/349 [==============================] - 1s 2ms/step - loss: 0.4409 - accuracy: 0.7896 - val_loss: 0.4726 - val_accuracy: 0.7853\n",
      "Epoch 52/100\n",
      "349/349 [==============================] - 1s 2ms/step - loss: 0.4407 - accuracy: 0.7894 - val_loss: 0.4643 - val_accuracy: 0.7833\n",
      "Epoch 53/100\n",
      "349/349 [==============================] - 1s 2ms/step - loss: 0.4408 - accuracy: 0.7889 - val_loss: 0.4683 - val_accuracy: 0.7843\n",
      "Epoch 54/100\n",
      "349/349 [==============================] - 1s 2ms/step - loss: 0.4399 - accuracy: 0.7922 - val_loss: 0.4913 - val_accuracy: 0.7717\n",
      "Epoch 55/100\n",
      "349/349 [==============================] - 1s 2ms/step - loss: 0.4410 - accuracy: 0.7922 - val_loss: 0.4604 - val_accuracy: 0.7933\n",
      "Epoch 56/100\n",
      "349/349 [==============================] - 1s 2ms/step - loss: 0.4396 - accuracy: 0.7906 - val_loss: 0.4134 - val_accuracy: 0.8160\n",
      "Epoch 57/100\n",
      "349/349 [==============================] - 1s 2ms/step - loss: 0.4402 - accuracy: 0.7918 - val_loss: 0.4588 - val_accuracy: 0.7927\n",
      "Epoch 58/100\n",
      "349/349 [==============================] - 1s 1ms/step - loss: 0.4406 - accuracy: 0.7914 - val_loss: 0.4587 - val_accuracy: 0.7917\n",
      "Epoch 59/100\n",
      "349/349 [==============================] - 1s 2ms/step - loss: 0.4406 - accuracy: 0.7890 - val_loss: 0.4575 - val_accuracy: 0.7933\n",
      "Epoch 60/100\n",
      "349/349 [==============================] - 1s 1ms/step - loss: 0.4400 - accuracy: 0.7909 - val_loss: 0.4253 - val_accuracy: 0.8140\n",
      "Epoch 61/100\n",
      "349/349 [==============================] - 1s 2ms/step - loss: 0.4397 - accuracy: 0.7913 - val_loss: 0.4438 - val_accuracy: 0.8010\n",
      "Epoch 62/100\n",
      "349/349 [==============================] - 1s 2ms/step - loss: 0.4400 - accuracy: 0.7930 - val_loss: 0.4636 - val_accuracy: 0.7933\n",
      "Epoch 63/100\n",
      "349/349 [==============================] - 1s 1ms/step - loss: 0.4398 - accuracy: 0.7922 - val_loss: 0.4361 - val_accuracy: 0.8040\n",
      "Epoch 64/100\n",
      "349/349 [==============================] - 1s 2ms/step - loss: 0.4391 - accuracy: 0.7910 - val_loss: 0.4711 - val_accuracy: 0.7853\n",
      "Epoch 65/100\n",
      "349/349 [==============================] - 0s 1ms/step - loss: 0.4390 - accuracy: 0.7918 - val_loss: 0.5003 - val_accuracy: 0.7697\n",
      "Epoch 66/100\n",
      "349/349 [==============================] - 1s 2ms/step - loss: 0.4393 - accuracy: 0.7925 - val_loss: 0.4542 - val_accuracy: 0.7967\n",
      "Epoch 67/100\n",
      "349/349 [==============================] - 1s 2ms/step - loss: 0.4392 - accuracy: 0.7923 - val_loss: 0.4734 - val_accuracy: 0.7860\n",
      "Epoch 68/100\n",
      "349/349 [==============================] - 1s 2ms/step - loss: 0.4384 - accuracy: 0.7931 - val_loss: 0.4904 - val_accuracy: 0.7753\n",
      "Epoch 69/100\n",
      "349/349 [==============================] - 1s 2ms/step - loss: 0.4393 - accuracy: 0.7920 - val_loss: 0.4769 - val_accuracy: 0.7813\n",
      "Epoch 70/100\n",
      "349/349 [==============================] - 1s 2ms/step - loss: 0.4389 - accuracy: 0.7922 - val_loss: 0.5004 - val_accuracy: 0.7703\n",
      "Epoch 71/100\n",
      "349/349 [==============================] - 1s 2ms/step - loss: 0.4393 - accuracy: 0.7927 - val_loss: 0.4636 - val_accuracy: 0.7893\n",
      "Epoch 72/100\n",
      "349/349 [==============================] - 1s 2ms/step - loss: 0.4395 - accuracy: 0.7920 - val_loss: 0.4642 - val_accuracy: 0.7877\n",
      "Epoch 73/100\n",
      "349/349 [==============================] - 1s 1ms/step - loss: 0.4384 - accuracy: 0.7925 - val_loss: 0.4967 - val_accuracy: 0.7727\n",
      "Epoch 74/100\n",
      "349/349 [==============================] - 1s 2ms/step - loss: 0.4386 - accuracy: 0.7922 - val_loss: 0.4484 - val_accuracy: 0.7983\n",
      "Epoch 75/100\n",
      "349/349 [==============================] - 1s 2ms/step - loss: 0.4387 - accuracy: 0.7907 - val_loss: 0.4319 - val_accuracy: 0.8057\n",
      "Epoch 76/100\n",
      "349/349 [==============================] - 1s 2ms/step - loss: 0.4380 - accuracy: 0.7918 - val_loss: 0.4640 - val_accuracy: 0.7863\n",
      "Epoch 77/100\n",
      "349/349 [==============================] - 0s 1ms/step - loss: 0.4380 - accuracy: 0.7924 - val_loss: 0.4524 - val_accuracy: 0.7983\n",
      "Epoch 78/100\n",
      "349/349 [==============================] - 1s 2ms/step - loss: 0.4378 - accuracy: 0.7916 - val_loss: 0.4644 - val_accuracy: 0.7897\n",
      "Epoch 79/100\n",
      "349/349 [==============================] - 1s 2ms/step - loss: 0.4375 - accuracy: 0.7907 - val_loss: 0.4358 - val_accuracy: 0.8023\n",
      "Epoch 80/100\n",
      "349/349 [==============================] - 1s 1ms/step - loss: 0.4385 - accuracy: 0.7924 - val_loss: 0.4517 - val_accuracy: 0.8013\n",
      "Epoch 81/100\n",
      "349/349 [==============================] - 1s 1ms/step - loss: 0.4369 - accuracy: 0.7930 - val_loss: 0.4322 - val_accuracy: 0.8083\n",
      "Epoch 82/100\n",
      "349/349 [==============================] - 0s 1ms/step - loss: 0.4379 - accuracy: 0.7925 - val_loss: 0.4535 - val_accuracy: 0.7983\n",
      "Epoch 83/100\n",
      "349/349 [==============================] - 1s 1ms/step - loss: 0.4375 - accuracy: 0.7924 - val_loss: 0.4546 - val_accuracy: 0.7990\n",
      "Epoch 84/100\n",
      "349/349 [==============================] - 1s 1ms/step - loss: 0.4380 - accuracy: 0.7946 - val_loss: 0.4775 - val_accuracy: 0.7863\n",
      "Epoch 85/100\n",
      "349/349 [==============================] - 1s 2ms/step - loss: 0.4373 - accuracy: 0.7961 - val_loss: 0.4729 - val_accuracy: 0.7823\n",
      "Epoch 86/100\n",
      "349/349 [==============================] - 0s 1ms/step - loss: 0.4373 - accuracy: 0.7931 - val_loss: 0.4832 - val_accuracy: 0.7837\n",
      "Epoch 87/100\n",
      "349/349 [==============================] - 1s 2ms/step - loss: 0.4366 - accuracy: 0.7944 - val_loss: 0.4512 - val_accuracy: 0.7960\n",
      "Epoch 88/100\n",
      "349/349 [==============================] - 1s 2ms/step - loss: 0.4373 - accuracy: 0.7949 - val_loss: 0.4531 - val_accuracy: 0.7970\n",
      "Epoch 89/100\n",
      "349/349 [==============================] - 1s 2ms/step - loss: 0.4369 - accuracy: 0.7936 - val_loss: 0.4505 - val_accuracy: 0.7963\n",
      "Epoch 90/100\n",
      "349/349 [==============================] - 1s 2ms/step - loss: 0.4375 - accuracy: 0.7924 - val_loss: 0.4499 - val_accuracy: 0.7957\n",
      "Epoch 91/100\n",
      "349/349 [==============================] - 1s 2ms/step - loss: 0.4372 - accuracy: 0.7906 - val_loss: 0.4970 - val_accuracy: 0.7777\n",
      "Epoch 92/100\n",
      "349/349 [==============================] - 1s 2ms/step - loss: 0.4365 - accuracy: 0.7940 - val_loss: 0.4592 - val_accuracy: 0.7947\n",
      "Epoch 93/100\n",
      "349/349 [==============================] - 1s 2ms/step - loss: 0.4367 - accuracy: 0.7935 - val_loss: 0.4311 - val_accuracy: 0.8117\n",
      "Epoch 94/100\n",
      "349/349 [==============================] - 1s 2ms/step - loss: 0.4372 - accuracy: 0.7921 - val_loss: 0.4385 - val_accuracy: 0.8037\n",
      "Epoch 95/100\n",
      "349/349 [==============================] - 1s 2ms/step - loss: 0.4363 - accuracy: 0.7946 - val_loss: 0.4736 - val_accuracy: 0.7847\n",
      "Epoch 96/100\n",
      "349/349 [==============================] - 1s 2ms/step - loss: 0.4363 - accuracy: 0.7940 - val_loss: 0.4653 - val_accuracy: 0.7937\n",
      "Epoch 97/100\n",
      "349/349 [==============================] - 1s 2ms/step - loss: 0.4363 - accuracy: 0.7956 - val_loss: 0.4667 - val_accuracy: 0.7900\n",
      "Epoch 98/100\n",
      "349/349 [==============================] - 1s 2ms/step - loss: 0.4367 - accuracy: 0.7937 - val_loss: 0.4726 - val_accuracy: 0.7833\n",
      "Epoch 99/100\n",
      "349/349 [==============================] - 1s 2ms/step - loss: 0.4356 - accuracy: 0.7937 - val_loss: 0.4455 - val_accuracy: 0.7970\n",
      "Epoch 100/100\n",
      "349/349 [==============================] - 1s 2ms/step - loss: 0.4360 - accuracy: 0.7929 - val_loss: 0.4333 - val_accuracy: 0.8053\n"
     ]
    }
   ],
   "source": [
    "dnn_history = dnn_model.fit(\n",
    "    x_train_final, y_train_final, epochs=100, validation_data=(x_test_final, y_test_final)\n",
    ")"
   ]
  },
  {
   "cell_type": "code",
   "execution_count": 29,
   "outputs": [
    {
     "name": "stdout",
     "output_type": "stream",
     "text": [
      "94/94 [==============================] - 0s 1ms/step - loss: 0.4333 - accuracy: 0.8053\n"
     ]
    },
    {
     "data": {
      "text/plain": "[0.4332866966724396, 0.8053333163261414]"
     },
     "execution_count": 29,
     "metadata": {},
     "output_type": "execute_result"
    }
   ],
   "source": [
    "dnn_model.evaluate(x_test_final, y_test_final)"
   ],
   "metadata": {
    "collapsed": false,
    "pycharm": {
     "name": "#%%\n"
    }
   }
  },
  {
   "cell_type": "markdown",
   "metadata": {
    "pycharm": {
     "name": "#%% md\n"
    }
   },
   "source": [
    "### 4.3.2 Model Hyperparameter Tuning <a id=\"model_hyperparameter_tuning_3\"/>"
   ]
  },
  {
   "cell_type": "markdown",
   "source": [
    "Tuning 1"
   ],
   "metadata": {
    "collapsed": false,
    "pycharm": {
     "name": "#%% md\n"
    }
   }
  },
  {
   "cell_type": "code",
   "execution_count": 37,
   "metadata": {
    "pycharm": {
     "name": "#%%\n"
    }
   },
   "outputs": [
    {
     "name": "stdout",
     "output_type": "stream",
     "text": [
      "Model: \"sequential_6\"\n",
      "_________________________________________________________________\n",
      " Layer (type)                Output Shape              Param #   \n",
      "=================================================================\n",
      " dense_20 (Dense)            (None, 6)                 78        \n",
      "                                                                 \n",
      " dense_21 (Dense)            (None, 6)                 42        \n",
      "                                                                 \n",
      " dense_22 (Dense)            (None, 1)                 7         \n",
      "                                                                 \n",
      "=================================================================\n",
      "Total params: 127\n",
      "Trainable params: 127\n",
      "Non-trainable params: 0\n",
      "_________________________________________________________________\n"
     ]
    }
   ],
   "source": [
    "dnn_model1 = Sequential()\n",
    "dnn_model1.add(\n",
    "    Dense(\n",
    "        units=6,\n",
    "        activation=\"relu\",\n",
    "        kernel_initializer=\"uniform\",  # \"normal\"\n",
    "        input_shape=(x_train_final.shape[1],)\n",
    "    )\n",
    ")\n",
    "dnn_model1.add(\n",
    "    Dense(\n",
    "        units=6, activation=\"relu\", kernel_initializer=\"uniform\"  # \"normal\"\n",
    "    )\n",
    ")\n",
    "dnn_model1.add(\n",
    "    Dense(\n",
    "        units=1, activation=\"sigmoid\", kernel_initializer=\"uniform\"  # \"normal\"\n",
    "    )\n",
    ")\n",
    "dnn_model1.compile(\n",
    "    optimizer=\"adam\", loss=\"binary_crossentropy\", metrics=[\"accuracy\"]\n",
    ")\n",
    "\n",
    "dnn_model1.summary()"
   ]
  },
  {
   "cell_type": "code",
   "execution_count": 38,
   "outputs": [
    {
     "name": "stdout",
     "output_type": "stream",
     "text": [
      "Epoch 1/100\n",
      "349/349 [==============================] - 3s 7ms/step - loss: 0.6451 - accuracy: 0.6537 - val_loss: 0.6394 - val_accuracy: 0.6977\n",
      "Epoch 2/100\n",
      "349/349 [==============================] - 1s 2ms/step - loss: 0.5508 - accuracy: 0.7380 - val_loss: 0.5708 - val_accuracy: 0.7260\n",
      "Epoch 3/100\n",
      "349/349 [==============================] - 1s 2ms/step - loss: 0.5116 - accuracy: 0.7559 - val_loss: 0.5144 - val_accuracy: 0.7493\n",
      "Epoch 4/100\n",
      "349/349 [==============================] - 0s 1ms/step - loss: 0.4907 - accuracy: 0.7658 - val_loss: 0.4902 - val_accuracy: 0.7577\n",
      "Epoch 5/100\n",
      "349/349 [==============================] - 1s 2ms/step - loss: 0.4794 - accuracy: 0.7654 - val_loss: 0.5026 - val_accuracy: 0.7470\n",
      "Epoch 6/100\n",
      "349/349 [==============================] - 0s 1ms/step - loss: 0.4722 - accuracy: 0.7703 - val_loss: 0.4864 - val_accuracy: 0.7610\n",
      "Epoch 7/100\n",
      "349/349 [==============================] - 0s 1ms/step - loss: 0.4679 - accuracy: 0.7729 - val_loss: 0.4792 - val_accuracy: 0.7630\n",
      "Epoch 8/100\n",
      "349/349 [==============================] - 0s 1ms/step - loss: 0.4653 - accuracy: 0.7742 - val_loss: 0.4724 - val_accuracy: 0.7680\n",
      "Epoch 9/100\n",
      "349/349 [==============================] - 1s 1ms/step - loss: 0.4629 - accuracy: 0.7763 - val_loss: 0.4691 - val_accuracy: 0.7723\n",
      "Epoch 10/100\n",
      "349/349 [==============================] - 0s 1ms/step - loss: 0.4612 - accuracy: 0.7739 - val_loss: 0.4606 - val_accuracy: 0.7753\n",
      "Epoch 11/100\n",
      "349/349 [==============================] - 0s 1ms/step - loss: 0.4607 - accuracy: 0.7755 - val_loss: 0.4806 - val_accuracy: 0.7580\n",
      "Epoch 12/100\n",
      "349/349 [==============================] - 1s 1ms/step - loss: 0.4598 - accuracy: 0.7782 - val_loss: 0.4894 - val_accuracy: 0.7537\n",
      "Epoch 13/100\n",
      "349/349 [==============================] - 1s 1ms/step - loss: 0.4591 - accuracy: 0.7802 - val_loss: 0.4734 - val_accuracy: 0.7660\n",
      "Epoch 14/100\n",
      "349/349 [==============================] - 1s 1ms/step - loss: 0.4583 - accuracy: 0.7795 - val_loss: 0.4629 - val_accuracy: 0.7757\n",
      "Epoch 15/100\n",
      "349/349 [==============================] - 1s 2ms/step - loss: 0.4575 - accuracy: 0.7800 - val_loss: 0.4653 - val_accuracy: 0.7710\n",
      "Epoch 16/100\n",
      "349/349 [==============================] - 0s 1ms/step - loss: 0.4571 - accuracy: 0.7792 - val_loss: 0.4714 - val_accuracy: 0.7663\n",
      "Epoch 17/100\n",
      "349/349 [==============================] - 1s 1ms/step - loss: 0.4565 - accuracy: 0.7788 - val_loss: 0.4697 - val_accuracy: 0.7680\n",
      "Epoch 18/100\n",
      "349/349 [==============================] - 0s 1ms/step - loss: 0.4561 - accuracy: 0.7785 - val_loss: 0.4819 - val_accuracy: 0.7560\n",
      "Epoch 19/100\n",
      "349/349 [==============================] - 0s 1ms/step - loss: 0.4560 - accuracy: 0.7792 - val_loss: 0.4666 - val_accuracy: 0.7693\n",
      "Epoch 20/100\n",
      "349/349 [==============================] - 0s 1ms/step - loss: 0.4550 - accuracy: 0.7794 - val_loss: 0.4703 - val_accuracy: 0.7670\n",
      "Epoch 21/100\n",
      "349/349 [==============================] - 0s 1ms/step - loss: 0.4547 - accuracy: 0.7806 - val_loss: 0.4841 - val_accuracy: 0.7573\n",
      "Epoch 22/100\n",
      "349/349 [==============================] - 1s 2ms/step - loss: 0.4547 - accuracy: 0.7783 - val_loss: 0.4505 - val_accuracy: 0.7830\n",
      "Epoch 23/100\n",
      "349/349 [==============================] - 1s 1ms/step - loss: 0.4542 - accuracy: 0.7817 - val_loss: 0.4863 - val_accuracy: 0.7563\n",
      "Epoch 24/100\n",
      "349/349 [==============================] - 1s 1ms/step - loss: 0.4536 - accuracy: 0.7808 - val_loss: 0.4596 - val_accuracy: 0.7813\n",
      "Epoch 25/100\n",
      "349/349 [==============================] - 0s 1ms/step - loss: 0.4538 - accuracy: 0.7821 - val_loss: 0.4674 - val_accuracy: 0.7707\n",
      "Epoch 26/100\n",
      "349/349 [==============================] - 1s 1ms/step - loss: 0.4532 - accuracy: 0.7823 - val_loss: 0.4899 - val_accuracy: 0.7517\n",
      "Epoch 27/100\n",
      "349/349 [==============================] - 0s 1ms/step - loss: 0.4537 - accuracy: 0.7798 - val_loss: 0.4688 - val_accuracy: 0.7717\n",
      "Epoch 28/100\n",
      "349/349 [==============================] - 1s 1ms/step - loss: 0.4533 - accuracy: 0.7802 - val_loss: 0.4844 - val_accuracy: 0.7597\n",
      "Epoch 29/100\n",
      "349/349 [==============================] - 1s 2ms/step - loss: 0.4532 - accuracy: 0.7818 - val_loss: 0.4474 - val_accuracy: 0.7863\n",
      "Epoch 30/100\n",
      "349/349 [==============================] - 1s 4ms/step - loss: 0.4528 - accuracy: 0.7806 - val_loss: 0.4412 - val_accuracy: 0.7927\n",
      "Epoch 31/100\n",
      "349/349 [==============================] - 1s 2ms/step - loss: 0.4531 - accuracy: 0.7838 - val_loss: 0.4592 - val_accuracy: 0.7763\n",
      "Epoch 32/100\n",
      "349/349 [==============================] - 1s 2ms/step - loss: 0.4530 - accuracy: 0.7829 - val_loss: 0.4583 - val_accuracy: 0.7753\n",
      "Epoch 33/100\n",
      "349/349 [==============================] - 0s 1ms/step - loss: 0.4523 - accuracy: 0.7818 - val_loss: 0.4594 - val_accuracy: 0.7793\n",
      "Epoch 34/100\n",
      "349/349 [==============================] - 1s 1ms/step - loss: 0.4527 - accuracy: 0.7835 - val_loss: 0.4487 - val_accuracy: 0.7847\n",
      "Epoch 35/100\n",
      "349/349 [==============================] - 0s 1ms/step - loss: 0.4519 - accuracy: 0.7835 - val_loss: 0.5081 - val_accuracy: 0.7417\n",
      "Epoch 36/100\n",
      "349/349 [==============================] - 0s 1ms/step - loss: 0.4534 - accuracy: 0.7841 - val_loss: 0.4890 - val_accuracy: 0.7553\n",
      "Epoch 37/100\n",
      "349/349 [==============================] - 1s 1ms/step - loss: 0.4528 - accuracy: 0.7805 - val_loss: 0.4757 - val_accuracy: 0.7650\n",
      "Epoch 38/100\n",
      "349/349 [==============================] - 0s 1ms/step - loss: 0.4530 - accuracy: 0.7844 - val_loss: 0.4597 - val_accuracy: 0.7793\n",
      "Epoch 39/100\n",
      "349/349 [==============================] - 0s 1ms/step - loss: 0.4525 - accuracy: 0.7825 - val_loss: 0.4681 - val_accuracy: 0.7713\n",
      "Epoch 40/100\n",
      "349/349 [==============================] - 1s 1ms/step - loss: 0.4521 - accuracy: 0.7812 - val_loss: 0.4864 - val_accuracy: 0.7553\n",
      "Epoch 41/100\n",
      "349/349 [==============================] - 1s 1ms/step - loss: 0.4524 - accuracy: 0.7830 - val_loss: 0.4641 - val_accuracy: 0.7720\n",
      "Epoch 42/100\n",
      "349/349 [==============================] - 1s 1ms/step - loss: 0.4517 - accuracy: 0.7809 - val_loss: 0.4608 - val_accuracy: 0.7757\n",
      "Epoch 43/100\n",
      "349/349 [==============================] - 1s 1ms/step - loss: 0.4518 - accuracy: 0.7814 - val_loss: 0.4742 - val_accuracy: 0.7700\n",
      "Epoch 44/100\n",
      "349/349 [==============================] - 1s 1ms/step - loss: 0.4515 - accuracy: 0.7831 - val_loss: 0.4671 - val_accuracy: 0.7727\n",
      "Epoch 45/100\n",
      "349/349 [==============================] - 1s 1ms/step - loss: 0.4512 - accuracy: 0.7818 - val_loss: 0.4369 - val_accuracy: 0.7933\n",
      "Epoch 46/100\n",
      "349/349 [==============================] - 1s 1ms/step - loss: 0.4509 - accuracy: 0.7811 - val_loss: 0.4717 - val_accuracy: 0.7687\n",
      "Epoch 47/100\n",
      "349/349 [==============================] - 0s 1ms/step - loss: 0.4513 - accuracy: 0.7840 - val_loss: 0.4735 - val_accuracy: 0.7673\n",
      "Epoch 48/100\n",
      "349/349 [==============================] - 0s 1ms/step - loss: 0.4511 - accuracy: 0.7821 - val_loss: 0.4517 - val_accuracy: 0.7857\n",
      "Epoch 49/100\n",
      "349/349 [==============================] - 1s 1ms/step - loss: 0.4513 - accuracy: 0.7815 - val_loss: 0.4588 - val_accuracy: 0.7817\n",
      "Epoch 50/100\n",
      "349/349 [==============================] - 0s 1ms/step - loss: 0.4502 - accuracy: 0.7818 - val_loss: 0.4628 - val_accuracy: 0.7757\n",
      "Epoch 51/100\n",
      "349/349 [==============================] - 0s 1ms/step - loss: 0.4506 - accuracy: 0.7810 - val_loss: 0.4595 - val_accuracy: 0.7863\n",
      "Epoch 52/100\n",
      "349/349 [==============================] - 0s 1ms/step - loss: 0.4504 - accuracy: 0.7815 - val_loss: 0.5005 - val_accuracy: 0.7517\n",
      "Epoch 53/100\n",
      "349/349 [==============================] - 0s 1ms/step - loss: 0.4505 - accuracy: 0.7837 - val_loss: 0.4655 - val_accuracy: 0.7757\n",
      "Epoch 54/100\n",
      "349/349 [==============================] - 1s 2ms/step - loss: 0.4503 - accuracy: 0.7833 - val_loss: 0.4565 - val_accuracy: 0.7817\n",
      "Epoch 55/100\n",
      "349/349 [==============================] - 0s 1ms/step - loss: 0.4501 - accuracy: 0.7815 - val_loss: 0.4625 - val_accuracy: 0.7770\n",
      "Epoch 56/100\n",
      "349/349 [==============================] - 1s 1ms/step - loss: 0.4505 - accuracy: 0.7821 - val_loss: 0.4781 - val_accuracy: 0.7720\n",
      "Epoch 57/100\n",
      "349/349 [==============================] - 0s 1ms/step - loss: 0.4496 - accuracy: 0.7802 - val_loss: 0.4798 - val_accuracy: 0.7670\n",
      "Epoch 58/100\n",
      "349/349 [==============================] - 1s 1ms/step - loss: 0.4498 - accuracy: 0.7832 - val_loss: 0.4499 - val_accuracy: 0.7890\n",
      "Epoch 59/100\n",
      "349/349 [==============================] - 0s 1ms/step - loss: 0.4498 - accuracy: 0.7824 - val_loss: 0.4836 - val_accuracy: 0.7617\n",
      "Epoch 60/100\n",
      "349/349 [==============================] - 1s 1ms/step - loss: 0.4496 - accuracy: 0.7814 - val_loss: 0.4700 - val_accuracy: 0.7773\n",
      "Epoch 61/100\n",
      "349/349 [==============================] - 0s 1ms/step - loss: 0.4497 - accuracy: 0.7844 - val_loss: 0.4611 - val_accuracy: 0.7833\n",
      "Epoch 62/100\n",
      "349/349 [==============================] - 0s 1ms/step - loss: 0.4501 - accuracy: 0.7838 - val_loss: 0.4611 - val_accuracy: 0.7797\n",
      "Epoch 63/100\n",
      "349/349 [==============================] - 0s 1ms/step - loss: 0.4496 - accuracy: 0.7838 - val_loss: 0.4686 - val_accuracy: 0.7720\n",
      "Epoch 64/100\n",
      "349/349 [==============================] - 1s 1ms/step - loss: 0.4499 - accuracy: 0.7837 - val_loss: 0.4865 - val_accuracy: 0.7647\n",
      "Epoch 65/100\n",
      "349/349 [==============================] - 0s 1ms/step - loss: 0.4501 - accuracy: 0.7822 - val_loss: 0.4738 - val_accuracy: 0.7740\n",
      "Epoch 66/100\n",
      "349/349 [==============================] - 1s 1ms/step - loss: 0.4498 - accuracy: 0.7838 - val_loss: 0.4603 - val_accuracy: 0.7840\n",
      "Epoch 67/100\n",
      "349/349 [==============================] - 0s 1ms/step - loss: 0.4498 - accuracy: 0.7828 - val_loss: 0.4727 - val_accuracy: 0.7733\n",
      "Epoch 68/100\n",
      "349/349 [==============================] - 0s 1ms/step - loss: 0.4499 - accuracy: 0.7815 - val_loss: 0.4601 - val_accuracy: 0.7817\n",
      "Epoch 69/100\n",
      "349/349 [==============================] - 1s 1ms/step - loss: 0.4492 - accuracy: 0.7847 - val_loss: 0.4912 - val_accuracy: 0.7587\n",
      "Epoch 70/100\n",
      "349/349 [==============================] - 0s 1ms/step - loss: 0.4493 - accuracy: 0.7835 - val_loss: 0.4460 - val_accuracy: 0.7943\n",
      "Epoch 71/100\n",
      "349/349 [==============================] - 0s 1ms/step - loss: 0.4495 - accuracy: 0.7836 - val_loss: 0.4607 - val_accuracy: 0.7810\n",
      "Epoch 72/100\n",
      "349/349 [==============================] - 0s 1ms/step - loss: 0.4490 - accuracy: 0.7827 - val_loss: 0.4789 - val_accuracy: 0.7670\n",
      "Epoch 73/100\n",
      "349/349 [==============================] - 0s 1ms/step - loss: 0.4499 - accuracy: 0.7841 - val_loss: 0.4609 - val_accuracy: 0.7770\n",
      "Epoch 74/100\n",
      "349/349 [==============================] - 0s 1ms/step - loss: 0.4490 - accuracy: 0.7812 - val_loss: 0.4786 - val_accuracy: 0.7753\n",
      "Epoch 75/100\n",
      "349/349 [==============================] - 1s 1ms/step - loss: 0.4490 - accuracy: 0.7853 - val_loss: 0.4852 - val_accuracy: 0.7633\n",
      "Epoch 76/100\n",
      "349/349 [==============================] - 0s 1ms/step - loss: 0.4488 - accuracy: 0.7825 - val_loss: 0.4558 - val_accuracy: 0.7860\n",
      "Epoch 77/100\n",
      "349/349 [==============================] - 0s 1ms/step - loss: 0.4485 - accuracy: 0.7837 - val_loss: 0.4443 - val_accuracy: 0.7923\n",
      "Epoch 78/100\n",
      "349/349 [==============================] - 0s 1ms/step - loss: 0.4487 - accuracy: 0.7851 - val_loss: 0.4510 - val_accuracy: 0.7880\n",
      "Epoch 79/100\n",
      "349/349 [==============================] - 0s 1ms/step - loss: 0.4489 - accuracy: 0.7810 - val_loss: 0.5039 - val_accuracy: 0.7557\n",
      "Epoch 80/100\n",
      "349/349 [==============================] - 1s 1ms/step - loss: 0.4490 - accuracy: 0.7821 - val_loss: 0.4513 - val_accuracy: 0.7893\n",
      "Epoch 81/100\n",
      "349/349 [==============================] - 0s 1ms/step - loss: 0.4488 - accuracy: 0.7832 - val_loss: 0.4472 - val_accuracy: 0.7923\n",
      "Epoch 82/100\n",
      "349/349 [==============================] - 0s 1ms/step - loss: 0.4488 - accuracy: 0.7827 - val_loss: 0.4518 - val_accuracy: 0.7873\n",
      "Epoch 83/100\n",
      "349/349 [==============================] - 1s 1ms/step - loss: 0.4484 - accuracy: 0.7826 - val_loss: 0.4521 - val_accuracy: 0.7890\n",
      "Epoch 84/100\n",
      "349/349 [==============================] - 0s 1ms/step - loss: 0.4491 - accuracy: 0.7843 - val_loss: 0.4656 - val_accuracy: 0.7783\n",
      "Epoch 85/100\n",
      "349/349 [==============================] - 0s 1ms/step - loss: 0.4486 - accuracy: 0.7830 - val_loss: 0.4823 - val_accuracy: 0.7650\n",
      "Epoch 86/100\n",
      "349/349 [==============================] - 0s 1ms/step - loss: 0.4486 - accuracy: 0.7828 - val_loss: 0.4718 - val_accuracy: 0.7750\n",
      "Epoch 87/100\n",
      "349/349 [==============================] - 0s 1ms/step - loss: 0.4485 - accuracy: 0.7834 - val_loss: 0.4767 - val_accuracy: 0.7727\n",
      "Epoch 88/100\n",
      "349/349 [==============================] - 0s 1ms/step - loss: 0.4485 - accuracy: 0.7828 - val_loss: 0.4727 - val_accuracy: 0.7760\n",
      "Epoch 89/100\n",
      "349/349 [==============================] - 1s 1ms/step - loss: 0.4483 - accuracy: 0.7821 - val_loss: 0.4485 - val_accuracy: 0.7903\n",
      "Epoch 90/100\n",
      "349/349 [==============================] - 0s 1ms/step - loss: 0.4485 - accuracy: 0.7832 - val_loss: 0.4568 - val_accuracy: 0.7850\n",
      "Epoch 91/100\n",
      "349/349 [==============================] - 0s 1ms/step - loss: 0.4482 - accuracy: 0.7842 - val_loss: 0.4686 - val_accuracy: 0.7733\n",
      "Epoch 92/100\n",
      "349/349 [==============================] - 0s 1ms/step - loss: 0.4490 - accuracy: 0.7812 - val_loss: 0.4755 - val_accuracy: 0.7757\n",
      "Epoch 93/100\n",
      "349/349 [==============================] - 1s 1ms/step - loss: 0.4485 - accuracy: 0.7855 - val_loss: 0.4787 - val_accuracy: 0.7730\n",
      "Epoch 94/100\n",
      "349/349 [==============================] - 1s 1ms/step - loss: 0.4484 - accuracy: 0.7826 - val_loss: 0.4689 - val_accuracy: 0.7777\n",
      "Epoch 95/100\n",
      "349/349 [==============================] - 1s 2ms/step - loss: 0.4485 - accuracy: 0.7825 - val_loss: 0.4592 - val_accuracy: 0.7837\n",
      "Epoch 96/100\n",
      "349/349 [==============================] - 1s 2ms/step - loss: 0.4480 - accuracy: 0.7846 - val_loss: 0.4466 - val_accuracy: 0.7950\n",
      "Epoch 97/100\n",
      "349/349 [==============================] - 1s 1ms/step - loss: 0.4484 - accuracy: 0.7845 - val_loss: 0.4739 - val_accuracy: 0.7737\n",
      "Epoch 98/100\n",
      "349/349 [==============================] - 0s 1ms/step - loss: 0.4485 - accuracy: 0.7814 - val_loss: 0.4637 - val_accuracy: 0.7800\n",
      "Epoch 99/100\n",
      "349/349 [==============================] - 1s 1ms/step - loss: 0.4484 - accuracy: 0.7835 - val_loss: 0.4515 - val_accuracy: 0.7867\n",
      "Epoch 100/100\n",
      "349/349 [==============================] - 1s 1ms/step - loss: 0.4483 - accuracy: 0.7840 - val_loss: 0.4787 - val_accuracy: 0.7713\n"
     ]
    }
   ],
   "source": [
    "dnn_history1 = dnn_model1.fit(\n",
    "    x_train_final, y_train_final, epochs=100, validation_data=(x_test_final, y_test_final)\n",
    ")"
   ],
   "metadata": {
    "collapsed": false,
    "pycharm": {
     "name": "#%%\n"
    }
   }
  },
  {
   "cell_type": "markdown",
   "source": [
    "Tuning 2"
   ],
   "metadata": {
    "collapsed": false,
    "pycharm": {
     "name": "#%% md\n"
    }
   }
  },
  {
   "cell_type": "code",
   "execution_count": 39,
   "outputs": [
    {
     "name": "stdout",
     "output_type": "stream",
     "text": [
      "Model: \"sequential_7\"\n",
      "_________________________________________________________________\n",
      " Layer (type)                Output Shape              Param #   \n",
      "=================================================================\n",
      " dense_23 (Dense)            (None, 6)                 78        \n",
      "                                                                 \n",
      " dense_24 (Dense)            (None, 6)                 42        \n",
      "                                                                 \n",
      " dense_25 (Dense)            (None, 1)                 7         \n",
      "                                                                 \n",
      "=================================================================\n",
      "Total params: 127\n",
      "Trainable params: 127\n",
      "Non-trainable params: 0\n",
      "_________________________________________________________________\n"
     ]
    }
   ],
   "source": [
    "dnn_model2 = Sequential()\n",
    "dnn_model2.add(\n",
    "    Dense(\n",
    "        units=6,\n",
    "        activation=\"relu\",\n",
    "        kernel_initializer=\"normal\",\n",
    "        input_shape=(x_train_final.shape[1],)\n",
    "    )\n",
    ")\n",
    "dnn_model2.add(\n",
    "    Dense(\n",
    "        units=6, activation=\"relu\", kernel_initializer=\"normal\"\n",
    "    )\n",
    ")\n",
    "dnn_model2.add(\n",
    "    Dense(\n",
    "        units=1, activation=\"sigmoid\", kernel_initializer=\"normal\"\n",
    "    )\n",
    ")\n",
    "dnn_model2.compile(\n",
    "    optimizer=\"adam\", loss=\"binary_crossentropy\", metrics=[\"accuracy\"]\n",
    ")\n",
    "\n",
    "dnn_model2.summary()"
   ],
   "metadata": {
    "collapsed": false,
    "pycharm": {
     "name": "#%%\n"
    }
   }
  },
  {
   "cell_type": "code",
   "execution_count": 40,
   "outputs": [
    {
     "name": "stdout",
     "output_type": "stream",
     "text": [
      "Epoch 1/100\n",
      "349/349 [==============================] - 2s 2ms/step - loss: 0.6363 - accuracy: 0.6716 - val_loss: 0.5519 - val_accuracy: 0.6973\n",
      "Epoch 2/100\n",
      "349/349 [==============================] - 1s 2ms/step - loss: 0.5465 - accuracy: 0.7305 - val_loss: 0.5698 - val_accuracy: 0.6983\n",
      "Epoch 3/100\n",
      "349/349 [==============================] - 1s 1ms/step - loss: 0.5240 - accuracy: 0.7465 - val_loss: 0.5250 - val_accuracy: 0.7413\n",
      "Epoch 4/100\n",
      "349/349 [==============================] - 1s 2ms/step - loss: 0.5052 - accuracy: 0.7583 - val_loss: 0.5554 - val_accuracy: 0.7173\n",
      "Epoch 5/100\n",
      "349/349 [==============================] - 1s 1ms/step - loss: 0.4896 - accuracy: 0.7667 - val_loss: 0.5081 - val_accuracy: 0.7433\n",
      "Epoch 6/100\n",
      "349/349 [==============================] - 1s 2ms/step - loss: 0.4786 - accuracy: 0.7684 - val_loss: 0.5079 - val_accuracy: 0.7457\n",
      "Epoch 7/100\n",
      "349/349 [==============================] - 1s 1ms/step - loss: 0.4714 - accuracy: 0.7715 - val_loss: 0.4917 - val_accuracy: 0.7553\n",
      "Epoch 8/100\n",
      "349/349 [==============================] - 1s 1ms/step - loss: 0.4680 - accuracy: 0.7727 - val_loss: 0.4893 - val_accuracy: 0.7577\n",
      "Epoch 9/100\n",
      "349/349 [==============================] - 0s 1ms/step - loss: 0.4654 - accuracy: 0.7753 - val_loss: 0.4894 - val_accuracy: 0.7553\n",
      "Epoch 10/100\n",
      "349/349 [==============================] - 1s 2ms/step - loss: 0.4635 - accuracy: 0.7757 - val_loss: 0.4889 - val_accuracy: 0.7547\n",
      "Epoch 11/100\n",
      "349/349 [==============================] - 1s 1ms/step - loss: 0.4623 - accuracy: 0.7753 - val_loss: 0.4621 - val_accuracy: 0.7713\n",
      "Epoch 12/100\n",
      "349/349 [==============================] - 1s 2ms/step - loss: 0.4611 - accuracy: 0.7780 - val_loss: 0.5079 - val_accuracy: 0.7390\n",
      "Epoch 13/100\n",
      "349/349 [==============================] - 0s 1ms/step - loss: 0.4599 - accuracy: 0.7779 - val_loss: 0.4823 - val_accuracy: 0.7540\n",
      "Epoch 14/100\n",
      "349/349 [==============================] - 0s 1ms/step - loss: 0.4595 - accuracy: 0.7786 - val_loss: 0.4715 - val_accuracy: 0.7643\n",
      "Epoch 15/100\n",
      "349/349 [==============================] - 0s 1ms/step - loss: 0.4588 - accuracy: 0.7799 - val_loss: 0.4769 - val_accuracy: 0.7623\n",
      "Epoch 16/100\n",
      "349/349 [==============================] - 0s 1ms/step - loss: 0.4583 - accuracy: 0.7811 - val_loss: 0.4746 - val_accuracy: 0.7630\n",
      "Epoch 17/100\n",
      "349/349 [==============================] - 1s 2ms/step - loss: 0.4575 - accuracy: 0.7773 - val_loss: 0.4677 - val_accuracy: 0.7650\n",
      "Epoch 18/100\n",
      "349/349 [==============================] - 0s 1ms/step - loss: 0.4567 - accuracy: 0.7815 - val_loss: 0.4633 - val_accuracy: 0.7717\n",
      "Epoch 19/100\n",
      "349/349 [==============================] - 0s 1ms/step - loss: 0.4557 - accuracy: 0.7800 - val_loss: 0.4906 - val_accuracy: 0.7503\n",
      "Epoch 20/100\n",
      "349/349 [==============================] - 0s 1ms/step - loss: 0.4558 - accuracy: 0.7802 - val_loss: 0.4683 - val_accuracy: 0.7653\n",
      "Epoch 21/100\n",
      "349/349 [==============================] - 1s 1ms/step - loss: 0.4548 - accuracy: 0.7810 - val_loss: 0.4666 - val_accuracy: 0.7693\n",
      "Epoch 22/100\n",
      "349/349 [==============================] - 1s 1ms/step - loss: 0.4542 - accuracy: 0.7825 - val_loss: 0.4371 - val_accuracy: 0.7920\n",
      "Epoch 23/100\n",
      "349/349 [==============================] - 1s 1ms/step - loss: 0.4541 - accuracy: 0.7820 - val_loss: 0.4657 - val_accuracy: 0.7710\n",
      "Epoch 24/100\n",
      "349/349 [==============================] - 1s 2ms/step - loss: 0.4533 - accuracy: 0.7805 - val_loss: 0.4569 - val_accuracy: 0.7803\n",
      "Epoch 25/100\n",
      "349/349 [==============================] - 0s 1ms/step - loss: 0.4527 - accuracy: 0.7840 - val_loss: 0.5104 - val_accuracy: 0.7383\n",
      "Epoch 26/100\n",
      "349/349 [==============================] - 0s 1ms/step - loss: 0.4519 - accuracy: 0.7837 - val_loss: 0.4761 - val_accuracy: 0.7640\n",
      "Epoch 27/100\n",
      "349/349 [==============================] - 0s 1ms/step - loss: 0.4513 - accuracy: 0.7825 - val_loss: 0.4544 - val_accuracy: 0.7797\n",
      "Epoch 28/100\n",
      "349/349 [==============================] - 1s 1ms/step - loss: 0.4518 - accuracy: 0.7835 - val_loss: 0.4766 - val_accuracy: 0.7663\n",
      "Epoch 29/100\n",
      "349/349 [==============================] - 0s 1ms/step - loss: 0.4505 - accuracy: 0.7830 - val_loss: 0.4754 - val_accuracy: 0.7620\n",
      "Epoch 30/100\n",
      "349/349 [==============================] - 0s 1ms/step - loss: 0.4498 - accuracy: 0.7853 - val_loss: 0.4825 - val_accuracy: 0.7583\n",
      "Epoch 31/100\n",
      "349/349 [==============================] - 0s 1ms/step - loss: 0.4493 - accuracy: 0.7861 - val_loss: 0.4711 - val_accuracy: 0.7650\n",
      "Epoch 32/100\n",
      "349/349 [==============================] - 0s 1ms/step - loss: 0.4485 - accuracy: 0.7875 - val_loss: 0.4434 - val_accuracy: 0.7840\n",
      "Epoch 33/100\n",
      "349/349 [==============================] - 0s 1ms/step - loss: 0.4484 - accuracy: 0.7856 - val_loss: 0.4602 - val_accuracy: 0.7700\n",
      "Epoch 34/100\n",
      "349/349 [==============================] - 1s 2ms/step - loss: 0.4477 - accuracy: 0.7898 - val_loss: 0.4872 - val_accuracy: 0.7570\n",
      "Epoch 35/100\n",
      "349/349 [==============================] - 0s 1ms/step - loss: 0.4476 - accuracy: 0.7873 - val_loss: 0.4819 - val_accuracy: 0.7587\n",
      "Epoch 36/100\n",
      "349/349 [==============================] - 0s 1ms/step - loss: 0.4469 - accuracy: 0.7898 - val_loss: 0.4768 - val_accuracy: 0.7633\n",
      "Epoch 37/100\n",
      "349/349 [==============================] - 1s 1ms/step - loss: 0.4473 - accuracy: 0.7881 - val_loss: 0.4682 - val_accuracy: 0.7693\n",
      "Epoch 38/100\n",
      "349/349 [==============================] - 1s 2ms/step - loss: 0.4462 - accuracy: 0.7889 - val_loss: 0.4939 - val_accuracy: 0.7540\n",
      "Epoch 39/100\n",
      "349/349 [==============================] - 0s 1ms/step - loss: 0.4465 - accuracy: 0.7907 - val_loss: 0.4711 - val_accuracy: 0.7673\n",
      "Epoch 40/100\n",
      "349/349 [==============================] - 1s 2ms/step - loss: 0.4457 - accuracy: 0.7893 - val_loss: 0.4571 - val_accuracy: 0.7743\n",
      "Epoch 41/100\n",
      "349/349 [==============================] - 1s 2ms/step - loss: 0.4456 - accuracy: 0.7907 - val_loss: 0.4573 - val_accuracy: 0.7783\n",
      "Epoch 42/100\n",
      "349/349 [==============================] - 1s 2ms/step - loss: 0.4454 - accuracy: 0.7878 - val_loss: 0.4571 - val_accuracy: 0.7790\n",
      "Epoch 43/100\n",
      "349/349 [==============================] - 0s 1ms/step - loss: 0.4453 - accuracy: 0.7899 - val_loss: 0.4633 - val_accuracy: 0.7747\n",
      "Epoch 44/100\n",
      "349/349 [==============================] - 1s 1ms/step - loss: 0.4445 - accuracy: 0.7910 - val_loss: 0.4822 - val_accuracy: 0.7610\n",
      "Epoch 45/100\n",
      "349/349 [==============================] - 0s 1ms/step - loss: 0.4449 - accuracy: 0.7911 - val_loss: 0.4723 - val_accuracy: 0.7700\n",
      "Epoch 46/100\n",
      "349/349 [==============================] - 1s 2ms/step - loss: 0.4441 - accuracy: 0.7892 - val_loss: 0.4846 - val_accuracy: 0.7607\n",
      "Epoch 47/100\n",
      "349/349 [==============================] - 1s 2ms/step - loss: 0.4437 - accuracy: 0.7915 - val_loss: 0.4641 - val_accuracy: 0.7743\n",
      "Epoch 48/100\n",
      "349/349 [==============================] - 0s 1ms/step - loss: 0.4440 - accuracy: 0.7892 - val_loss: 0.4799 - val_accuracy: 0.7613\n",
      "Epoch 49/100\n",
      "349/349 [==============================] - 1s 2ms/step - loss: 0.4432 - accuracy: 0.7916 - val_loss: 0.4860 - val_accuracy: 0.7583\n",
      "Epoch 50/100\n",
      "349/349 [==============================] - 1s 2ms/step - loss: 0.4435 - accuracy: 0.7915 - val_loss: 0.4561 - val_accuracy: 0.7803\n",
      "Epoch 51/100\n",
      "349/349 [==============================] - 0s 1ms/step - loss: 0.4439 - accuracy: 0.7898 - val_loss: 0.4584 - val_accuracy: 0.7810\n",
      "Epoch 52/100\n",
      "349/349 [==============================] - 1s 2ms/step - loss: 0.4425 - accuracy: 0.7919 - val_loss: 0.4707 - val_accuracy: 0.7737\n",
      "Epoch 53/100\n",
      "349/349 [==============================] - 1s 2ms/step - loss: 0.4429 - accuracy: 0.7921 - val_loss: 0.4844 - val_accuracy: 0.7680\n",
      "Epoch 54/100\n",
      "349/349 [==============================] - 0s 1ms/step - loss: 0.4430 - accuracy: 0.7907 - val_loss: 0.4725 - val_accuracy: 0.7720\n",
      "Epoch 55/100\n",
      "349/349 [==============================] - 0s 1ms/step - loss: 0.4425 - accuracy: 0.7923 - val_loss: 0.4899 - val_accuracy: 0.7620\n",
      "Epoch 56/100\n",
      "349/349 [==============================] - 0s 1ms/step - loss: 0.4426 - accuracy: 0.7915 - val_loss: 0.4721 - val_accuracy: 0.7687\n",
      "Epoch 57/100\n",
      "349/349 [==============================] - 1s 1ms/step - loss: 0.4428 - accuracy: 0.7917 - val_loss: 0.4750 - val_accuracy: 0.7720\n",
      "Epoch 58/100\n",
      "349/349 [==============================] - 1s 2ms/step - loss: 0.4424 - accuracy: 0.7922 - val_loss: 0.4775 - val_accuracy: 0.7717\n",
      "Epoch 59/100\n",
      "349/349 [==============================] - 1s 2ms/step - loss: 0.4422 - accuracy: 0.7915 - val_loss: 0.4906 - val_accuracy: 0.7647\n",
      "Epoch 60/100\n",
      "349/349 [==============================] - 1s 2ms/step - loss: 0.4422 - accuracy: 0.7929 - val_loss: 0.5005 - val_accuracy: 0.7570\n",
      "Epoch 61/100\n",
      "349/349 [==============================] - 1s 2ms/step - loss: 0.4424 - accuracy: 0.7910 - val_loss: 0.4626 - val_accuracy: 0.7813\n",
      "Epoch 62/100\n",
      "349/349 [==============================] - 0s 1ms/step - loss: 0.4420 - accuracy: 0.7898 - val_loss: 0.4820 - val_accuracy: 0.7667\n",
      "Epoch 63/100\n",
      "349/349 [==============================] - 1s 1ms/step - loss: 0.4419 - accuracy: 0.7905 - val_loss: 0.4952 - val_accuracy: 0.7587\n",
      "Epoch 64/100\n",
      "349/349 [==============================] - 0s 1ms/step - loss: 0.4417 - accuracy: 0.7914 - val_loss: 0.4895 - val_accuracy: 0.7660\n",
      "Epoch 65/100\n",
      "349/349 [==============================] - 0s 1ms/step - loss: 0.4420 - accuracy: 0.7905 - val_loss: 0.4641 - val_accuracy: 0.7843\n",
      "Epoch 66/100\n",
      "349/349 [==============================] - 0s 1ms/step - loss: 0.4418 - accuracy: 0.7925 - val_loss: 0.4583 - val_accuracy: 0.7873\n",
      "Epoch 67/100\n",
      "349/349 [==============================] - 0s 1ms/step - loss: 0.4422 - accuracy: 0.7927 - val_loss: 0.4770 - val_accuracy: 0.7737\n",
      "Epoch 68/100\n",
      "349/349 [==============================] - 1s 2ms/step - loss: 0.4416 - accuracy: 0.7916 - val_loss: 0.4842 - val_accuracy: 0.7727\n",
      "Epoch 69/100\n",
      "349/349 [==============================] - 0s 1ms/step - loss: 0.4417 - accuracy: 0.7916 - val_loss: 0.4706 - val_accuracy: 0.7793\n",
      "Epoch 70/100\n",
      "349/349 [==============================] - 1s 2ms/step - loss: 0.4418 - accuracy: 0.7930 - val_loss: 0.4543 - val_accuracy: 0.7850\n",
      "Epoch 71/100\n",
      "349/349 [==============================] - 0s 1ms/step - loss: 0.4415 - accuracy: 0.7932 - val_loss: 0.4510 - val_accuracy: 0.7907\n",
      "Epoch 72/100\n",
      "349/349 [==============================] - 1s 1ms/step - loss: 0.4416 - accuracy: 0.7915 - val_loss: 0.4662 - val_accuracy: 0.7807\n",
      "Epoch 73/100\n",
      "349/349 [==============================] - 1s 1ms/step - loss: 0.4409 - accuracy: 0.7924 - val_loss: 0.4610 - val_accuracy: 0.7857\n",
      "Epoch 74/100\n",
      "349/349 [==============================] - 1s 1ms/step - loss: 0.4411 - accuracy: 0.7924 - val_loss: 0.4559 - val_accuracy: 0.7903\n",
      "Epoch 75/100\n",
      "349/349 [==============================] - 0s 1ms/step - loss: 0.4414 - accuracy: 0.7936 - val_loss: 0.4828 - val_accuracy: 0.7703\n",
      "Epoch 76/100\n",
      "349/349 [==============================] - 0s 1ms/step - loss: 0.4406 - accuracy: 0.7932 - val_loss: 0.4783 - val_accuracy: 0.7727\n",
      "Epoch 77/100\n",
      "349/349 [==============================] - 0s 1ms/step - loss: 0.4408 - accuracy: 0.7910 - val_loss: 0.4627 - val_accuracy: 0.7837\n",
      "Epoch 78/100\n",
      "349/349 [==============================] - 0s 1ms/step - loss: 0.4414 - accuracy: 0.7917 - val_loss: 0.4626 - val_accuracy: 0.7830\n",
      "Epoch 79/100\n",
      "349/349 [==============================] - 0s 1ms/step - loss: 0.4408 - accuracy: 0.7913 - val_loss: 0.4694 - val_accuracy: 0.7827\n",
      "Epoch 80/100\n",
      "349/349 [==============================] - 0s 1ms/step - loss: 0.4405 - accuracy: 0.7925 - val_loss: 0.4667 - val_accuracy: 0.7807\n",
      "Epoch 81/100\n",
      "349/349 [==============================] - 0s 1ms/step - loss: 0.4403 - accuracy: 0.7923 - val_loss: 0.4737 - val_accuracy: 0.7783\n",
      "Epoch 82/100\n",
      "349/349 [==============================] - 0s 1ms/step - loss: 0.4403 - accuracy: 0.7929 - val_loss: 0.4734 - val_accuracy: 0.7767\n",
      "Epoch 83/100\n",
      "349/349 [==============================] - 0s 1ms/step - loss: 0.4404 - accuracy: 0.7930 - val_loss: 0.4557 - val_accuracy: 0.7917\n",
      "Epoch 84/100\n",
      "349/349 [==============================] - 0s 1ms/step - loss: 0.4405 - accuracy: 0.7935 - val_loss: 0.4561 - val_accuracy: 0.7893\n",
      "Epoch 85/100\n",
      "349/349 [==============================] - 0s 1ms/step - loss: 0.4401 - accuracy: 0.7905 - val_loss: 0.4669 - val_accuracy: 0.7863\n",
      "Epoch 86/100\n",
      "349/349 [==============================] - 1s 1ms/step - loss: 0.4401 - accuracy: 0.7929 - val_loss: 0.4667 - val_accuracy: 0.7837\n",
      "Epoch 87/100\n",
      "349/349 [==============================] - 1s 1ms/step - loss: 0.4399 - accuracy: 0.7922 - val_loss: 0.4586 - val_accuracy: 0.7903\n",
      "Epoch 88/100\n",
      "349/349 [==============================] - 0s 1ms/step - loss: 0.4398 - accuracy: 0.7951 - val_loss: 0.4694 - val_accuracy: 0.7773\n",
      "Epoch 89/100\n",
      "349/349 [==============================] - 1s 1ms/step - loss: 0.4397 - accuracy: 0.7905 - val_loss: 0.4820 - val_accuracy: 0.7727\n",
      "Epoch 90/100\n",
      "349/349 [==============================] - 0s 1ms/step - loss: 0.4397 - accuracy: 0.7954 - val_loss: 0.4553 - val_accuracy: 0.7920\n",
      "Epoch 91/100\n",
      "349/349 [==============================] - 1s 1ms/step - loss: 0.4396 - accuracy: 0.7932 - val_loss: 0.4457 - val_accuracy: 0.7943\n",
      "Epoch 92/100\n",
      "349/349 [==============================] - 1s 2ms/step - loss: 0.4393 - accuracy: 0.7959 - val_loss: 0.4726 - val_accuracy: 0.7833\n",
      "Epoch 93/100\n",
      "349/349 [==============================] - 1s 1ms/step - loss: 0.4394 - accuracy: 0.7947 - val_loss: 0.4795 - val_accuracy: 0.7803\n",
      "Epoch 94/100\n",
      "349/349 [==============================] - 1s 2ms/step - loss: 0.4394 - accuracy: 0.7927 - val_loss: 0.4498 - val_accuracy: 0.7910\n",
      "Epoch 95/100\n",
      "349/349 [==============================] - 0s 1ms/step - loss: 0.4395 - accuracy: 0.7936 - val_loss: 0.4660 - val_accuracy: 0.7857\n",
      "Epoch 96/100\n",
      "349/349 [==============================] - 0s 1ms/step - loss: 0.4392 - accuracy: 0.7931 - val_loss: 0.4682 - val_accuracy: 0.7847\n",
      "Epoch 97/100\n",
      "349/349 [==============================] - 0s 1ms/step - loss: 0.4391 - accuracy: 0.7933 - val_loss: 0.4358 - val_accuracy: 0.8007\n",
      "Epoch 98/100\n",
      "349/349 [==============================] - 0s 1ms/step - loss: 0.4395 - accuracy: 0.7926 - val_loss: 0.4483 - val_accuracy: 0.7917\n",
      "Epoch 99/100\n",
      "349/349 [==============================] - 0s 1ms/step - loss: 0.4394 - accuracy: 0.7928 - val_loss: 0.4754 - val_accuracy: 0.7793\n",
      "Epoch 100/100\n",
      "349/349 [==============================] - 0s 1ms/step - loss: 0.4392 - accuracy: 0.7923 - val_loss: 0.4681 - val_accuracy: 0.7820\n"
     ]
    }
   ],
   "source": [
    "dnn_history2 = dnn_model2.fit(\n",
    "    x_train_final, y_train_final, epochs=100, validation_data=(x_test_final, y_test_final)\n",
    ")"
   ],
   "metadata": {
    "collapsed": false,
    "pycharm": {
     "name": "#%%\n"
    }
   }
  },
  {
   "cell_type": "markdown",
   "source": [
    "Tuning 3"
   ],
   "metadata": {
    "collapsed": false,
    "pycharm": {
     "name": "#%% md\n"
    }
   }
  },
  {
   "cell_type": "code",
   "execution_count": 41,
   "outputs": [
    {
     "name": "stdout",
     "output_type": "stream",
     "text": [
      "Model: \"sequential_8\"\n",
      "_________________________________________________________________\n",
      " Layer (type)                Output Shape              Param #   \n",
      "=================================================================\n",
      " dense_26 (Dense)            (None, 6)                 78        \n",
      "                                                                 \n",
      " dense_27 (Dense)            (None, 6)                 42        \n",
      "                                                                 \n",
      " dense_28 (Dense)            (None, 3)                 21        \n",
      "                                                                 \n",
      " dense_29 (Dense)            (None, 1)                 4         \n",
      "                                                                 \n",
      "=================================================================\n",
      "Total params: 145\n",
      "Trainable params: 145\n",
      "Non-trainable params: 0\n",
      "_________________________________________________________________\n"
     ]
    }
   ],
   "source": [
    "dnn_model3 = Sequential()\n",
    "dnn_model3.add(\n",
    "    Dense(\n",
    "        units=6,\n",
    "        activation=\"relu\",\n",
    "        kernel_initializer=\"normal\",\n",
    "        input_shape=(x_train_final.shape[1],)\n",
    "    )\n",
    ")\n",
    "dnn_model3.add(\n",
    "    Dense(units=6, activation=\"relu\", kernel_initializer=\"normal\")\n",
    ")\n",
    "dnn_model3.add(\n",
    "    Dense(units=3, activation=\"relu\", kernel_initializer=\"normal\")\n",
    ")\n",
    "dnn_model3.add(\n",
    "    Dense(units=1, activation=\"sigmoid\", kernel_initializer=\"normal\")\n",
    ")\n",
    "dnn_model3.compile(\n",
    "    optimizer=\"adam\", loss=\"binary_crossentropy\", metrics=[\"accuracy\"]\n",
    ")\n",
    "\n",
    "dnn_model3.summary()"
   ],
   "metadata": {
    "collapsed": false,
    "pycharm": {
     "name": "#%%\n"
    }
   }
  },
  {
   "cell_type": "code",
   "execution_count": 42,
   "outputs": [
    {
     "name": "stdout",
     "output_type": "stream",
     "text": [
      "Epoch 1/100\n",
      "349/349 [==============================] - 1s 2ms/step - loss: 0.6551 - accuracy: 0.6081 - val_loss: 0.5156 - val_accuracy: 0.7353\n",
      "Epoch 2/100\n",
      "349/349 [==============================] - 1s 2ms/step - loss: 0.5709 - accuracy: 0.7457 - val_loss: 0.4898 - val_accuracy: 0.7403\n",
      "Epoch 3/100\n",
      "349/349 [==============================] - 0s 1ms/step - loss: 0.5373 - accuracy: 0.7619 - val_loss: 0.4776 - val_accuracy: 0.7553\n",
      "Epoch 4/100\n",
      "349/349 [==============================] - 1s 2ms/step - loss: 0.5167 - accuracy: 0.7690 - val_loss: 0.4761 - val_accuracy: 0.7533\n",
      "Epoch 5/100\n",
      "349/349 [==============================] - 1s 2ms/step - loss: 0.5043 - accuracy: 0.7761 - val_loss: 0.4711 - val_accuracy: 0.7660\n",
      "Epoch 6/100\n",
      "349/349 [==============================] - 1s 2ms/step - loss: 0.4941 - accuracy: 0.7772 - val_loss: 0.4938 - val_accuracy: 0.7463\n",
      "Epoch 7/100\n",
      "349/349 [==============================] - 1s 1ms/step - loss: 0.4857 - accuracy: 0.7774 - val_loss: 0.4477 - val_accuracy: 0.7853\n",
      "Epoch 8/100\n",
      "349/349 [==============================] - 1s 1ms/step - loss: 0.4793 - accuracy: 0.7773 - val_loss: 0.4713 - val_accuracy: 0.7727\n",
      "Epoch 9/100\n",
      "349/349 [==============================] - 1s 1ms/step - loss: 0.4746 - accuracy: 0.7790 - val_loss: 0.5074 - val_accuracy: 0.7413\n",
      "Epoch 10/100\n",
      "349/349 [==============================] - 1s 2ms/step - loss: 0.4708 - accuracy: 0.7807 - val_loss: 0.4677 - val_accuracy: 0.7777\n",
      "Epoch 11/100\n",
      "349/349 [==============================] - 1s 2ms/step - loss: 0.4675 - accuracy: 0.7821 - val_loss: 0.4821 - val_accuracy: 0.7653\n",
      "Epoch 12/100\n",
      "349/349 [==============================] - 1s 2ms/step - loss: 0.4648 - accuracy: 0.7844 - val_loss: 0.4851 - val_accuracy: 0.7670\n",
      "Epoch 13/100\n",
      "349/349 [==============================] - 1s 2ms/step - loss: 0.4617 - accuracy: 0.7852 - val_loss: 0.4906 - val_accuracy: 0.7650\n",
      "Epoch 14/100\n",
      "349/349 [==============================] - 1s 1ms/step - loss: 0.4598 - accuracy: 0.7867 - val_loss: 0.4632 - val_accuracy: 0.7863\n",
      "Epoch 15/100\n",
      "349/349 [==============================] - 1s 2ms/step - loss: 0.4578 - accuracy: 0.7865 - val_loss: 0.4429 - val_accuracy: 0.7987\n",
      "Epoch 16/100\n",
      "349/349 [==============================] - 1s 1ms/step - loss: 0.4568 - accuracy: 0.7867 - val_loss: 0.4725 - val_accuracy: 0.7787\n",
      "Epoch 17/100\n",
      "349/349 [==============================] - 0s 1ms/step - loss: 0.4561 - accuracy: 0.7878 - val_loss: 0.4680 - val_accuracy: 0.7837\n",
      "Epoch 18/100\n",
      "349/349 [==============================] - 1s 2ms/step - loss: 0.4539 - accuracy: 0.7872 - val_loss: 0.4837 - val_accuracy: 0.7733\n",
      "Epoch 19/100\n",
      "349/349 [==============================] - 0s 1ms/step - loss: 0.4534 - accuracy: 0.7876 - val_loss: 0.4812 - val_accuracy: 0.7767\n",
      "Epoch 20/100\n",
      "349/349 [==============================] - 1s 1ms/step - loss: 0.4521 - accuracy: 0.7888 - val_loss: 0.4795 - val_accuracy: 0.7770\n",
      "Epoch 21/100\n",
      "349/349 [==============================] - 1s 2ms/step - loss: 0.4521 - accuracy: 0.7867 - val_loss: 0.4648 - val_accuracy: 0.7850\n",
      "Epoch 22/100\n",
      "349/349 [==============================] - 1s 2ms/step - loss: 0.4510 - accuracy: 0.7884 - val_loss: 0.4594 - val_accuracy: 0.7890\n",
      "Epoch 23/100\n",
      "349/349 [==============================] - 1s 2ms/step - loss: 0.4500 - accuracy: 0.7884 - val_loss: 0.4905 - val_accuracy: 0.7670\n",
      "Epoch 24/100\n",
      "349/349 [==============================] - 1s 2ms/step - loss: 0.4503 - accuracy: 0.7905 - val_loss: 0.4838 - val_accuracy: 0.7730\n",
      "Epoch 25/100\n",
      "349/349 [==============================] - 0s 1ms/step - loss: 0.4486 - accuracy: 0.7890 - val_loss: 0.4652 - val_accuracy: 0.7833\n",
      "Epoch 26/100\n",
      "349/349 [==============================] - 1s 2ms/step - loss: 0.4488 - accuracy: 0.7898 - val_loss: 0.4929 - val_accuracy: 0.7687\n",
      "Epoch 27/100\n",
      "349/349 [==============================] - 1s 1ms/step - loss: 0.4486 - accuracy: 0.7886 - val_loss: 0.4866 - val_accuracy: 0.7727\n",
      "Epoch 28/100\n",
      "349/349 [==============================] - 0s 1ms/step - loss: 0.4475 - accuracy: 0.7907 - val_loss: 0.4947 - val_accuracy: 0.7663\n",
      "Epoch 29/100\n",
      "349/349 [==============================] - 0s 1ms/step - loss: 0.4467 - accuracy: 0.7896 - val_loss: 0.4721 - val_accuracy: 0.7820\n",
      "Epoch 30/100\n",
      "349/349 [==============================] - 1s 1ms/step - loss: 0.4468 - accuracy: 0.7897 - val_loss: 0.4652 - val_accuracy: 0.7870\n",
      "Epoch 31/100\n",
      "349/349 [==============================] - 0s 1ms/step - loss: 0.4467 - accuracy: 0.7909 - val_loss: 0.5049 - val_accuracy: 0.7650\n",
      "Epoch 32/100\n",
      "349/349 [==============================] - 1s 2ms/step - loss: 0.4463 - accuracy: 0.7911 - val_loss: 0.4579 - val_accuracy: 0.7893\n",
      "Epoch 33/100\n",
      "349/349 [==============================] - 0s 1ms/step - loss: 0.4452 - accuracy: 0.7927 - val_loss: 0.4348 - val_accuracy: 0.8077\n",
      "Epoch 34/100\n",
      "349/349 [==============================] - 1s 2ms/step - loss: 0.4456 - accuracy: 0.7911 - val_loss: 0.4560 - val_accuracy: 0.7903\n",
      "Epoch 35/100\n",
      "349/349 [==============================] - 1s 2ms/step - loss: 0.4444 - accuracy: 0.7911 - val_loss: 0.4755 - val_accuracy: 0.7807\n",
      "Epoch 36/100\n",
      "349/349 [==============================] - 1s 1ms/step - loss: 0.4448 - accuracy: 0.7928 - val_loss: 0.4870 - val_accuracy: 0.7747\n",
      "Epoch 37/100\n",
      "349/349 [==============================] - 1s 1ms/step - loss: 0.4454 - accuracy: 0.7911 - val_loss: 0.4345 - val_accuracy: 0.8037\n",
      "Epoch 38/100\n",
      "349/349 [==============================] - 1s 1ms/step - loss: 0.4447 - accuracy: 0.7907 - val_loss: 0.4711 - val_accuracy: 0.7883\n",
      "Epoch 39/100\n",
      "349/349 [==============================] - 1s 2ms/step - loss: 0.4439 - accuracy: 0.7918 - val_loss: 0.4665 - val_accuracy: 0.7853\n",
      "Epoch 40/100\n",
      "349/349 [==============================] - 0s 1ms/step - loss: 0.4433 - accuracy: 0.7905 - val_loss: 0.4557 - val_accuracy: 0.7920\n",
      "Epoch 41/100\n",
      "349/349 [==============================] - 1s 1ms/step - loss: 0.4436 - accuracy: 0.7921 - val_loss: 0.4628 - val_accuracy: 0.7903\n",
      "Epoch 42/100\n",
      "349/349 [==============================] - 1s 1ms/step - loss: 0.4428 - accuracy: 0.7901 - val_loss: 0.4692 - val_accuracy: 0.7840\n",
      "Epoch 43/100\n",
      "349/349 [==============================] - 1s 1ms/step - loss: 0.4424 - accuracy: 0.7924 - val_loss: 0.4509 - val_accuracy: 0.7950\n",
      "Epoch 44/100\n",
      "349/349 [==============================] - 1s 2ms/step - loss: 0.4420 - accuracy: 0.7915 - val_loss: 0.4681 - val_accuracy: 0.7920\n",
      "Epoch 45/100\n",
      "349/349 [==============================] - 1s 2ms/step - loss: 0.4423 - accuracy: 0.7906 - val_loss: 0.4740 - val_accuracy: 0.7840\n",
      "Epoch 46/100\n",
      "349/349 [==============================] - 1s 1ms/step - loss: 0.4418 - accuracy: 0.7932 - val_loss: 0.4804 - val_accuracy: 0.7817\n",
      "Epoch 47/100\n",
      "349/349 [==============================] - 0s 1ms/step - loss: 0.4420 - accuracy: 0.7919 - val_loss: 0.4861 - val_accuracy: 0.7750\n",
      "Epoch 48/100\n",
      "349/349 [==============================] - 1s 2ms/step - loss: 0.4419 - accuracy: 0.7926 - val_loss: 0.4899 - val_accuracy: 0.7743\n",
      "Epoch 49/100\n",
      "349/349 [==============================] - 1s 1ms/step - loss: 0.4413 - accuracy: 0.7906 - val_loss: 0.4762 - val_accuracy: 0.7780\n",
      "Epoch 50/100\n",
      "349/349 [==============================] - 1s 1ms/step - loss: 0.4409 - accuracy: 0.7924 - val_loss: 0.4756 - val_accuracy: 0.7803\n",
      "Epoch 51/100\n",
      "349/349 [==============================] - 1s 2ms/step - loss: 0.4409 - accuracy: 0.7907 - val_loss: 0.4697 - val_accuracy: 0.7870\n",
      "Epoch 52/100\n",
      "349/349 [==============================] - 1s 2ms/step - loss: 0.4397 - accuracy: 0.7920 - val_loss: 0.4583 - val_accuracy: 0.7897\n",
      "Epoch 53/100\n",
      "349/349 [==============================] - 1s 2ms/step - loss: 0.4400 - accuracy: 0.7910 - val_loss: 0.4613 - val_accuracy: 0.7920\n",
      "Epoch 54/100\n",
      "349/349 [==============================] - 1s 2ms/step - loss: 0.4398 - accuracy: 0.7911 - val_loss: 0.4534 - val_accuracy: 0.7947\n",
      "Epoch 55/100\n",
      "349/349 [==============================] - 1s 2ms/step - loss: 0.4398 - accuracy: 0.7927 - val_loss: 0.4668 - val_accuracy: 0.7843\n",
      "Epoch 56/100\n",
      "349/349 [==============================] - 1s 1ms/step - loss: 0.4394 - accuracy: 0.7919 - val_loss: 0.4437 - val_accuracy: 0.8030\n",
      "Epoch 57/100\n",
      "349/349 [==============================] - 1s 2ms/step - loss: 0.4389 - accuracy: 0.7919 - val_loss: 0.4538 - val_accuracy: 0.7950\n",
      "Epoch 58/100\n",
      "349/349 [==============================] - 1s 1ms/step - loss: 0.4388 - accuracy: 0.7930 - val_loss: 0.4779 - val_accuracy: 0.7817\n",
      "Epoch 59/100\n",
      "349/349 [==============================] - 1s 1ms/step - loss: 0.4383 - accuracy: 0.7906 - val_loss: 0.4986 - val_accuracy: 0.7683\n",
      "Epoch 60/100\n",
      "349/349 [==============================] - 1s 2ms/step - loss: 0.4383 - accuracy: 0.7911 - val_loss: 0.4785 - val_accuracy: 0.7803\n",
      "Epoch 61/100\n",
      "349/349 [==============================] - 0s 1ms/step - loss: 0.4378 - accuracy: 0.7915 - val_loss: 0.4807 - val_accuracy: 0.7763\n",
      "Epoch 62/100\n",
      "349/349 [==============================] - 0s 1ms/step - loss: 0.4379 - accuracy: 0.7915 - val_loss: 0.4381 - val_accuracy: 0.8027\n",
      "Epoch 63/100\n",
      "349/349 [==============================] - 1s 1ms/step - loss: 0.4377 - accuracy: 0.7919 - val_loss: 0.4472 - val_accuracy: 0.7957\n",
      "Epoch 64/100\n",
      "349/349 [==============================] - 1s 1ms/step - loss: 0.4363 - accuracy: 0.7940 - val_loss: 0.4691 - val_accuracy: 0.7890\n",
      "Epoch 65/100\n",
      "349/349 [==============================] - 0s 1ms/step - loss: 0.4369 - accuracy: 0.7919 - val_loss: 0.4462 - val_accuracy: 0.8003\n",
      "Epoch 66/100\n",
      "349/349 [==============================] - 1s 1ms/step - loss: 0.4370 - accuracy: 0.7916 - val_loss: 0.4467 - val_accuracy: 0.7990\n",
      "Epoch 67/100\n",
      "349/349 [==============================] - 1s 1ms/step - loss: 0.4364 - accuracy: 0.7927 - val_loss: 0.4821 - val_accuracy: 0.7790\n",
      "Epoch 68/100\n",
      "349/349 [==============================] - 1s 1ms/step - loss: 0.4362 - accuracy: 0.7958 - val_loss: 0.4594 - val_accuracy: 0.7913\n",
      "Epoch 69/100\n",
      "349/349 [==============================] - 0s 1ms/step - loss: 0.4364 - accuracy: 0.7929 - val_loss: 0.4525 - val_accuracy: 0.7953\n",
      "Epoch 70/100\n",
      "349/349 [==============================] - 1s 1ms/step - loss: 0.4361 - accuracy: 0.7932 - val_loss: 0.4203 - val_accuracy: 0.8110\n",
      "Epoch 71/100\n",
      "349/349 [==============================] - 0s 1ms/step - loss: 0.4361 - accuracy: 0.7935 - val_loss: 0.4219 - val_accuracy: 0.8127\n",
      "Epoch 72/100\n",
      "349/349 [==============================] - 0s 1ms/step - loss: 0.4358 - accuracy: 0.7947 - val_loss: 0.4491 - val_accuracy: 0.7950\n",
      "Epoch 73/100\n",
      "349/349 [==============================] - 0s 1ms/step - loss: 0.4363 - accuracy: 0.7935 - val_loss: 0.4653 - val_accuracy: 0.7877\n",
      "Epoch 74/100\n",
      "349/349 [==============================] - 0s 1ms/step - loss: 0.4359 - accuracy: 0.7948 - val_loss: 0.4652 - val_accuracy: 0.7893\n",
      "Epoch 75/100\n",
      "349/349 [==============================] - 0s 1ms/step - loss: 0.4350 - accuracy: 0.7949 - val_loss: 0.4609 - val_accuracy: 0.7920\n",
      "Epoch 76/100\n",
      "349/349 [==============================] - 0s 1ms/step - loss: 0.4344 - accuracy: 0.7944 - val_loss: 0.4534 - val_accuracy: 0.7983\n",
      "Epoch 77/100\n",
      "349/349 [==============================] - 0s 1ms/step - loss: 0.4351 - accuracy: 0.7959 - val_loss: 0.4523 - val_accuracy: 0.7967\n",
      "Epoch 78/100\n",
      "349/349 [==============================] - 1s 1ms/step - loss: 0.4350 - accuracy: 0.7959 - val_loss: 0.4494 - val_accuracy: 0.8010\n",
      "Epoch 79/100\n",
      "349/349 [==============================] - 1s 1ms/step - loss: 0.4351 - accuracy: 0.7945 - val_loss: 0.4437 - val_accuracy: 0.8007\n",
      "Epoch 80/100\n",
      "349/349 [==============================] - 0s 1ms/step - loss: 0.4358 - accuracy: 0.7921 - val_loss: 0.4298 - val_accuracy: 0.8090\n",
      "Epoch 81/100\n",
      "349/349 [==============================] - 1s 2ms/step - loss: 0.4344 - accuracy: 0.7945 - val_loss: 0.4849 - val_accuracy: 0.7830\n",
      "Epoch 82/100\n",
      "349/349 [==============================] - 0s 1ms/step - loss: 0.4344 - accuracy: 0.7932 - val_loss: 0.4480 - val_accuracy: 0.8010\n",
      "Epoch 83/100\n",
      "349/349 [==============================] - 0s 1ms/step - loss: 0.4345 - accuracy: 0.7953 - val_loss: 0.4695 - val_accuracy: 0.7850\n",
      "Epoch 84/100\n",
      "349/349 [==============================] - 0s 1ms/step - loss: 0.4348 - accuracy: 0.7933 - val_loss: 0.4930 - val_accuracy: 0.7763\n",
      "Epoch 85/100\n",
      "349/349 [==============================] - 0s 1ms/step - loss: 0.4347 - accuracy: 0.7950 - val_loss: 0.4428 - val_accuracy: 0.8003\n",
      "Epoch 86/100\n",
      "349/349 [==============================] - 0s 1ms/step - loss: 0.4344 - accuracy: 0.7954 - val_loss: 0.4702 - val_accuracy: 0.7850\n",
      "Epoch 87/100\n",
      "349/349 [==============================] - 0s 1ms/step - loss: 0.4347 - accuracy: 0.7908 - val_loss: 0.4478 - val_accuracy: 0.8000\n",
      "Epoch 88/100\n",
      "349/349 [==============================] - 1s 1ms/step - loss: 0.4349 - accuracy: 0.7914 - val_loss: 0.4721 - val_accuracy: 0.7840\n",
      "Epoch 89/100\n",
      "349/349 [==============================] - 0s 1ms/step - loss: 0.4347 - accuracy: 0.7923 - val_loss: 0.4383 - val_accuracy: 0.8057\n",
      "Epoch 90/100\n",
      "349/349 [==============================] - 0s 1ms/step - loss: 0.4338 - accuracy: 0.7949 - val_loss: 0.4608 - val_accuracy: 0.7947\n",
      "Epoch 91/100\n",
      "349/349 [==============================] - 1s 2ms/step - loss: 0.4343 - accuracy: 0.7928 - val_loss: 0.4648 - val_accuracy: 0.7857\n",
      "Epoch 92/100\n",
      "349/349 [==============================] - 1s 2ms/step - loss: 0.4347 - accuracy: 0.7920 - val_loss: 0.4896 - val_accuracy: 0.7810\n",
      "Epoch 93/100\n",
      "349/349 [==============================] - 0s 1ms/step - loss: 0.4338 - accuracy: 0.7940 - val_loss: 0.4616 - val_accuracy: 0.7910\n",
      "Epoch 94/100\n",
      "349/349 [==============================] - 1s 1ms/step - loss: 0.4331 - accuracy: 0.7921 - val_loss: 0.4919 - val_accuracy: 0.7737\n",
      "Epoch 95/100\n",
      "349/349 [==============================] - 0s 1ms/step - loss: 0.4343 - accuracy: 0.7941 - val_loss: 0.4520 - val_accuracy: 0.7950\n",
      "Epoch 96/100\n",
      "349/349 [==============================] - 0s 1ms/step - loss: 0.4339 - accuracy: 0.7947 - val_loss: 0.4527 - val_accuracy: 0.7997\n",
      "Epoch 97/100\n",
      "349/349 [==============================] - 0s 1ms/step - loss: 0.4338 - accuracy: 0.7964 - val_loss: 0.4553 - val_accuracy: 0.7933\n",
      "Epoch 98/100\n",
      "349/349 [==============================] - 0s 1ms/step - loss: 0.4338 - accuracy: 0.7933 - val_loss: 0.4592 - val_accuracy: 0.7893\n",
      "Epoch 99/100\n",
      "349/349 [==============================] - 1s 1ms/step - loss: 0.4335 - accuracy: 0.7956 - val_loss: 0.4612 - val_accuracy: 0.7923\n",
      "Epoch 100/100\n",
      "349/349 [==============================] - 1s 1ms/step - loss: 0.4339 - accuracy: 0.7940 - val_loss: 0.4622 - val_accuracy: 0.7913\n"
     ]
    }
   ],
   "source": [
    "dnn_history3 = dnn_model3.fit(\n",
    "    x_train_final, y_train_final, epochs=100, validation_data=(x_test_final, y_test_final)\n",
    ")"
   ],
   "metadata": {
    "collapsed": false,
    "pycharm": {
     "name": "#%%\n"
    }
   }
  },
  {
   "cell_type": "markdown",
   "source": [
    "Tuning 4"
   ],
   "metadata": {
    "collapsed": false,
    "pycharm": {
     "name": "#%% md\n"
    }
   }
  },
  {
   "cell_type": "code",
   "execution_count": 54,
   "outputs": [
    {
     "name": "stdout",
     "output_type": "stream",
     "text": [
      "Model: \"sequential_14\"\n",
      "_________________________________________________________________\n",
      " Layer (type)                Output Shape              Param #   \n",
      "=================================================================\n",
      " dense_45 (Dense)            (None, 6)                 78        \n",
      "                                                                 \n",
      " dropout_4 (Dropout)         (None, 6)                 0         \n",
      "                                                                 \n",
      " batch_normalization_4 (Batc  (None, 6)                24        \n",
      " hNormalization)                                                 \n",
      "                                                                 \n",
      " dense_46 (Dense)            (None, 3)                 21        \n",
      "                                                                 \n",
      " dropout_5 (Dropout)         (None, 3)                 0         \n",
      "                                                                 \n",
      " batch_normalization_5 (Batc  (None, 3)                12        \n",
      " hNormalization)                                                 \n",
      "                                                                 \n",
      " dense_47 (Dense)            (None, 1)                 4         \n",
      "                                                                 \n",
      "=================================================================\n",
      "Total params: 139\n",
      "Trainable params: 121\n",
      "Non-trainable params: 18\n",
      "_________________________________________________________________\n"
     ]
    }
   ],
   "source": [
    "dnn_model4 = Sequential()\n",
    "dnn_model4.add(\n",
    "    Dense(\n",
    "        units=6,\n",
    "        activation=\"relu\",\n",
    "        kernel_initializer=\"normal\",\n",
    "        input_shape=(x_train_final.shape[1],)\n",
    "    )\n",
    ")\n",
    "\n",
    "dnn_model4.add(Dropout(rate = 0.1))\n",
    "dnn_model4.add(BatchNormalization())\n",
    "\n",
    "dnn_model4.add(\n",
    "    Dense(units=3, activation=\"relu\", kernel_initializer=\"normal\")\n",
    ")\n",
    "\n",
    "dnn_model4.add(Dropout(rate = 0.1))\n",
    "dnn_model4.add(BatchNormalization())\n",
    "\n",
    "dnn_model4.add(\n",
    "    Dense(units=1, activation=\"sigmoid\", kernel_initializer=\"normal\")\n",
    ")\n",
    "dnn_model4.compile(\n",
    "    optimizer=\"adam\", loss=\"binary_crossentropy\", metrics=[\"accuracy\"]\n",
    ")\n",
    "\n",
    "dnn_model4.summary()"
   ],
   "metadata": {
    "collapsed": false,
    "pycharm": {
     "name": "#%%\n"
    }
   }
  },
  {
   "cell_type": "code",
   "execution_count": 55,
   "outputs": [
    {
     "name": "stdout",
     "output_type": "stream",
     "text": [
      "Epoch 1/100\n",
      "349/349 [==============================] - 2s 3ms/step - loss: 0.6145 - accuracy: 0.6941 - val_loss: 0.5911 - val_accuracy: 0.7427\n",
      "Epoch 2/100\n",
      "349/349 [==============================] - 1s 2ms/step - loss: 0.5359 - accuracy: 0.7356 - val_loss: 0.4800 - val_accuracy: 0.7763\n",
      "Epoch 3/100\n",
      "349/349 [==============================] - 1s 2ms/step - loss: 0.5189 - accuracy: 0.7444 - val_loss: 0.4654 - val_accuracy: 0.7830\n",
      "Epoch 4/100\n",
      "349/349 [==============================] - 1s 2ms/step - loss: 0.5100 - accuracy: 0.7504 - val_loss: 0.4857 - val_accuracy: 0.7703\n",
      "Epoch 5/100\n",
      "349/349 [==============================] - 1s 2ms/step - loss: 0.5134 - accuracy: 0.7473 - val_loss: 0.4639 - val_accuracy: 0.7963\n",
      "Epoch 6/100\n",
      "349/349 [==============================] - 1s 2ms/step - loss: 0.5100 - accuracy: 0.7497 - val_loss: 0.4689 - val_accuracy: 0.7803\n",
      "Epoch 7/100\n",
      "349/349 [==============================] - 1s 2ms/step - loss: 0.5021 - accuracy: 0.7586 - val_loss: 0.4799 - val_accuracy: 0.7713\n",
      "Epoch 8/100\n",
      "349/349 [==============================] - 1s 2ms/step - loss: 0.5062 - accuracy: 0.7562 - val_loss: 0.4587 - val_accuracy: 0.7907\n",
      "Epoch 9/100\n",
      "349/349 [==============================] - 1s 2ms/step - loss: 0.5054 - accuracy: 0.7531 - val_loss: 0.4755 - val_accuracy: 0.7797\n",
      "Epoch 10/100\n",
      "349/349 [==============================] - 1s 2ms/step - loss: 0.5075 - accuracy: 0.7530 - val_loss: 0.4729 - val_accuracy: 0.7750\n",
      "Epoch 11/100\n",
      "349/349 [==============================] - 1s 2ms/step - loss: 0.5003 - accuracy: 0.7590 - val_loss: 0.4659 - val_accuracy: 0.7730\n",
      "Epoch 12/100\n",
      "349/349 [==============================] - 1s 2ms/step - loss: 0.5046 - accuracy: 0.7562 - val_loss: 0.4842 - val_accuracy: 0.7710\n",
      "Epoch 13/100\n",
      "349/349 [==============================] - 1s 2ms/step - loss: 0.4997 - accuracy: 0.7565 - val_loss: 0.4556 - val_accuracy: 0.7943\n",
      "Epoch 14/100\n",
      "349/349 [==============================] - 1s 2ms/step - loss: 0.5070 - accuracy: 0.7513 - val_loss: 0.4697 - val_accuracy: 0.7780\n",
      "Epoch 15/100\n",
      "349/349 [==============================] - 1s 2ms/step - loss: 0.5005 - accuracy: 0.7590 - val_loss: 0.4516 - val_accuracy: 0.7963\n",
      "Epoch 16/100\n",
      "349/349 [==============================] - 1s 2ms/step - loss: 0.4988 - accuracy: 0.7554 - val_loss: 0.4617 - val_accuracy: 0.7840\n",
      "Epoch 17/100\n",
      "349/349 [==============================] - 1s 2ms/step - loss: 0.5038 - accuracy: 0.7538 - val_loss: 0.4624 - val_accuracy: 0.7843\n",
      "Epoch 18/100\n",
      "349/349 [==============================] - 1s 2ms/step - loss: 0.5014 - accuracy: 0.7556 - val_loss: 0.4586 - val_accuracy: 0.7857\n",
      "Epoch 19/100\n",
      "349/349 [==============================] - 1s 2ms/step - loss: 0.5035 - accuracy: 0.7546 - val_loss: 0.4747 - val_accuracy: 0.7793\n",
      "Epoch 20/100\n",
      "349/349 [==============================] - 1s 2ms/step - loss: 0.5000 - accuracy: 0.7573 - val_loss: 0.4690 - val_accuracy: 0.7783\n",
      "Epoch 21/100\n",
      "349/349 [==============================] - 1s 2ms/step - loss: 0.4980 - accuracy: 0.7611 - val_loss: 0.4695 - val_accuracy: 0.7823\n",
      "Epoch 22/100\n",
      "349/349 [==============================] - 1s 2ms/step - loss: 0.5018 - accuracy: 0.7582 - val_loss: 0.4551 - val_accuracy: 0.7980\n",
      "Epoch 23/100\n",
      "349/349 [==============================] - 1s 2ms/step - loss: 0.4985 - accuracy: 0.7583 - val_loss: 0.4635 - val_accuracy: 0.7830\n",
      "Epoch 24/100\n",
      "349/349 [==============================] - 1s 2ms/step - loss: 0.4966 - accuracy: 0.7613 - val_loss: 0.4738 - val_accuracy: 0.7800\n",
      "Epoch 25/100\n",
      "349/349 [==============================] - 1s 2ms/step - loss: 0.5007 - accuracy: 0.7559 - val_loss: 0.4680 - val_accuracy: 0.7773\n",
      "Epoch 26/100\n",
      "349/349 [==============================] - 1s 2ms/step - loss: 0.5043 - accuracy: 0.7530 - val_loss: 0.4610 - val_accuracy: 0.7847\n",
      "Epoch 27/100\n",
      "349/349 [==============================] - 1s 2ms/step - loss: 0.4994 - accuracy: 0.7613 - val_loss: 0.4745 - val_accuracy: 0.7820\n",
      "Epoch 28/100\n",
      "349/349 [==============================] - 1s 2ms/step - loss: 0.5012 - accuracy: 0.7600 - val_loss: 0.4566 - val_accuracy: 0.7897\n",
      "Epoch 29/100\n",
      "349/349 [==============================] - 1s 2ms/step - loss: 0.4999 - accuracy: 0.7591 - val_loss: 0.4558 - val_accuracy: 0.7837\n",
      "Epoch 30/100\n",
      "349/349 [==============================] - 1s 2ms/step - loss: 0.5018 - accuracy: 0.7592 - val_loss: 0.4658 - val_accuracy: 0.7807\n",
      "Epoch 31/100\n",
      "349/349 [==============================] - 1s 2ms/step - loss: 0.5089 - accuracy: 0.7521 - val_loss: 0.4513 - val_accuracy: 0.7917\n",
      "Epoch 32/100\n",
      "349/349 [==============================] - 1s 2ms/step - loss: 0.4987 - accuracy: 0.7595 - val_loss: 0.4599 - val_accuracy: 0.7870\n",
      "Epoch 33/100\n",
      "349/349 [==============================] - 1s 2ms/step - loss: 0.5039 - accuracy: 0.7580 - val_loss: 0.4617 - val_accuracy: 0.7857\n",
      "Epoch 34/100\n",
      "349/349 [==============================] - 1s 2ms/step - loss: 0.5058 - accuracy: 0.7572 - val_loss: 0.4758 - val_accuracy: 0.7813\n",
      "Epoch 35/100\n",
      "349/349 [==============================] - 1s 2ms/step - loss: 0.5026 - accuracy: 0.7553 - val_loss: 0.4711 - val_accuracy: 0.7817\n",
      "Epoch 36/100\n",
      "349/349 [==============================] - 1s 2ms/step - loss: 0.4978 - accuracy: 0.7603 - val_loss: 0.4778 - val_accuracy: 0.7717\n",
      "Epoch 37/100\n",
      "349/349 [==============================] - 1s 2ms/step - loss: 0.5044 - accuracy: 0.7581 - val_loss: 0.4513 - val_accuracy: 0.7963\n",
      "Epoch 38/100\n",
      "349/349 [==============================] - 1s 2ms/step - loss: 0.5011 - accuracy: 0.7571 - val_loss: 0.4567 - val_accuracy: 0.7870\n",
      "Epoch 39/100\n",
      "349/349 [==============================] - 1s 2ms/step - loss: 0.5022 - accuracy: 0.7556 - val_loss: 0.4751 - val_accuracy: 0.7757\n",
      "Epoch 40/100\n",
      "349/349 [==============================] - 1s 2ms/step - loss: 0.5060 - accuracy: 0.7520 - val_loss: 0.4585 - val_accuracy: 0.7820\n",
      "Epoch 41/100\n",
      "349/349 [==============================] - 1s 2ms/step - loss: 0.4980 - accuracy: 0.7601 - val_loss: 0.4710 - val_accuracy: 0.7780\n",
      "Epoch 42/100\n",
      "349/349 [==============================] - 1s 2ms/step - loss: 0.5020 - accuracy: 0.7554 - val_loss: 0.4560 - val_accuracy: 0.7853\n",
      "Epoch 43/100\n",
      "349/349 [==============================] - 1s 2ms/step - loss: 0.5018 - accuracy: 0.7615 - val_loss: 0.4530 - val_accuracy: 0.7910\n",
      "Epoch 44/100\n",
      "349/349 [==============================] - 1s 2ms/step - loss: 0.5011 - accuracy: 0.7556 - val_loss: 0.4629 - val_accuracy: 0.7837\n",
      "Epoch 45/100\n",
      "349/349 [==============================] - 1s 2ms/step - loss: 0.5022 - accuracy: 0.7570 - val_loss: 0.4693 - val_accuracy: 0.7780\n",
      "Epoch 46/100\n",
      "349/349 [==============================] - 1s 2ms/step - loss: 0.5008 - accuracy: 0.7573 - val_loss: 0.4630 - val_accuracy: 0.7753\n",
      "Epoch 47/100\n",
      "349/349 [==============================] - 1s 2ms/step - loss: 0.5008 - accuracy: 0.7587 - val_loss: 0.4680 - val_accuracy: 0.7707\n",
      "Epoch 48/100\n",
      "349/349 [==============================] - 1s 2ms/step - loss: 0.4987 - accuracy: 0.7581 - val_loss: 0.4652 - val_accuracy: 0.7787\n",
      "Epoch 49/100\n",
      "349/349 [==============================] - 1s 2ms/step - loss: 0.4977 - accuracy: 0.7614 - val_loss: 0.4776 - val_accuracy: 0.7730\n",
      "Epoch 50/100\n",
      "349/349 [==============================] - 1s 2ms/step - loss: 0.4957 - accuracy: 0.7651 - val_loss: 0.4480 - val_accuracy: 0.7910\n",
      "Epoch 51/100\n",
      "349/349 [==============================] - 1s 2ms/step - loss: 0.4974 - accuracy: 0.7571 - val_loss: 0.4555 - val_accuracy: 0.7827\n",
      "Epoch 52/100\n",
      "349/349 [==============================] - 1s 2ms/step - loss: 0.5021 - accuracy: 0.7609 - val_loss: 0.4550 - val_accuracy: 0.7797\n",
      "Epoch 53/100\n",
      "349/349 [==============================] - 1s 2ms/step - loss: 0.5034 - accuracy: 0.7572 - val_loss: 0.4496 - val_accuracy: 0.7950\n",
      "Epoch 54/100\n",
      "349/349 [==============================] - 1s 2ms/step - loss: 0.5029 - accuracy: 0.7539 - val_loss: 0.4608 - val_accuracy: 0.7833\n",
      "Epoch 55/100\n",
      "349/349 [==============================] - 1s 2ms/step - loss: 0.4998 - accuracy: 0.7566 - val_loss: 0.4726 - val_accuracy: 0.7757\n",
      "Epoch 56/100\n",
      "349/349 [==============================] - 1s 2ms/step - loss: 0.5017 - accuracy: 0.7563 - val_loss: 0.4754 - val_accuracy: 0.7710\n",
      "Epoch 57/100\n",
      "349/349 [==============================] - 1s 2ms/step - loss: 0.5035 - accuracy: 0.7570 - val_loss: 0.4700 - val_accuracy: 0.7757\n",
      "Epoch 58/100\n",
      "349/349 [==============================] - 1s 2ms/step - loss: 0.4994 - accuracy: 0.7579 - val_loss: 0.4786 - val_accuracy: 0.7683\n",
      "Epoch 59/100\n",
      "349/349 [==============================] - 1s 2ms/step - loss: 0.5003 - accuracy: 0.7568 - val_loss: 0.4543 - val_accuracy: 0.7843\n",
      "Epoch 60/100\n",
      "349/349 [==============================] - 1s 2ms/step - loss: 0.4992 - accuracy: 0.7593 - val_loss: 0.4701 - val_accuracy: 0.7760\n",
      "Epoch 61/100\n",
      "349/349 [==============================] - 1s 2ms/step - loss: 0.5017 - accuracy: 0.7545 - val_loss: 0.4689 - val_accuracy: 0.7773\n",
      "Epoch 62/100\n",
      "349/349 [==============================] - 1s 2ms/step - loss: 0.4993 - accuracy: 0.7617 - val_loss: 0.4558 - val_accuracy: 0.7897\n",
      "Epoch 63/100\n",
      "349/349 [==============================] - 1s 2ms/step - loss: 0.5028 - accuracy: 0.7514 - val_loss: 0.4539 - val_accuracy: 0.7913\n",
      "Epoch 64/100\n",
      "349/349 [==============================] - 1s 2ms/step - loss: 0.5000 - accuracy: 0.7609 - val_loss: 0.4599 - val_accuracy: 0.7873\n",
      "Epoch 65/100\n",
      "349/349 [==============================] - 1s 2ms/step - loss: 0.5022 - accuracy: 0.7576 - val_loss: 0.4649 - val_accuracy: 0.7777\n",
      "Epoch 66/100\n",
      "349/349 [==============================] - 1s 2ms/step - loss: 0.5026 - accuracy: 0.7544 - val_loss: 0.4628 - val_accuracy: 0.7850\n",
      "Epoch 67/100\n",
      "349/349 [==============================] - 1s 2ms/step - loss: 0.4997 - accuracy: 0.7552 - val_loss: 0.4409 - val_accuracy: 0.8000\n",
      "Epoch 68/100\n",
      "349/349 [==============================] - 1s 2ms/step - loss: 0.5029 - accuracy: 0.7524 - val_loss: 0.4647 - val_accuracy: 0.7820\n",
      "Epoch 69/100\n",
      "349/349 [==============================] - 1s 2ms/step - loss: 0.4982 - accuracy: 0.7602 - val_loss: 0.4654 - val_accuracy: 0.7773\n",
      "Epoch 70/100\n",
      "349/349 [==============================] - 1s 2ms/step - loss: 0.4984 - accuracy: 0.7586 - val_loss: 0.4639 - val_accuracy: 0.7797\n",
      "Epoch 71/100\n",
      "349/349 [==============================] - 1s 2ms/step - loss: 0.4984 - accuracy: 0.7600 - val_loss: 0.4748 - val_accuracy: 0.7710\n",
      "Epoch 72/100\n",
      "349/349 [==============================] - 1s 2ms/step - loss: 0.4979 - accuracy: 0.7616 - val_loss: 0.4653 - val_accuracy: 0.7770\n",
      "Epoch 73/100\n",
      "349/349 [==============================] - 1s 2ms/step - loss: 0.4934 - accuracy: 0.7626 - val_loss: 0.4649 - val_accuracy: 0.7783\n",
      "Epoch 74/100\n",
      "349/349 [==============================] - 1s 2ms/step - loss: 0.5037 - accuracy: 0.7548 - val_loss: 0.4682 - val_accuracy: 0.7757\n",
      "Epoch 75/100\n",
      "349/349 [==============================] - 1s 2ms/step - loss: 0.5057 - accuracy: 0.7563 - val_loss: 0.4599 - val_accuracy: 0.7830\n",
      "Epoch 76/100\n",
      "349/349 [==============================] - 1s 2ms/step - loss: 0.5007 - accuracy: 0.7577 - val_loss: 0.4727 - val_accuracy: 0.7767\n",
      "Epoch 77/100\n",
      "349/349 [==============================] - 1s 2ms/step - loss: 0.4998 - accuracy: 0.7583 - val_loss: 0.4495 - val_accuracy: 0.7913\n",
      "Epoch 78/100\n",
      "349/349 [==============================] - 1s 2ms/step - loss: 0.5013 - accuracy: 0.7612 - val_loss: 0.4576 - val_accuracy: 0.7830\n",
      "Epoch 79/100\n",
      "349/349 [==============================] - 1s 2ms/step - loss: 0.5002 - accuracy: 0.7597 - val_loss: 0.4810 - val_accuracy: 0.7660\n",
      "Epoch 80/100\n",
      "349/349 [==============================] - 1s 2ms/step - loss: 0.5013 - accuracy: 0.7558 - val_loss: 0.4732 - val_accuracy: 0.7787\n",
      "Epoch 81/100\n",
      "349/349 [==============================] - 1s 2ms/step - loss: 0.4995 - accuracy: 0.7566 - val_loss: 0.4522 - val_accuracy: 0.7957\n",
      "Epoch 82/100\n",
      "349/349 [==============================] - 1s 2ms/step - loss: 0.4967 - accuracy: 0.7612 - val_loss: 0.4731 - val_accuracy: 0.7797\n",
      "Epoch 83/100\n",
      "349/349 [==============================] - 1s 2ms/step - loss: 0.4991 - accuracy: 0.7599 - val_loss: 0.4660 - val_accuracy: 0.7807\n",
      "Epoch 84/100\n",
      "349/349 [==============================] - 1s 2ms/step - loss: 0.4967 - accuracy: 0.7560 - val_loss: 0.4600 - val_accuracy: 0.7910\n",
      "Epoch 85/100\n",
      "349/349 [==============================] - 1s 2ms/step - loss: 0.5006 - accuracy: 0.7578 - val_loss: 0.4598 - val_accuracy: 0.7910\n",
      "Epoch 86/100\n",
      "349/349 [==============================] - 1s 2ms/step - loss: 0.4996 - accuracy: 0.7609 - val_loss: 0.4717 - val_accuracy: 0.7807\n",
      "Epoch 87/100\n",
      "349/349 [==============================] - 1s 2ms/step - loss: 0.5006 - accuracy: 0.7565 - val_loss: 0.4562 - val_accuracy: 0.7897\n",
      "Epoch 88/100\n",
      "349/349 [==============================] - 1s 2ms/step - loss: 0.4997 - accuracy: 0.7563 - val_loss: 0.4667 - val_accuracy: 0.7847\n",
      "Epoch 89/100\n",
      "349/349 [==============================] - 1s 2ms/step - loss: 0.5010 - accuracy: 0.7585 - val_loss: 0.4600 - val_accuracy: 0.7783\n",
      "Epoch 90/100\n",
      "349/349 [==============================] - 1s 2ms/step - loss: 0.4992 - accuracy: 0.7575 - val_loss: 0.4546 - val_accuracy: 0.7843\n",
      "Epoch 91/100\n",
      "349/349 [==============================] - 1s 2ms/step - loss: 0.5001 - accuracy: 0.7564 - val_loss: 0.4755 - val_accuracy: 0.7703\n",
      "Epoch 92/100\n",
      "349/349 [==============================] - 1s 2ms/step - loss: 0.4977 - accuracy: 0.7606 - val_loss: 0.4619 - val_accuracy: 0.7840\n",
      "Epoch 93/100\n",
      "349/349 [==============================] - 1s 2ms/step - loss: 0.4970 - accuracy: 0.7613 - val_loss: 0.4702 - val_accuracy: 0.7823\n",
      "Epoch 94/100\n",
      "349/349 [==============================] - 1s 2ms/step - loss: 0.5058 - accuracy: 0.7538 - val_loss: 0.4536 - val_accuracy: 0.7913\n",
      "Epoch 95/100\n",
      "349/349 [==============================] - 1s 2ms/step - loss: 0.5044 - accuracy: 0.7561 - val_loss: 0.4594 - val_accuracy: 0.7917\n",
      "Epoch 96/100\n",
      "349/349 [==============================] - 1s 2ms/step - loss: 0.4971 - accuracy: 0.7637 - val_loss: 0.4707 - val_accuracy: 0.7800\n",
      "Epoch 97/100\n",
      "349/349 [==============================] - 1s 2ms/step - loss: 0.5000 - accuracy: 0.7598 - val_loss: 0.4607 - val_accuracy: 0.7830\n",
      "Epoch 98/100\n",
      "349/349 [==============================] - 1s 2ms/step - loss: 0.4959 - accuracy: 0.7583 - val_loss: 0.4722 - val_accuracy: 0.7760\n",
      "Epoch 99/100\n",
      "349/349 [==============================] - 1s 2ms/step - loss: 0.4962 - accuracy: 0.7580 - val_loss: 0.4703 - val_accuracy: 0.7807\n",
      "Epoch 100/100\n",
      "349/349 [==============================] - 1s 2ms/step - loss: 0.5004 - accuracy: 0.7594 - val_loss: 0.4473 - val_accuracy: 0.7950\n"
     ]
    }
   ],
   "source": [
    "dnn_history4 = dnn_model4.fit(\n",
    "    x_train_final, y_train_final, epochs=100, validation_data=(x_test_final, y_test_final)\n",
    ")"
   ],
   "metadata": {
    "collapsed": false,
    "pycharm": {
     "name": "#%%\n"
    }
   }
  },
  {
   "cell_type": "markdown",
   "source": [
    "Tuning 5"
   ],
   "metadata": {
    "collapsed": false,
    "pycharm": {
     "name": "#%% md\n"
    }
   }
  },
  {
   "cell_type": "code",
   "execution_count": 62,
   "outputs": [
    {
     "name": "stdout",
     "output_type": "stream",
     "text": [
      "Epoch 1/100\n",
      "349/349 [==============================] - 5s 3ms/step - loss: 0.5836 - accuracy: 0.7103 - val_loss: 0.5744 - val_accuracy: 0.7417\n",
      "Epoch 2/100\n",
      "349/349 [==============================] - 1s 2ms/step - loss: 0.5124 - accuracy: 0.7453 - val_loss: 0.4714 - val_accuracy: 0.7597\n",
      "Epoch 3/100\n",
      "349/349 [==============================] - 1s 2ms/step - loss: 0.4893 - accuracy: 0.7635 - val_loss: 0.5127 - val_accuracy: 0.7160\n",
      "Epoch 4/100\n",
      "349/349 [==============================] - 1s 2ms/step - loss: 0.4865 - accuracy: 0.7614 - val_loss: 0.4964 - val_accuracy: 0.7353\n",
      "Epoch 5/100\n",
      "349/349 [==============================] - 1s 2ms/step - loss: 0.4781 - accuracy: 0.7689 - val_loss: 0.4647 - val_accuracy: 0.7570\n",
      "Epoch 6/100\n",
      "349/349 [==============================] - 1s 2ms/step - loss: 0.4817 - accuracy: 0.7667 - val_loss: 0.4695 - val_accuracy: 0.7633\n",
      "Epoch 7/100\n",
      "349/349 [==============================] - 1s 2ms/step - loss: 0.4766 - accuracy: 0.7698 - val_loss: 0.4526 - val_accuracy: 0.7797\n",
      "Epoch 8/100\n",
      "349/349 [==============================] - 1s 2ms/step - loss: 0.4768 - accuracy: 0.7699 - val_loss: 0.4650 - val_accuracy: 0.7723\n",
      "Epoch 9/100\n",
      "349/349 [==============================] - 1s 2ms/step - loss: 0.4733 - accuracy: 0.7722 - val_loss: 0.4845 - val_accuracy: 0.7563\n",
      "Epoch 10/100\n",
      "349/349 [==============================] - 1s 2ms/step - loss: 0.4732 - accuracy: 0.7731 - val_loss: 0.4414 - val_accuracy: 0.7920\n",
      "Epoch 11/100\n",
      "349/349 [==============================] - 1s 2ms/step - loss: 0.4668 - accuracy: 0.7778 - val_loss: 0.4577 - val_accuracy: 0.7837\n",
      "Epoch 12/100\n",
      "349/349 [==============================] - 1s 2ms/step - loss: 0.4686 - accuracy: 0.7761 - val_loss: 0.4616 - val_accuracy: 0.7740\n",
      "Epoch 13/100\n",
      "349/349 [==============================] - 1s 2ms/step - loss: 0.4708 - accuracy: 0.7772 - val_loss: 0.4440 - val_accuracy: 0.7907\n",
      "Epoch 14/100\n",
      "349/349 [==============================] - 1s 2ms/step - loss: 0.4662 - accuracy: 0.7798 - val_loss: 0.4443 - val_accuracy: 0.7980\n",
      "Epoch 15/100\n",
      "349/349 [==============================] - 1s 2ms/step - loss: 0.4678 - accuracy: 0.7804 - val_loss: 0.4696 - val_accuracy: 0.7713\n",
      "Epoch 16/100\n",
      "349/349 [==============================] - 1s 2ms/step - loss: 0.4634 - accuracy: 0.7831 - val_loss: 0.4474 - val_accuracy: 0.7813\n",
      "Epoch 17/100\n",
      "349/349 [==============================] - 1s 2ms/step - loss: 0.4614 - accuracy: 0.7819 - val_loss: 0.4452 - val_accuracy: 0.7897\n",
      "Epoch 18/100\n",
      "349/349 [==============================] - 1s 2ms/step - loss: 0.4654 - accuracy: 0.7813 - val_loss: 0.4441 - val_accuracy: 0.7860\n",
      "Epoch 19/100\n",
      "349/349 [==============================] - 1s 2ms/step - loss: 0.4652 - accuracy: 0.7799 - val_loss: 0.4409 - val_accuracy: 0.7880\n",
      "Epoch 20/100\n",
      "349/349 [==============================] - 1s 2ms/step - loss: 0.4609 - accuracy: 0.7814 - val_loss: 0.4423 - val_accuracy: 0.7887\n",
      "Epoch 21/100\n",
      "349/349 [==============================] - 1s 2ms/step - loss: 0.4671 - accuracy: 0.7795 - val_loss: 0.4374 - val_accuracy: 0.7940\n",
      "Epoch 22/100\n",
      "349/349 [==============================] - 1s 2ms/step - loss: 0.4611 - accuracy: 0.7864 - val_loss: 0.4560 - val_accuracy: 0.7767\n",
      "Epoch 23/100\n",
      "349/349 [==============================] - 1s 2ms/step - loss: 0.4633 - accuracy: 0.7826 - val_loss: 0.4720 - val_accuracy: 0.7690\n",
      "Epoch 24/100\n",
      "349/349 [==============================] - 1s 2ms/step - loss: 0.4649 - accuracy: 0.7792 - val_loss: 0.4388 - val_accuracy: 0.7943\n",
      "Epoch 25/100\n",
      "349/349 [==============================] - 1s 2ms/step - loss: 0.4578 - accuracy: 0.7870 - val_loss: 0.4484 - val_accuracy: 0.7903\n",
      "Epoch 26/100\n",
      "349/349 [==============================] - 1s 2ms/step - loss: 0.4671 - accuracy: 0.7735 - val_loss: 0.4285 - val_accuracy: 0.7987\n",
      "Epoch 27/100\n",
      "349/349 [==============================] - 1s 2ms/step - loss: 0.4645 - accuracy: 0.7804 - val_loss: 0.4514 - val_accuracy: 0.7793\n",
      "Epoch 28/100\n",
      "349/349 [==============================] - 1s 2ms/step - loss: 0.4567 - accuracy: 0.7833 - val_loss: 0.4494 - val_accuracy: 0.7830\n",
      "Epoch 29/100\n",
      "349/349 [==============================] - 1s 2ms/step - loss: 0.4677 - accuracy: 0.7794 - val_loss: 0.4566 - val_accuracy: 0.7853\n",
      "Epoch 30/100\n",
      "349/349 [==============================] - 1s 2ms/step - loss: 0.4646 - accuracy: 0.7828 - val_loss: 0.4365 - val_accuracy: 0.7930\n",
      "Epoch 31/100\n",
      "349/349 [==============================] - 1s 2ms/step - loss: 0.4601 - accuracy: 0.7862 - val_loss: 0.4402 - val_accuracy: 0.7887\n",
      "Epoch 32/100\n",
      "349/349 [==============================] - 1s 2ms/step - loss: 0.4618 - accuracy: 0.7778 - val_loss: 0.4470 - val_accuracy: 0.7833\n",
      "Epoch 33/100\n",
      "349/349 [==============================] - 1s 2ms/step - loss: 0.4617 - accuracy: 0.7829 - val_loss: 0.4480 - val_accuracy: 0.7847\n",
      "Epoch 34/100\n",
      "349/349 [==============================] - 1s 2ms/step - loss: 0.4634 - accuracy: 0.7831 - val_loss: 0.4563 - val_accuracy: 0.7793\n",
      "Epoch 35/100\n",
      "349/349 [==============================] - 1s 2ms/step - loss: 0.4578 - accuracy: 0.7786 - val_loss: 0.4379 - val_accuracy: 0.7963\n",
      "Epoch 36/100\n",
      "349/349 [==============================] - 1s 2ms/step - loss: 0.4601 - accuracy: 0.7835 - val_loss: 0.4510 - val_accuracy: 0.7893\n",
      "Epoch 37/100\n",
      "349/349 [==============================] - 1s 2ms/step - loss: 0.4624 - accuracy: 0.7767 - val_loss: 0.4758 - val_accuracy: 0.7777\n",
      "Epoch 38/100\n",
      "349/349 [==============================] - 1s 2ms/step - loss: 0.4602 - accuracy: 0.7835 - val_loss: 0.4503 - val_accuracy: 0.7870\n",
      "Epoch 39/100\n",
      "349/349 [==============================] - 1s 2ms/step - loss: 0.4619 - accuracy: 0.7800 - val_loss: 0.4239 - val_accuracy: 0.8033\n",
      "Epoch 40/100\n",
      "349/349 [==============================] - 1s 2ms/step - loss: 0.4549 - accuracy: 0.7849 - val_loss: 0.4368 - val_accuracy: 0.7910\n",
      "Epoch 41/100\n",
      "349/349 [==============================] - 1s 2ms/step - loss: 0.4642 - accuracy: 0.7807 - val_loss: 0.4544 - val_accuracy: 0.7767\n",
      "Epoch 42/100\n",
      "349/349 [==============================] - 1s 2ms/step - loss: 0.4596 - accuracy: 0.7805 - val_loss: 0.4389 - val_accuracy: 0.7990\n",
      "Epoch 43/100\n",
      "349/349 [==============================] - 1s 2ms/step - loss: 0.4577 - accuracy: 0.7812 - val_loss: 0.4466 - val_accuracy: 0.7927\n",
      "Epoch 44/100\n",
      "349/349 [==============================] - 1s 2ms/step - loss: 0.4581 - accuracy: 0.7835 - val_loss: 0.4549 - val_accuracy: 0.7847\n",
      "Epoch 45/100\n",
      "349/349 [==============================] - 1s 2ms/step - loss: 0.4564 - accuracy: 0.7839 - val_loss: 0.4318 - val_accuracy: 0.8037\n",
      "Epoch 46/100\n",
      "349/349 [==============================] - 1s 2ms/step - loss: 0.4547 - accuracy: 0.7830 - val_loss: 0.4244 - val_accuracy: 0.8023\n",
      "Epoch 47/100\n",
      "349/349 [==============================] - 1s 2ms/step - loss: 0.4585 - accuracy: 0.7810 - val_loss: 0.4553 - val_accuracy: 0.7773\n",
      "Epoch 48/100\n",
      "349/349 [==============================] - 1s 2ms/step - loss: 0.4577 - accuracy: 0.7795 - val_loss: 0.4258 - val_accuracy: 0.8060\n",
      "Epoch 49/100\n",
      "349/349 [==============================] - 1s 2ms/step - loss: 0.4578 - accuracy: 0.7804 - val_loss: 0.4292 - val_accuracy: 0.8080\n",
      "Epoch 50/100\n",
      "349/349 [==============================] - 1s 2ms/step - loss: 0.4598 - accuracy: 0.7812 - val_loss: 0.4444 - val_accuracy: 0.7907\n",
      "Epoch 51/100\n",
      "349/349 [==============================] - 1s 2ms/step - loss: 0.4615 - accuracy: 0.7821 - val_loss: 0.4382 - val_accuracy: 0.7967\n",
      "Epoch 52/100\n",
      "349/349 [==============================] - 1s 2ms/step - loss: 0.4626 - accuracy: 0.7785 - val_loss: 0.4502 - val_accuracy: 0.7833\n",
      "Epoch 53/100\n",
      "349/349 [==============================] - 1s 2ms/step - loss: 0.4606 - accuracy: 0.7826 - val_loss: 0.4415 - val_accuracy: 0.7940\n",
      "Epoch 54/100\n",
      "349/349 [==============================] - 1s 2ms/step - loss: 0.4588 - accuracy: 0.7820 - val_loss: 0.4335 - val_accuracy: 0.7977\n",
      "Epoch 55/100\n",
      "349/349 [==============================] - 1s 2ms/step - loss: 0.4541 - accuracy: 0.7846 - val_loss: 0.4621 - val_accuracy: 0.7737\n",
      "Epoch 56/100\n",
      "349/349 [==============================] - 1s 2ms/step - loss: 0.4587 - accuracy: 0.7812 - val_loss: 0.4498 - val_accuracy: 0.7927\n",
      "Epoch 57/100\n",
      "349/349 [==============================] - 1s 2ms/step - loss: 0.4551 - accuracy: 0.7839 - val_loss: 0.4308 - val_accuracy: 0.8003\n",
      "Epoch 58/100\n",
      "349/349 [==============================] - 1s 2ms/step - loss: 0.4558 - accuracy: 0.7831 - val_loss: 0.4102 - val_accuracy: 0.8063\n",
      "Epoch 59/100\n",
      "349/349 [==============================] - 1s 2ms/step - loss: 0.4567 - accuracy: 0.7824 - val_loss: 0.4445 - val_accuracy: 0.7917\n",
      "Epoch 60/100\n",
      "349/349 [==============================] - 1s 2ms/step - loss: 0.4569 - accuracy: 0.7807 - val_loss: 0.4465 - val_accuracy: 0.7840\n",
      "Epoch 61/100\n",
      "349/349 [==============================] - 1s 2ms/step - loss: 0.4576 - accuracy: 0.7843 - val_loss: 0.4538 - val_accuracy: 0.7923\n",
      "Epoch 62/100\n",
      "349/349 [==============================] - 1s 2ms/step - loss: 0.4580 - accuracy: 0.7844 - val_loss: 0.4446 - val_accuracy: 0.7960\n",
      "Epoch 63/100\n",
      "349/349 [==============================] - 1s 2ms/step - loss: 0.4582 - accuracy: 0.7820 - val_loss: 0.4337 - val_accuracy: 0.8030\n",
      "Epoch 64/100\n",
      "349/349 [==============================] - 1s 2ms/step - loss: 0.4595 - accuracy: 0.7803 - val_loss: 0.4370 - val_accuracy: 0.8023\n",
      "Epoch 65/100\n",
      "349/349 [==============================] - 1s 2ms/step - loss: 0.4540 - accuracy: 0.7829 - val_loss: 0.4401 - val_accuracy: 0.7980\n",
      "Epoch 66/100\n",
      "349/349 [==============================] - 1s 2ms/step - loss: 0.4502 - accuracy: 0.7842 - val_loss: 0.4442 - val_accuracy: 0.7960\n",
      "Epoch 67/100\n",
      "349/349 [==============================] - 1s 2ms/step - loss: 0.4536 - accuracy: 0.7822 - val_loss: 0.4209 - val_accuracy: 0.8033\n",
      "Epoch 68/100\n",
      "349/349 [==============================] - 1s 2ms/step - loss: 0.4550 - accuracy: 0.7860 - val_loss: 0.4457 - val_accuracy: 0.7863\n",
      "Epoch 69/100\n",
      "349/349 [==============================] - 1s 2ms/step - loss: 0.4540 - accuracy: 0.7837 - val_loss: 0.4246 - val_accuracy: 0.8033\n",
      "Epoch 70/100\n",
      "349/349 [==============================] - 1s 2ms/step - loss: 0.4543 - accuracy: 0.7847 - val_loss: 0.4622 - val_accuracy: 0.7760\n",
      "Epoch 71/100\n",
      "349/349 [==============================] - 1s 2ms/step - loss: 0.4589 - accuracy: 0.7847 - val_loss: 0.4452 - val_accuracy: 0.7933\n",
      "Epoch 72/100\n",
      "349/349 [==============================] - 1s 2ms/step - loss: 0.4553 - accuracy: 0.7826 - val_loss: 0.4429 - val_accuracy: 0.7873\n",
      "Epoch 73/100\n",
      "349/349 [==============================] - 1s 2ms/step - loss: 0.4589 - accuracy: 0.7796 - val_loss: 0.4234 - val_accuracy: 0.7990\n",
      "Epoch 74/100\n",
      "349/349 [==============================] - 1s 2ms/step - loss: 0.4549 - accuracy: 0.7864 - val_loss: 0.4404 - val_accuracy: 0.7920\n",
      "Epoch 75/100\n",
      "349/349 [==============================] - 1s 2ms/step - loss: 0.4589 - accuracy: 0.7861 - val_loss: 0.4192 - val_accuracy: 0.8167\n",
      "Epoch 76/100\n",
      "349/349 [==============================] - 1s 2ms/step - loss: 0.4566 - accuracy: 0.7872 - val_loss: 0.4403 - val_accuracy: 0.7857\n",
      "Epoch 77/100\n",
      "349/349 [==============================] - 1s 2ms/step - loss: 0.4575 - accuracy: 0.7847 - val_loss: 0.4438 - val_accuracy: 0.7857\n",
      "Epoch 78/100\n",
      "349/349 [==============================] - 1s 2ms/step - loss: 0.4598 - accuracy: 0.7804 - val_loss: 0.4412 - val_accuracy: 0.7893\n",
      "Epoch 79/100\n",
      "349/349 [==============================] - 1s 2ms/step - loss: 0.4526 - accuracy: 0.7863 - val_loss: 0.4445 - val_accuracy: 0.7933\n",
      "Epoch 80/100\n",
      "349/349 [==============================] - 1s 2ms/step - loss: 0.4514 - accuracy: 0.7864 - val_loss: 0.4218 - val_accuracy: 0.8127\n",
      "Epoch 81/100\n",
      "349/349 [==============================] - 1s 2ms/step - loss: 0.4556 - accuracy: 0.7840 - val_loss: 0.4402 - val_accuracy: 0.7957\n",
      "Epoch 82/100\n",
      "349/349 [==============================] - 1s 2ms/step - loss: 0.4566 - accuracy: 0.7846 - val_loss: 0.4294 - val_accuracy: 0.7997\n",
      "Epoch 83/100\n",
      "349/349 [==============================] - 1s 2ms/step - loss: 0.4558 - accuracy: 0.7814 - val_loss: 0.4441 - val_accuracy: 0.7940\n",
      "Epoch 84/100\n",
      "349/349 [==============================] - 1s 2ms/step - loss: 0.4582 - accuracy: 0.7847 - val_loss: 0.4486 - val_accuracy: 0.7783\n",
      "Epoch 85/100\n",
      "349/349 [==============================] - 1s 2ms/step - loss: 0.4562 - accuracy: 0.7790 - val_loss: 0.4483 - val_accuracy: 0.7897\n",
      "Epoch 86/100\n",
      "349/349 [==============================] - 1s 2ms/step - loss: 0.4553 - accuracy: 0.7872 - val_loss: 0.4357 - val_accuracy: 0.7940\n",
      "Epoch 87/100\n",
      "349/349 [==============================] - 1s 2ms/step - loss: 0.4619 - accuracy: 0.7820 - val_loss: 0.4552 - val_accuracy: 0.7817\n",
      "Epoch 88/100\n",
      "349/349 [==============================] - 1s 2ms/step - loss: 0.4605 - accuracy: 0.7808 - val_loss: 0.4348 - val_accuracy: 0.7890\n",
      "Epoch 89/100\n",
      "349/349 [==============================] - 1s 2ms/step - loss: 0.4559 - accuracy: 0.7870 - val_loss: 0.4420 - val_accuracy: 0.7900\n",
      "Epoch 90/100\n",
      "349/349 [==============================] - 1s 2ms/step - loss: 0.4542 - accuracy: 0.7879 - val_loss: 0.4400 - val_accuracy: 0.7867\n",
      "Epoch 91/100\n",
      "349/349 [==============================] - 1s 2ms/step - loss: 0.4546 - accuracy: 0.7813 - val_loss: 0.4457 - val_accuracy: 0.7927\n",
      "Epoch 92/100\n",
      "349/349 [==============================] - 1s 2ms/step - loss: 0.4630 - accuracy: 0.7797 - val_loss: 0.4532 - val_accuracy: 0.7890\n",
      "Epoch 93/100\n",
      "349/349 [==============================] - 1s 2ms/step - loss: 0.4556 - accuracy: 0.7847 - val_loss: 0.4379 - val_accuracy: 0.7920\n",
      "Epoch 94/100\n",
      "349/349 [==============================] - 1s 2ms/step - loss: 0.4502 - accuracy: 0.7873 - val_loss: 0.4206 - val_accuracy: 0.8110\n",
      "Epoch 95/100\n",
      "349/349 [==============================] - 1s 2ms/step - loss: 0.4554 - accuracy: 0.7873 - val_loss: 0.4359 - val_accuracy: 0.7970\n",
      "Epoch 96/100\n",
      "349/349 [==============================] - 1s 2ms/step - loss: 0.4543 - accuracy: 0.7837 - val_loss: 0.4540 - val_accuracy: 0.7820\n",
      "Epoch 97/100\n",
      "349/349 [==============================] - 1s 2ms/step - loss: 0.4582 - accuracy: 0.7819 - val_loss: 0.4562 - val_accuracy: 0.7823\n",
      "Epoch 98/100\n",
      "349/349 [==============================] - 1s 2ms/step - loss: 0.4582 - accuracy: 0.7829 - val_loss: 0.4238 - val_accuracy: 0.8047\n",
      "Epoch 99/100\n",
      "349/349 [==============================] - 1s 2ms/step - loss: 0.4576 - accuracy: 0.7822 - val_loss: 0.4440 - val_accuracy: 0.7920\n",
      "Epoch 100/100\n",
      "349/349 [==============================] - 1s 2ms/step - loss: 0.4545 - accuracy: 0.7805 - val_loss: 0.4514 - val_accuracy: 0.7937\n"
     ]
    }
   ],
   "source": [
    "model = Sequential()\n",
    "\n",
    "# adding the first input layer and the first hidden layer\n",
    "model.add(Dense(12, kernel_initializer = 'normal', activation = 'relu', input_shape = (x_train_final.shape[1],)))\n",
    "\n",
    "# adding batch normalization and dropout layer\n",
    "model.add(Dropout(rate = 0.1))\n",
    "model.add(BatchNormalization())\n",
    "\n",
    "# adding the third hidden layer\n",
    "model.add(Dense(6, kernel_initializer = 'normal', activation = 'relu'))\n",
    "\n",
    "# adding batch normalization and dropout layer\n",
    "model.add(Dropout(rate = 0.1))\n",
    "model.add(BatchNormalization())\n",
    "\n",
    "# adding the output layer\n",
    "model.add(Dense(1, kernel_initializer = 'normal', activation = 'sigmoid'))\n",
    "\n",
    "# compiling the model\n",
    "model.compile(optimizer = 'adam', loss = 'binary_crossentropy', metrics = ['accuracy'])\n",
    "\n",
    "# fitting the model to the training set\n",
    "model_history = model.fit(\n",
    "    x_train_final, y_train_final, validation_data=(x_test_final, y_test_final), epochs=100\n",
    ")"
   ],
   "metadata": {
    "collapsed": false,
    "pycharm": {
     "name": "#%%\n"
    }
   }
  },
  {
   "cell_type": "markdown",
   "metadata": {
    "pycharm": {
     "name": "#%% md\n"
    }
   },
   "source": [
    "### 4.3.3 Final Model <a id=\"final_model_3\"/>"
   ]
  },
  {
   "cell_type": "code",
   "execution_count": null,
   "metadata": {
    "pycharm": {
     "name": "#%%\n"
    }
   },
   "outputs": [],
   "source": []
  }
 ],
 "metadata": {
  "kernelspec": {
   "display_name": "Python 3 (ipykernel)",
   "language": "python",
   "name": "python3"
  },
  "language_info": {
   "codemirror_mode": {
    "name": "ipython",
    "version": 3
   },
   "file_extension": ".py",
   "mimetype": "text/x-python",
   "name": "python",
   "nbconvert_exporter": "python",
   "pygments_lexer": "ipython3",
   "version": "3.10.0b3"
  }
 },
 "nbformat": 4,
 "nbformat_minor": 1
}